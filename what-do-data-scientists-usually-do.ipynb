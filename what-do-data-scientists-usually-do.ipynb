{
 "cells": [
  {
   "cell_type": "code",
   "execution_count": 1,
   "id": "f5c58a10",
   "metadata": {
    "_cell_guid": "b1076dfc-b9ad-4769-8c92-a6c4dae69d19",
    "_uuid": "8f2839f25d086af736a60e9eeb907d3b93b6e0e5",
    "execution": {
     "iopub.execute_input": "2022-07-10T12:16:23.438246Z",
     "iopub.status.busy": "2022-07-10T12:16:23.437101Z",
     "iopub.status.idle": "2022-07-10T12:16:24.650774Z",
     "shell.execute_reply": "2022-07-10T12:16:24.649676Z"
    },
    "papermill": {
     "duration": 1.225316,
     "end_time": "2022-07-10T12:16:24.653275",
     "exception": false,
     "start_time": "2022-07-10T12:16:23.427959",
     "status": "completed"
    },
    "tags": []
   },
   "outputs": [
    {
     "name": "stdout",
     "output_type": "stream",
     "text": [
      "/kaggle/input/kaggle-survey-2021/kaggle_survey_2021_responses.csv\n",
      "/kaggle/input/kaggle-survey-2021/supplementary_data/kaggle_survey_2021_methodology.pdf\n",
      "/kaggle/input/kaggle-survey-2021/supplementary_data/kaggle_survey_2021_answer_choices.pdf\n"
     ]
    }
   ],
   "source": [
    "# This Python 3 environment comes with many helpful analytics libraries installed\n",
    "# It is defined by the kaggle/python Docker image: https://github.com/kaggle/docker-python\n",
    "# For example, here's several helpful packages to load\n",
    "\n",
    "import numpy as np # linear algebra\n",
    "import pandas as pd # data processing, CSV file I/O (e.g. pd.read_csv)\n",
    "import matplotlib.pyplot as plt\n",
    "from sklearn.cluster import KMeans\n",
    "from sklearn.decomposition import PCA\n",
    "\n",
    "\n",
    "# Input data files are available in the read-only \"../input/\" directory\n",
    "# For example, running this (by clicking run or pressing Shift+Enter) will list all files under the input directory\n",
    "\n",
    "import os\n",
    "for dirname, _, filenames in os.walk('/kaggle/input'):\n",
    "    for filename in filenames:\n",
    "        print(os.path.join(dirname, filename))\n",
    "\n",
    "# You can write up to 20GB to the current directory (/kaggle/working/) that gets preserved as output when you create a version using \"Save & Run All\" \n",
    "# You can also write temporary files to /kaggle/temp/, but they won't be saved outside of the current session"
   ]
  },
  {
   "cell_type": "code",
   "execution_count": 2,
   "id": "3eba92a8",
   "metadata": {
    "execution": {
     "iopub.execute_input": "2022-07-10T12:16:24.670040Z",
     "iopub.status.busy": "2022-07-10T12:16:24.669438Z",
     "iopub.status.idle": "2022-07-10T12:16:26.070491Z",
     "shell.execute_reply": "2022-07-10T12:16:26.069549Z"
    },
    "papermill": {
     "duration": 1.411998,
     "end_time": "2022-07-10T12:16:26.072985",
     "exception": false,
     "start_time": "2022-07-10T12:16:24.660987",
     "status": "completed"
    },
    "tags": []
   },
   "outputs": [],
   "source": [
    "# load dataset\n",
    "data = pd.read_csv(\"../input/kaggle-survey-2021/kaggle_survey_2021_responses.csv\", low_memory = False)"
   ]
  },
  {
   "cell_type": "code",
   "execution_count": 3,
   "id": "45a01432",
   "metadata": {
    "execution": {
     "iopub.execute_input": "2022-07-10T12:16:26.089092Z",
     "iopub.status.busy": "2022-07-10T12:16:26.088396Z",
     "iopub.status.idle": "2022-07-10T12:16:26.119910Z",
     "shell.execute_reply": "2022-07-10T12:16:26.118778Z"
    },
    "papermill": {
     "duration": 0.041757,
     "end_time": "2022-07-10T12:16:26.122168",
     "exception": false,
     "start_time": "2022-07-10T12:16:26.080411",
     "status": "completed"
    },
    "tags": []
   },
   "outputs": [
    {
     "data": {
      "text/html": [
       "<div>\n",
       "<style scoped>\n",
       "    .dataframe tbody tr th:only-of-type {\n",
       "        vertical-align: middle;\n",
       "    }\n",
       "\n",
       "    .dataframe tbody tr th {\n",
       "        vertical-align: top;\n",
       "    }\n",
       "\n",
       "    .dataframe thead th {\n",
       "        text-align: right;\n",
       "    }\n",
       "</style>\n",
       "<table border=\"1\" class=\"dataframe\">\n",
       "  <thead>\n",
       "    <tr style=\"text-align: right;\">\n",
       "      <th></th>\n",
       "      <th>Time from Start to Finish (seconds)</th>\n",
       "      <th>Q1</th>\n",
       "      <th>Q2</th>\n",
       "      <th>Q3</th>\n",
       "      <th>Q4</th>\n",
       "      <th>Q5</th>\n",
       "      <th>Q6</th>\n",
       "      <th>Q7_Part_1</th>\n",
       "      <th>Q7_Part_2</th>\n",
       "      <th>Q7_Part_3</th>\n",
       "      <th>...</th>\n",
       "      <th>Q38_B_Part_3</th>\n",
       "      <th>Q38_B_Part_4</th>\n",
       "      <th>Q38_B_Part_5</th>\n",
       "      <th>Q38_B_Part_6</th>\n",
       "      <th>Q38_B_Part_7</th>\n",
       "      <th>Q38_B_Part_8</th>\n",
       "      <th>Q38_B_Part_9</th>\n",
       "      <th>Q38_B_Part_10</th>\n",
       "      <th>Q38_B_Part_11</th>\n",
       "      <th>Q38_B_OTHER</th>\n",
       "    </tr>\n",
       "  </thead>\n",
       "  <tbody>\n",
       "    <tr>\n",
       "      <th>0</th>\n",
       "      <td>Duration (in seconds)</td>\n",
       "      <td>What is your age (# years)?</td>\n",
       "      <td>What is your gender? - Selected Choice</td>\n",
       "      <td>In which country do you currently reside?</td>\n",
       "      <td>What is the highest level of formal education ...</td>\n",
       "      <td>Select the title most similar to your current ...</td>\n",
       "      <td>For how many years have you been writing code ...</td>\n",
       "      <td>What programming languages do you use on a reg...</td>\n",
       "      <td>What programming languages do you use on a reg...</td>\n",
       "      <td>What programming languages do you use on a reg...</td>\n",
       "      <td>...</td>\n",
       "      <td>In the next 2 years, do you hope to become mor...</td>\n",
       "      <td>In the next 2 years, do you hope to become mor...</td>\n",
       "      <td>In the next 2 years, do you hope to become mor...</td>\n",
       "      <td>In the next 2 years, do you hope to become mor...</td>\n",
       "      <td>In the next 2 years, do you hope to become mor...</td>\n",
       "      <td>In the next 2 years, do you hope to become mor...</td>\n",
       "      <td>In the next 2 years, do you hope to become mor...</td>\n",
       "      <td>In the next 2 years, do you hope to become mor...</td>\n",
       "      <td>In the next 2 years, do you hope to become mor...</td>\n",
       "      <td>In the next 2 years, do you hope to become mor...</td>\n",
       "    </tr>\n",
       "    <tr>\n",
       "      <th>1</th>\n",
       "      <td>910</td>\n",
       "      <td>50-54</td>\n",
       "      <td>Man</td>\n",
       "      <td>India</td>\n",
       "      <td>Bachelor’s degree</td>\n",
       "      <td>Other</td>\n",
       "      <td>5-10 years</td>\n",
       "      <td>Python</td>\n",
       "      <td>R</td>\n",
       "      <td>NaN</td>\n",
       "      <td>...</td>\n",
       "      <td>NaN</td>\n",
       "      <td>NaN</td>\n",
       "      <td>NaN</td>\n",
       "      <td>NaN</td>\n",
       "      <td>NaN</td>\n",
       "      <td>NaN</td>\n",
       "      <td>NaN</td>\n",
       "      <td>NaN</td>\n",
       "      <td>NaN</td>\n",
       "      <td>NaN</td>\n",
       "    </tr>\n",
       "    <tr>\n",
       "      <th>2</th>\n",
       "      <td>784</td>\n",
       "      <td>50-54</td>\n",
       "      <td>Man</td>\n",
       "      <td>Indonesia</td>\n",
       "      <td>Master’s degree</td>\n",
       "      <td>Program/Project Manager</td>\n",
       "      <td>20+ years</td>\n",
       "      <td>NaN</td>\n",
       "      <td>NaN</td>\n",
       "      <td>SQL</td>\n",
       "      <td>...</td>\n",
       "      <td>NaN</td>\n",
       "      <td>NaN</td>\n",
       "      <td>NaN</td>\n",
       "      <td>NaN</td>\n",
       "      <td>NaN</td>\n",
       "      <td>NaN</td>\n",
       "      <td>NaN</td>\n",
       "      <td>NaN</td>\n",
       "      <td>None</td>\n",
       "      <td>NaN</td>\n",
       "    </tr>\n",
       "    <tr>\n",
       "      <th>3</th>\n",
       "      <td>924</td>\n",
       "      <td>22-24</td>\n",
       "      <td>Man</td>\n",
       "      <td>Pakistan</td>\n",
       "      <td>Master’s degree</td>\n",
       "      <td>Software Engineer</td>\n",
       "      <td>1-3 years</td>\n",
       "      <td>Python</td>\n",
       "      <td>NaN</td>\n",
       "      <td>NaN</td>\n",
       "      <td>...</td>\n",
       "      <td>NaN</td>\n",
       "      <td>NaN</td>\n",
       "      <td>TensorBoard</td>\n",
       "      <td>NaN</td>\n",
       "      <td>NaN</td>\n",
       "      <td>NaN</td>\n",
       "      <td>NaN</td>\n",
       "      <td>NaN</td>\n",
       "      <td>NaN</td>\n",
       "      <td>NaN</td>\n",
       "    </tr>\n",
       "    <tr>\n",
       "      <th>4</th>\n",
       "      <td>575</td>\n",
       "      <td>45-49</td>\n",
       "      <td>Man</td>\n",
       "      <td>Mexico</td>\n",
       "      <td>Doctoral degree</td>\n",
       "      <td>Research Scientist</td>\n",
       "      <td>20+ years</td>\n",
       "      <td>Python</td>\n",
       "      <td>NaN</td>\n",
       "      <td>NaN</td>\n",
       "      <td>...</td>\n",
       "      <td>NaN</td>\n",
       "      <td>NaN</td>\n",
       "      <td>NaN</td>\n",
       "      <td>NaN</td>\n",
       "      <td>NaN</td>\n",
       "      <td>NaN</td>\n",
       "      <td>NaN</td>\n",
       "      <td>NaN</td>\n",
       "      <td>None</td>\n",
       "      <td>NaN</td>\n",
       "    </tr>\n",
       "  </tbody>\n",
       "</table>\n",
       "<p>5 rows × 369 columns</p>\n",
       "</div>"
      ],
      "text/plain": [
       "  Time from Start to Finish (seconds)                           Q1  \\\n",
       "0               Duration (in seconds)  What is your age (# years)?   \n",
       "1                                 910                        50-54   \n",
       "2                                 784                        50-54   \n",
       "3                                 924                        22-24   \n",
       "4                                 575                        45-49   \n",
       "\n",
       "                                       Q2  \\\n",
       "0  What is your gender? - Selected Choice   \n",
       "1                                     Man   \n",
       "2                                     Man   \n",
       "3                                     Man   \n",
       "4                                     Man   \n",
       "\n",
       "                                          Q3  \\\n",
       "0  In which country do you currently reside?   \n",
       "1                                      India   \n",
       "2                                  Indonesia   \n",
       "3                                   Pakistan   \n",
       "4                                     Mexico   \n",
       "\n",
       "                                                  Q4  \\\n",
       "0  What is the highest level of formal education ...   \n",
       "1                                  Bachelor’s degree   \n",
       "2                                    Master’s degree   \n",
       "3                                    Master’s degree   \n",
       "4                                    Doctoral degree   \n",
       "\n",
       "                                                  Q5  \\\n",
       "0  Select the title most similar to your current ...   \n",
       "1                                              Other   \n",
       "2                            Program/Project Manager   \n",
       "3                                  Software Engineer   \n",
       "4                                 Research Scientist   \n",
       "\n",
       "                                                  Q6  \\\n",
       "0  For how many years have you been writing code ...   \n",
       "1                                         5-10 years   \n",
       "2                                          20+ years   \n",
       "3                                          1-3 years   \n",
       "4                                          20+ years   \n",
       "\n",
       "                                           Q7_Part_1  \\\n",
       "0  What programming languages do you use on a reg...   \n",
       "1                                             Python   \n",
       "2                                                NaN   \n",
       "3                                             Python   \n",
       "4                                             Python   \n",
       "\n",
       "                                           Q7_Part_2  \\\n",
       "0  What programming languages do you use on a reg...   \n",
       "1                                                  R   \n",
       "2                                                NaN   \n",
       "3                                                NaN   \n",
       "4                                                NaN   \n",
       "\n",
       "                                           Q7_Part_3  ...  \\\n",
       "0  What programming languages do you use on a reg...  ...   \n",
       "1                                                NaN  ...   \n",
       "2                                                SQL  ...   \n",
       "3                                                NaN  ...   \n",
       "4                                                NaN  ...   \n",
       "\n",
       "                                        Q38_B_Part_3  \\\n",
       "0  In the next 2 years, do you hope to become mor...   \n",
       "1                                                NaN   \n",
       "2                                                NaN   \n",
       "3                                                NaN   \n",
       "4                                                NaN   \n",
       "\n",
       "                                        Q38_B_Part_4  \\\n",
       "0  In the next 2 years, do you hope to become mor...   \n",
       "1                                                NaN   \n",
       "2                                                NaN   \n",
       "3                                                NaN   \n",
       "4                                                NaN   \n",
       "\n",
       "                                        Q38_B_Part_5  \\\n",
       "0  In the next 2 years, do you hope to become mor...   \n",
       "1                                                NaN   \n",
       "2                                                NaN   \n",
       "3                                       TensorBoard    \n",
       "4                                                NaN   \n",
       "\n",
       "                                        Q38_B_Part_6  \\\n",
       "0  In the next 2 years, do you hope to become mor...   \n",
       "1                                                NaN   \n",
       "2                                                NaN   \n",
       "3                                                NaN   \n",
       "4                                                NaN   \n",
       "\n",
       "                                        Q38_B_Part_7  \\\n",
       "0  In the next 2 years, do you hope to become mor...   \n",
       "1                                                NaN   \n",
       "2                                                NaN   \n",
       "3                                                NaN   \n",
       "4                                                NaN   \n",
       "\n",
       "                                        Q38_B_Part_8  \\\n",
       "0  In the next 2 years, do you hope to become mor...   \n",
       "1                                                NaN   \n",
       "2                                                NaN   \n",
       "3                                                NaN   \n",
       "4                                                NaN   \n",
       "\n",
       "                                        Q38_B_Part_9  \\\n",
       "0  In the next 2 years, do you hope to become mor...   \n",
       "1                                                NaN   \n",
       "2                                                NaN   \n",
       "3                                                NaN   \n",
       "4                                                NaN   \n",
       "\n",
       "                                       Q38_B_Part_10  \\\n",
       "0  In the next 2 years, do you hope to become mor...   \n",
       "1                                                NaN   \n",
       "2                                                NaN   \n",
       "3                                                NaN   \n",
       "4                                                NaN   \n",
       "\n",
       "                                       Q38_B_Part_11  \\\n",
       "0  In the next 2 years, do you hope to become mor...   \n",
       "1                                                NaN   \n",
       "2                                               None   \n",
       "3                                                NaN   \n",
       "4                                               None   \n",
       "\n",
       "                                         Q38_B_OTHER  \n",
       "0  In the next 2 years, do you hope to become mor...  \n",
       "1                                                NaN  \n",
       "2                                                NaN  \n",
       "3                                                NaN  \n",
       "4                                                NaN  \n",
       "\n",
       "[5 rows x 369 columns]"
      ]
     },
     "execution_count": 3,
     "metadata": {},
     "output_type": "execute_result"
    }
   ],
   "source": [
    "# first five rows\n",
    "data.head()"
   ]
  },
  {
   "cell_type": "code",
   "execution_count": 4,
   "id": "41d1bc40",
   "metadata": {
    "execution": {
     "iopub.execute_input": "2022-07-10T12:16:26.138665Z",
     "iopub.status.busy": "2022-07-10T12:16:26.138368Z",
     "iopub.status.idle": "2022-07-10T12:16:26.142984Z",
     "shell.execute_reply": "2022-07-10T12:16:26.141928Z"
    },
    "papermill": {
     "duration": 0.014957,
     "end_time": "2022-07-10T12:16:26.144887",
     "exception": false,
     "start_time": "2022-07-10T12:16:26.129930",
     "status": "completed"
    },
    "tags": []
   },
   "outputs": [],
   "source": [
    "# remove the column Time from Start to Finish (seconds)\n",
    "data = data.iloc[: , 1:]"
   ]
  },
  {
   "cell_type": "code",
   "execution_count": 5,
   "id": "01bc1c10",
   "metadata": {
    "execution": {
     "iopub.execute_input": "2022-07-10T12:16:26.160755Z",
     "iopub.status.busy": "2022-07-10T12:16:26.159876Z",
     "iopub.status.idle": "2022-07-10T12:16:26.166619Z",
     "shell.execute_reply": "2022-07-10T12:16:26.165550Z"
    },
    "papermill": {
     "duration": 0.016702,
     "end_time": "2022-07-10T12:16:26.168621",
     "exception": false,
     "start_time": "2022-07-10T12:16:26.151919",
     "status": "completed"
    },
    "tags": []
   },
   "outputs": [
    {
     "data": {
      "text/plain": [
       "(25974, 368)"
      ]
     },
     "execution_count": 5,
     "metadata": {},
     "output_type": "execute_result"
    }
   ],
   "source": [
    "# size of the dataset\n",
    "data.shape # 25973 rows, 369 columns"
   ]
  },
  {
   "cell_type": "code",
   "execution_count": 6,
   "id": "f634ba05",
   "metadata": {
    "execution": {
     "iopub.execute_input": "2022-07-10T12:16:26.184281Z",
     "iopub.status.busy": "2022-07-10T12:16:26.183972Z",
     "iopub.status.idle": "2022-07-10T12:16:26.190111Z",
     "shell.execute_reply": "2022-07-10T12:16:26.189411Z"
    },
    "papermill": {
     "duration": 0.016067,
     "end_time": "2022-07-10T12:16:26.191697",
     "exception": false,
     "start_time": "2022-07-10T12:16:26.175630",
     "status": "completed"
    },
    "tags": []
   },
   "outputs": [],
   "source": [
    "def rename_columns(df):\n",
    "    \"\"\"\n",
    "    input: the dataset we want to rename the columns\n",
    "    output: combine the first row of the dataset into the original column\n",
    "    \"\"\"\n",
    "    original_columns = df.columns\n",
    "    num_col = df.shape[1]\n",
    "    first_row = df.iloc[0] #grab the first row for the header\n",
    "    df = df[1:] #take the data below the first row\n",
    "    # create a list containing new column names\n",
    "    new_cols = []\n",
    "    for col in range(num_col):\n",
    "        new_col_name = original_columns[col] + '_' + first_row[col]\n",
    "        new_cols.append(new_col_name)\n",
    "    df.columns = new_cols # assign the new column names to the dataset\n",
    "    return df"
   ]
  },
  {
   "cell_type": "code",
   "execution_count": 7,
   "id": "08d8752a",
   "metadata": {
    "execution": {
     "iopub.execute_input": "2022-07-10T12:16:26.207425Z",
     "iopub.status.busy": "2022-07-10T12:16:26.207091Z",
     "iopub.status.idle": "2022-07-10T12:16:26.211791Z",
     "shell.execute_reply": "2022-07-10T12:16:26.211120Z"
    },
    "papermill": {
     "duration": 0.014818,
     "end_time": "2022-07-10T12:16:26.213592",
     "exception": false,
     "start_time": "2022-07-10T12:16:26.198774",
     "status": "completed"
    },
    "tags": []
   },
   "outputs": [],
   "source": [
    "def replace_nan(df):\n",
    "    \"\"\"\n",
    "    input:\n",
    "    df - the target dataset\n",
    "    \n",
    "    output:\n",
    "    a new dataset with nan values replaced as 0 and non-nan values replaced with 1\n",
    "    \"\"\"\n",
    "    array = np.where(df.isnull(),0,1)\n",
    "    df = pd.DataFrame(data=array, columns=df.columns)\n",
    "    df.index = df.index + 1\n",
    "    return df\n",
    "\n",
    "\n",
    "#role_data = replace_nan(role_question)"
   ]
  },
  {
   "cell_type": "code",
   "execution_count": 8,
   "id": "1b7919cb",
   "metadata": {
    "execution": {
     "iopub.execute_input": "2022-07-10T12:16:26.230052Z",
     "iopub.status.busy": "2022-07-10T12:16:26.229516Z",
     "iopub.status.idle": "2022-07-10T12:16:26.236048Z",
     "shell.execute_reply": "2022-07-10T12:16:26.235285Z"
    },
    "papermill": {
     "duration": 0.016807,
     "end_time": "2022-07-10T12:16:26.237922",
     "exception": false,
     "start_time": "2022-07-10T12:16:26.221115",
     "status": "completed"
    },
    "tags": []
   },
   "outputs": [],
   "source": [
    "renamed_data = rename_columns(data)"
   ]
  },
  {
   "cell_type": "code",
   "execution_count": 9,
   "id": "5a6563af",
   "metadata": {
    "execution": {
     "iopub.execute_input": "2022-07-10T12:16:26.254018Z",
     "iopub.status.busy": "2022-07-10T12:16:26.253502Z",
     "iopub.status.idle": "2022-07-10T12:16:26.259942Z",
     "shell.execute_reply": "2022-07-10T12:16:26.259231Z"
    },
    "papermill": {
     "duration": 0.017009,
     "end_time": "2022-07-10T12:16:26.262163",
     "exception": false,
     "start_time": "2022-07-10T12:16:26.245154",
     "status": "completed"
    },
    "tags": []
   },
   "outputs": [],
   "source": [
    "def split_cols(df):\n",
    "    \"\"\"\n",
    "    input:\n",
    "    df - target dataframe\n",
    "    \n",
    "    output:\n",
    "    single_questions - a list of column names that belong to single question column\n",
    "    multiple_questions - a list of column names that belong to multiple question column\n",
    "    \"\"\"\n",
    "    single_questions = []\n",
    "    multiple_questions = []\n",
    "    for col in df.columns:\n",
    "        if 'part' in col.lower() or 'other' in col.lower():\n",
    "            multiple_questions.append(col)\n",
    "        else:\n",
    "            single_questions.append(col)\n",
    "    return single_questions, multiple_questions\n",
    "\n",
    "single_questions = split_cols(renamed_data)[0]\n",
    "multiple_questions = split_cols(renamed_data)[1]"
   ]
  },
  {
   "cell_type": "code",
   "execution_count": 10,
   "id": "58308dca",
   "metadata": {
    "execution": {
     "iopub.execute_input": "2022-07-10T12:16:26.280173Z",
     "iopub.status.busy": "2022-07-10T12:16:26.279768Z",
     "iopub.status.idle": "2022-07-10T12:16:26.285630Z",
     "shell.execute_reply": "2022-07-10T12:16:26.284605Z"
    },
    "papermill": {
     "duration": 0.017259,
     "end_time": "2022-07-10T12:16:26.287780",
     "exception": false,
     "start_time": "2022-07-10T12:16:26.270521",
     "status": "completed"
    },
    "tags": []
   },
   "outputs": [],
   "source": [
    "def pivot_col(df, col):\n",
    "    \"\"\"\n",
    "    input:\n",
    "    df - target dataset\n",
    "    col - the column we want to pivot its value as new columns\n",
    "    \n",
    "    output:\n",
    "    return a pivoted dataframe where columns are value from the col of old dataframe\n",
    "    \"\"\"\n",
    "    df['participant_id'] = df.index\n",
    "    pivoted_df = df.pivot(index = 'participant_id', columns=col, values=col).reset_index().iloc[: , 1:]\n",
    "    pivoted_df.index = pivoted_df.index + 1\n",
    "    return pivoted_df"
   ]
  },
  {
   "cell_type": "code",
   "execution_count": 11,
   "id": "b8ff0b7a",
   "metadata": {
    "execution": {
     "iopub.execute_input": "2022-07-10T12:16:26.305158Z",
     "iopub.status.busy": "2022-07-10T12:16:26.304802Z",
     "iopub.status.idle": "2022-07-10T12:16:27.460208Z",
     "shell.execute_reply": "2022-07-10T12:16:27.459103Z"
    },
    "papermill": {
     "duration": 1.166947,
     "end_time": "2022-07-10T12:16:27.462724",
     "exception": false,
     "start_time": "2022-07-10T12:16:26.295777",
     "status": "completed"
    },
    "tags": []
   },
   "outputs": [
    {
     "name": "stderr",
     "output_type": "stream",
     "text": [
      "/opt/conda/lib/python3.7/site-packages/ipykernel_launcher.py:10: SettingWithCopyWarning: \n",
      "A value is trying to be set on a copy of a slice from a DataFrame.\n",
      "Try using .loc[row_indexer,col_indexer] = value instead\n",
      "\n",
      "See the caveats in the documentation: https://pandas.pydata.org/pandas-docs/stable/user_guide/indexing.html#returning-a-view-versus-a-copy\n",
      "  # Remove the CWD from sys.path while we load stuff.\n"
     ]
    }
   ],
   "source": [
    "def pivot_df(df):\n",
    "    \"\"\"\n",
    "    input:\n",
    "    df - targer dataframe\n",
    "    var_cols - a list of column names we want to pivot\n",
    "    aggr - the column we used to group by the dataset\n",
    "        \n",
    "    output:\n",
    "    return a dataframe where each column comes from value of each col of old dataframe\n",
    "    NaN value replaced with 0 while non-NaN value replaced with 1\n",
    "    \"\"\"\n",
    "    \n",
    "    pivoted_df = []\n",
    "    for col in df.columns:\n",
    "        if col in single_questions: ## single question answers\n",
    "            pivoted = pivot_col(df[[col]], col)\n",
    "            pivoted_df.append(pivoted)\n",
    "        else:\n",
    "            pivoted_df.append(df[[col]])\n",
    "    pivoted_merged_df = pd.concat(pivoted_df, axis=1, ignore_index=False)\n",
    "    return pivoted_merged_df\n",
    "pivoted_data = pivot_df(renamed_data)"
   ]
  },
  {
   "cell_type": "code",
   "execution_count": 12,
   "id": "081868bb",
   "metadata": {
    "execution": {
     "iopub.execute_input": "2022-07-10T12:16:27.482060Z",
     "iopub.status.busy": "2022-07-10T12:16:27.481675Z",
     "iopub.status.idle": "2022-07-10T12:16:28.284417Z",
     "shell.execute_reply": "2022-07-10T12:16:28.283130Z"
    },
    "papermill": {
     "duration": 0.815043,
     "end_time": "2022-07-10T12:16:28.287088",
     "exception": false,
     "start_time": "2022-07-10T12:16:27.472045",
     "status": "completed"
    },
    "tags": []
   },
   "outputs": [],
   "source": [
    "binary_data = replace_nan(pivoted_data)"
   ]
  },
  {
   "cell_type": "code",
   "execution_count": 13,
   "id": "6bdaa03f",
   "metadata": {
    "execution": {
     "iopub.execute_input": "2022-07-10T12:16:28.307229Z",
     "iopub.status.busy": "2022-07-10T12:16:28.306222Z",
     "iopub.status.idle": "2022-07-10T12:54:08.806000Z",
     "shell.execute_reply": "2022-07-10T12:54:08.804877Z"
    },
    "papermill": {
     "duration": 2260.512539,
     "end_time": "2022-07-10T12:54:08.808704",
     "exception": false,
     "start_time": "2022-07-10T12:16:28.296165",
     "status": "completed"
    },
    "tags": []
   },
   "outputs": [],
   "source": [
    "data_matrix = binary_data.dot(np.transpose(binary_data))"
   ]
  },
  {
   "cell_type": "code",
   "execution_count": 14,
   "id": "6312c98d",
   "metadata": {
    "execution": {
     "iopub.execute_input": "2022-07-10T12:54:08.826536Z",
     "iopub.status.busy": "2022-07-10T12:54:08.825947Z",
     "iopub.status.idle": "2022-07-10T12:54:08.831496Z",
     "shell.execute_reply": "2022-07-10T12:54:08.830592Z"
    },
    "papermill": {
     "duration": 0.01671,
     "end_time": "2022-07-10T12:54:08.833673",
     "exception": false,
     "start_time": "2022-07-10T12:54:08.816963",
     "status": "completed"
    },
    "tags": []
   },
   "outputs": [],
   "source": [
    "def closest_participant(participant_id, participant_matrix):\n",
    "    \"\"\"\n",
    "    input:\n",
    "    participant_id - target participant\n",
    "    participant_matrix - matrix where shows the similarity between each participant\n",
    "    \n",
    "    output - the list of participants other than the target participant, ranked by similarity\n",
    "    \"\"\"\n",
    "    participant_list = participant_matrix[[participant_id]]\n",
    "    participant_list = participant_list.sort_values(by = participant_id, ascending = False)\n",
    "    \n",
    "    return participant_list.index[1:]\n",
    "\n"
   ]
  },
  {
   "cell_type": "code",
   "execution_count": 15,
   "id": "4060e9bc",
   "metadata": {
    "execution": {
     "iopub.execute_input": "2022-07-10T12:54:08.849746Z",
     "iopub.status.busy": "2022-07-10T12:54:08.849291Z",
     "iopub.status.idle": "2022-07-10T12:54:08.856333Z",
     "shell.execute_reply": "2022-07-10T12:54:08.855745Z"
    },
    "papermill": {
     "duration": 0.017126,
     "end_time": "2022-07-10T12:54:08.857971",
     "exception": false,
     "start_time": "2022-07-10T12:54:08.840845",
     "status": "completed"
    },
    "tags": []
   },
   "outputs": [
    {
     "data": {
      "text/plain": [
       "'30,000-39,999'"
      ]
     },
     "execution_count": 15,
     "metadata": {},
     "output_type": "execute_result"
    }
   ],
   "source": [
    "def compensation(df , participant):\n",
    "    \"\"\"\n",
    "    input -\n",
    "    df - target dataset\n",
    "    participant - the id of the participant\n",
    "    \n",
    "    output -\n",
    "    the yearly compensation of that participant\n",
    "    \"\"\"\n",
    "    \n",
    "    compensation = df.loc[df.index == participant]['Q25_What is your current yearly compensation (approximate $USD)?'].iloc[0]\n",
    "    \n",
    "    return compensation\n",
    "\n",
    "compensation(renamed_data,5)"
   ]
  },
  {
   "cell_type": "code",
   "execution_count": 16,
   "id": "8c174b0a",
   "metadata": {
    "execution": {
     "iopub.execute_input": "2022-07-10T12:54:08.874094Z",
     "iopub.status.busy": "2022-07-10T12:54:08.873811Z",
     "iopub.status.idle": "2022-07-10T12:54:08.917269Z",
     "shell.execute_reply": "2022-07-10T12:54:08.916434Z"
    },
    "papermill": {
     "duration": 0.053719,
     "end_time": "2022-07-10T12:54:08.919143",
     "exception": false,
     "start_time": "2022-07-10T12:54:08.865424",
     "status": "completed"
    },
    "tags": []
   },
   "outputs": [
    {
     "data": {
      "text/plain": [
       "'$500,000-999,999'"
      ]
     },
     "execution_count": 16,
     "metadata": {},
     "output_type": "execute_result"
    }
   ],
   "source": [
    "def similar_user_compensation(df, participant_ids):\n",
    "    \"\"\"\n",
    "    input:\n",
    "    df - target dataset\n",
    "    participant_ids - a list of participant ids\n",
    "    output:\n",
    "    the first participant id that has non-null compensation data\n",
    "    \"\"\"\n",
    "    for participant in participant_ids:\n",
    "        if compensation(df, participant) is not None:\n",
    "            return compensation(df, participant)\n",
    "        else:\n",
    "            pass\n",
    "similar_user_compensation(renamed_data,closest_participant(5,data_matrix))"
   ]
  },
  {
   "cell_type": "code",
   "execution_count": 17,
   "id": "dad79e0f",
   "metadata": {
    "execution": {
     "iopub.execute_input": "2022-07-10T12:54:08.935604Z",
     "iopub.status.busy": "2022-07-10T12:54:08.935306Z",
     "iopub.status.idle": "2022-07-10T12:54:08.965522Z",
     "shell.execute_reply": "2022-07-10T12:54:08.964645Z"
    },
    "papermill": {
     "duration": 0.041196,
     "end_time": "2022-07-10T12:54:08.967871",
     "exception": false,
     "start_time": "2022-07-10T12:54:08.926675",
     "status": "completed"
    },
    "tags": []
   },
   "outputs": [
    {
     "data": {
      "text/plain": [
       "['Q1_What is your age (# years)?',\n",
       " 'Q2_What is your gender? - Selected Choice',\n",
       " 'Q4_What is the highest level of formal education that you have attained or plan to attain within the next 2 years?',\n",
       " 'Q5_Select the title most similar to your current role (or most recent title if retired): - Selected Choice',\n",
       " 'Q7_Part_1_What programming languages do you use on a regular basis? (Select all that apply) - Selected Choice - Python',\n",
       " 'Q7_Part_11_What programming languages do you use on a regular basis? (Select all that apply) - Selected Choice - MATLAB',\n",
       " 'Q8_What programming language would you recommend an aspiring data scientist to learn first? - Selected Choice',\n",
       " \"Q9_Part_6_Which of the following integrated development environments (IDE's) do you use on a regular basis?  (Select all that apply) - Selected Choice -   Spyder  \",\n",
       " \"Q9_Part_10_Which of the following integrated development environments (IDE's) do you use on a regular basis?  (Select all that apply) - Selected Choice -  MATLAB \",\n",
       " \"Q9_Part_11_Which of the following integrated development environments (IDE's) do you use on a regular basis?  (Select all that apply) - Selected Choice -  Jupyter Notebook\",\n",
       " 'Q11_What type of computing platform do you use most often for your data science projects? - Selected Choice',\n",
       " 'Q14_Part_1_What data visualization libraries or tools do you use on a regular basis?  (Select all that apply) - Selected Choice -  Matplotlib ',\n",
       " 'Q14_Part_2_What data visualization libraries or tools do you use on a regular basis?  (Select all that apply) - Selected Choice -  Seaborn ',\n",
       " 'Q14_Part_4_What data visualization libraries or tools do you use on a regular basis?  (Select all that apply) - Selected Choice -  Ggplot / ggplot2 ',\n",
       " 'Q15_For how many years have you used machine learning methods?',\n",
       " 'Q16_Part_1_Which of the following machine learning frameworks do you use on a regular basis? (Select all that apply) - Selected Choice -   Scikit-learn ',\n",
       " 'Q16_Part_4_Which of the following machine learning frameworks do you use on a regular basis? (Select all that apply) - Selected Choice -  PyTorch ',\n",
       " 'Q16_Part_8_Which of the following machine learning frameworks do you use on a regular basis? (Select all that apply) - Selected Choice -  LightGBM ',\n",
       " 'Q17_Part_1_Which of the following ML algorithms do you use on a regular basis? (Select all that apply): - Selected Choice - Linear or Logistic Regression',\n",
       " 'Q17_Part_2_Which of the following ML algorithms do you use on a regular basis? (Select all that apply): - Selected Choice - Decision Trees or Random Forests',\n",
       " 'Q17_Part_3_Which of the following ML algorithms do you use on a regular basis? (Select all that apply): - Selected Choice - Gradient Boosting Machines (xgboost, lightgbm, etc)',\n",
       " 'Q17_Part_4_Which of the following ML algorithms do you use on a regular basis? (Select all that apply): - Selected Choice - Bayesian Approaches',\n",
       " 'Q17_Part_5_Which of the following ML algorithms do you use on a regular basis? (Select all that apply): - Selected Choice - Evolutionary Approaches',\n",
       " 'Q24_Part_1_Select any activities that make up an important part of your role at work: (Select all that apply) - Selected Choice - Analyze and understand data to influence product or business decisions',\n",
       " 'Q24_Part_3_Select any activities that make up an important part of your role at work: (Select all that apply) - Selected Choice - Build prototypes to explore applying machine learning to new areas',\n",
       " 'Q27_A_Part_2_Which of the following cloud computing platforms do you use on a regular basis? (Select all that apply) - Selected Choice -  Microsoft Azure ',\n",
       " 'Q29_A_Part_2_Do you use any of the following cloud computing products on a regular basis? (Select all that apply) - Selected Choice -  Microsoft Azure Virtual Machines ',\n",
       " 'Q30_A_Part_1_Do you use any of the following data storage products on a regular basis? (Select all that apply) - Selected Choice - Microsoft Azure Data Lake Storage ',\n",
       " 'Q31_A_Part_2_Do you use any of the following managed machine learning products on a regular basis? (Select all that apply) - Selected Choice -  Azure Machine Learning Studio ',\n",
       " 'Q34_A_Part_2_Which of the following business intelligence tools do you use on a regular basis? (Select all that apply) - Selected Choice - Microsoft Power BI',\n",
       " 'Q38_A_Part_2_Do you use any tools to help manage machine learning experiments? (Select all that apply) - Selected Choice -  Weights & Biases ',\n",
       " 'Q40_Part_3_On which platforms have you begun or completed data science courses? (Select all that apply) - Selected Choice - Kaggle Learn Courses',\n",
       " 'Q40_Part_7_On which platforms have you begun or completed data science courses? (Select all that apply) - Selected Choice - Udemy',\n",
       " 'Q42_Part_9_Who/what are your favorite media sources that report on data science topics? (Select all that apply) - Selected Choice - Journal Publications (peer-reviewed journals, conference proceedings, etc)']"
      ]
     },
     "execution_count": 17,
     "metadata": {},
     "output_type": "execute_result"
    }
   ],
   "source": [
    "def same_answers(df, user_1, user_2):\n",
    "    \"\"\"\n",
    "    input\n",
    "    df - target dataset\n",
    "    user_1 - index number of user 1\n",
    "    user_2 - index number of user 2\n",
    "    \n",
    "    output\n",
    "    return the column names where answer are same between user 1 and 2\n",
    "    \"\"\"\n",
    "    same_cols = []\n",
    "    answers = df.loc[df.index.isin([user_1,user_2])]\n",
    "    for col in answers.columns:\n",
    "        if answers[col].iloc[0] == answers[col].iloc[1]:\n",
    "            same_cols.append(col)\n",
    "        else:\n",
    "            pass\n",
    "    return same_cols\n",
    "\n",
    "same_answers(renamed_data, 5, 20119)"
   ]
  },
  {
   "cell_type": "code",
   "execution_count": 18,
   "id": "4f4c7537",
   "metadata": {
    "execution": {
     "iopub.execute_input": "2022-07-10T12:54:08.984239Z",
     "iopub.status.busy": "2022-07-10T12:54:08.983925Z",
     "iopub.status.idle": "2022-07-10T12:54:08.990138Z",
     "shell.execute_reply": "2022-07-10T12:54:08.989245Z"
    },
    "papermill": {
     "duration": 0.016099,
     "end_time": "2022-07-10T12:54:08.991981",
     "exception": false,
     "start_time": "2022-07-10T12:54:08.975882",
     "status": "completed"
    },
    "tags": []
   },
   "outputs": [
    {
     "data": {
      "text/plain": [
       "\"\\ndef compute_correlation(df, user1, user2):\\n    '''\\n    INPUT\\n    user1 - int user_id\\n    user2 - int user_id\\n    df - dataset where is a matrix of user and their pivoted answer columns\\n    OUTPUT\\n    the correlation between the matching ratings between the two users\\n    '''\\n    answer_1 = list(df.loc[df.index == user1].iloc[0])\\n    answer_2 = list(df.loc[df.index == user2].iloc[0])\\n    \\n    dot_product = np.vdot(answer_1, answer_2)\\n    \\n    return dot_product #return the correlation\\n\""
      ]
     },
     "execution_count": 18,
     "metadata": {},
     "output_type": "execute_result"
    }
   ],
   "source": [
    "\"\"\"\n",
    "def compute_correlation(df, user1, user2):\n",
    "    '''\n",
    "    INPUT\n",
    "    user1 - int user_id\n",
    "    user2 - int user_id\n",
    "    df - dataset where is a matrix of user and their pivoted answer columns\n",
    "    OUTPUT\n",
    "    the correlation between the matching ratings between the two users\n",
    "    '''\n",
    "    answer_1 = list(df.loc[df.index == user1].iloc[0])\n",
    "    answer_2 = list(df.loc[df.index == user2].iloc[0])\n",
    "    \n",
    "    dot_product = np.vdot(answer_1, answer_2)\n",
    "    \n",
    "    return dot_product #return the correlation\n",
    "\"\"\""
   ]
  },
  {
   "cell_type": "code",
   "execution_count": 19,
   "id": "c2bf0c2e",
   "metadata": {
    "execution": {
     "iopub.execute_input": "2022-07-10T12:54:09.008996Z",
     "iopub.status.busy": "2022-07-10T12:54:09.008724Z",
     "iopub.status.idle": "2022-07-10T12:54:09.016109Z",
     "shell.execute_reply": "2022-07-10T12:54:09.015125Z"
    },
    "papermill": {
     "duration": 0.018113,
     "end_time": "2022-07-10T12:54:09.017875",
     "exception": false,
     "start_time": "2022-07-10T12:54:08.999762",
     "status": "completed"
    },
    "tags": []
   },
   "outputs": [
    {
     "data": {
      "text/plain": [
       "\"\\nds_data = subset_data(renamed_data, \\n           'Q5_Select the title most similar to your current role (or most recent title if retired): - Selected Choice',\\n           'Data Scientist')\\n\""
      ]
     },
     "execution_count": 19,
     "metadata": {},
     "output_type": "execute_result"
    }
   ],
   "source": [
    "def subset_data(df, col, criteria):\n",
    "    \"\"\"\n",
    "    input:\n",
    "    df: the dataset we want to subset from\n",
    "    col: target columns as the filter\n",
    "    criteria: value to feed the filter\n",
    "    \n",
    "    output:\n",
    "    a new dataset which is a subset of the original one\n",
    "    \"\"\"\n",
    "    \n",
    "    new_df = df.loc[df[col] == criteria]\n",
    "    \n",
    "    return new_df\n",
    "\"\"\"\n",
    "ds_data = subset_data(renamed_data, \n",
    "           'Q5_Select the title most similar to your current role (or most recent title if retired): - Selected Choice',\n",
    "           'Data Scientist')\n",
    "\"\"\""
   ]
  },
  {
   "cell_type": "code",
   "execution_count": 20,
   "id": "01fcee7e",
   "metadata": {
    "execution": {
     "iopub.execute_input": "2022-07-10T12:54:09.035358Z",
     "iopub.status.busy": "2022-07-10T12:54:09.035118Z",
     "iopub.status.idle": "2022-07-10T12:54:09.041377Z",
     "shell.execute_reply": "2022-07-10T12:54:09.040566Z"
    },
    "papermill": {
     "duration": 0.017054,
     "end_time": "2022-07-10T12:54:09.043330",
     "exception": false,
     "start_time": "2022-07-10T12:54:09.026276",
     "status": "completed"
    },
    "tags": []
   },
   "outputs": [],
   "source": [
    "def question_columns(df, query, method = 'strict'):\n",
    "    \"\"\"\n",
    "    input: \n",
    "    df - target dataset\n",
    "    query - str, query we want to find relevant infomation in the dataset. e.g. 'Q7', or 'machine learning' \n",
    "    \n",
    "    output:\n",
    "    a subset of data which include the columns of the query in interest\n",
    "    \n",
    "    method:\n",
    "    if it == strict, which means we will look for the question exactly EQUALS to the query. e.g. if we search 'age', then 'language' won't\n",
    "    be taken into account in this case;\n",
    "    \n",
    "    if it == loose, which means we will look for the question exactly CONTAINS the query. e.g. if we search 'age', then 'language' will\n",
    "    be taken into account in this case.\n",
    "    \"\"\"\n",
    "    columns = df.columns\n",
    "    question_col = []\n",
    "    for col in columns:\n",
    "        if method == 'strict':\n",
    "            col_parts = col.lower().split() # each column name will be separated into single word tokens at first\n",
    "            if query.lower() in col_parts:\n",
    "                question_col.append(col)\n",
    "        elif method == 'loose':\n",
    "            if query.lower() in col.lower():\n",
    "                question_col.append(col)\n",
    "    return df[question_col]"
   ]
  },
  {
   "cell_type": "markdown",
   "id": "51857f72",
   "metadata": {
    "papermill": {
     "duration": 0.007462,
     "end_time": "2022-07-10T12:54:09.059029",
     "exception": false,
     "start_time": "2022-07-10T12:54:09.051567",
     "status": "completed"
    },
    "tags": []
   },
   "source": [
    "## What questions we want to ask here?\n",
    "1. How many types of data scientists based on activity they usually do?\n",
    "2. Which skill each type emphasizes at?\n",
    "3. Which platform/tools each type emphazies at?\n",
    "4. Demographic segmentation of each type?\n",
    "5. Profession segmentation of each type?"
   ]
  },
  {
   "cell_type": "code",
   "execution_count": 21,
   "id": "efc5cb0f",
   "metadata": {
    "execution": {
     "iopub.execute_input": "2022-07-10T12:54:09.076122Z",
     "iopub.status.busy": "2022-07-10T12:54:09.075801Z",
     "iopub.status.idle": "2022-07-10T12:54:09.079615Z",
     "shell.execute_reply": "2022-07-10T12:54:09.078725Z"
    },
    "papermill": {
     "duration": 0.013994,
     "end_time": "2022-07-10T12:54:09.081398",
     "exception": false,
     "start_time": "2022-07-10T12:54:09.067404",
     "status": "completed"
    },
    "tags": []
   },
   "outputs": [],
   "source": [
    "#feature_data = role_data.iloc[: , 1:]"
   ]
  },
  {
   "cell_type": "code",
   "execution_count": 22,
   "id": "11959d3d",
   "metadata": {
    "execution": {
     "iopub.execute_input": "2022-07-10T12:54:09.098183Z",
     "iopub.status.busy": "2022-07-10T12:54:09.097892Z",
     "iopub.status.idle": "2022-07-10T12:54:09.104594Z",
     "shell.execute_reply": "2022-07-10T12:54:09.103720Z"
    },
    "papermill": {
     "duration": 0.017434,
     "end_time": "2022-07-10T12:54:09.106475",
     "exception": false,
     "start_time": "2022-07-10T12:54:09.089041",
     "status": "completed"
    },
    "tags": []
   },
   "outputs": [
    {
     "data": {
      "text/plain": [
       "\"\\ndef kmeans_cluster_opt(df, init = 'k-means++', max_num_cluster = 9):\\n    \\n    input: \\n    df - the dataset we want to segments into cluster\\n    init - the way we want to initialize the starting centroid\\n    max_num_cluster - the max number of cluster\\n    \\n    output:\\n    a visualization showing the line graph indicating the optimal number of klusters, based on inertias value\\n    \\n    num_clusters = list(range(1, max_num_cluster))\\n    inertias = []\\n\\n    for k in num_clusters:\\n        model = KMeans(init=init, n_clusters=k, random_state = 42)\\n        model.fit(df)\\n        inertias.append(model.inertia_)\\n\\n    \\n    plt.plot(num_clusters, inertias, '-o')\\n\\n    plt.xlabel('number of clusters (k)')\\n    plt.ylabel('inertia')\\n\\n    plt.show()\\n\""
      ]
     },
     "execution_count": 22,
     "metadata": {},
     "output_type": "execute_result"
    }
   ],
   "source": [
    "\"\"\"\n",
    "def kmeans_cluster_opt(df, init = 'k-means++', max_num_cluster = 9):\n",
    "    \n",
    "    input: \n",
    "    df - the dataset we want to segments into cluster\n",
    "    init - the way we want to initialize the starting centroid\n",
    "    max_num_cluster - the max number of cluster\n",
    "    \n",
    "    output:\n",
    "    a visualization showing the line graph indicating the optimal number of klusters, based on inertias value\n",
    "    \n",
    "    num_clusters = list(range(1, max_num_cluster))\n",
    "    inertias = []\n",
    "\n",
    "    for k in num_clusters:\n",
    "        model = KMeans(init=init, n_clusters=k, random_state = 42)\n",
    "        model.fit(df)\n",
    "        inertias.append(model.inertia_)\n",
    "\n",
    "    \n",
    "    plt.plot(num_clusters, inertias, '-o')\n",
    "\n",
    "    plt.xlabel('number of clusters (k)')\n",
    "    plt.ylabel('inertia')\n",
    "\n",
    "    plt.show()\n",
    "\"\"\""
   ]
  },
  {
   "cell_type": "code",
   "execution_count": 23,
   "id": "6dd76c50",
   "metadata": {
    "execution": {
     "iopub.execute_input": "2022-07-10T12:54:09.124156Z",
     "iopub.status.busy": "2022-07-10T12:54:09.123866Z",
     "iopub.status.idle": "2022-07-10T12:54:09.126914Z",
     "shell.execute_reply": "2022-07-10T12:54:09.126254Z"
    },
    "papermill": {
     "duration": 0.014401,
     "end_time": "2022-07-10T12:54:09.128981",
     "exception": false,
     "start_time": "2022-07-10T12:54:09.114580",
     "status": "completed"
    },
    "tags": []
   },
   "outputs": [],
   "source": [
    "#kmeans_cluster_opt(feature_data)"
   ]
  },
  {
   "cell_type": "code",
   "execution_count": 24,
   "id": "9fcfe251",
   "metadata": {
    "execution": {
     "iopub.execute_input": "2022-07-10T12:54:09.145997Z",
     "iopub.status.busy": "2022-07-10T12:54:09.145729Z",
     "iopub.status.idle": "2022-07-10T12:54:09.152091Z",
     "shell.execute_reply": "2022-07-10T12:54:09.151123Z"
    },
    "papermill": {
     "duration": 0.017425,
     "end_time": "2022-07-10T12:54:09.154181",
     "exception": false,
     "start_time": "2022-07-10T12:54:09.136756",
     "status": "completed"
    },
    "tags": []
   },
   "outputs": [
    {
     "data": {
      "text/plain": [
       "\"\\ndef kmeans_predict(df, init = 'k-means++', n_clusters = 4):\\n    \\n    input:\\n    df - dataset we want to segment into clusters\\n    init - the way we want to initialize the starting centroid\\n    n_clusters - the number of cluster\\n    \\n    output:\\n    labels - return an array of predictions on the cluster label of given features\\n    centers - centroid values of each cluster\\n    model = KMeans(init=init, n_clusters = n_clusters, random_state = 42)\\n\\n    model.fit(df)\\n\\n    labels = model.predict(df)\\n    \\n    centers = np.array(model.cluster_centers_)\\n    \\n    return labels, centers\\n\""
      ]
     },
     "execution_count": 24,
     "metadata": {},
     "output_type": "execute_result"
    }
   ],
   "source": [
    "\"\"\"\n",
    "def kmeans_predict(df, init = 'k-means++', n_clusters = 4):\n",
    "    \n",
    "    input:\n",
    "    df - dataset we want to segment into clusters\n",
    "    init - the way we want to initialize the starting centroid\n",
    "    n_clusters - the number of cluster\n",
    "    \n",
    "    output:\n",
    "    labels - return an array of predictions on the cluster label of given features\n",
    "    centers - centroid values of each cluster\n",
    "    model = KMeans(init=init, n_clusters = n_clusters, random_state = 42)\n",
    "\n",
    "    model.fit(df)\n",
    "\n",
    "    labels = model.predict(df)\n",
    "    \n",
    "    centers = np.array(model.cluster_centers_)\n",
    "    \n",
    "    return labels, centers\n",
    "\"\"\""
   ]
  }
 ],
 "metadata": {
  "kernelspec": {
   "display_name": "Python 3",
   "language": "python",
   "name": "python3"
  },
  "language_info": {
   "codemirror_mode": {
    "name": "ipython",
    "version": 3
   },
   "file_extension": ".py",
   "mimetype": "text/x-python",
   "name": "python",
   "nbconvert_exporter": "python",
   "pygments_lexer": "ipython3",
   "version": "3.7.12"
  },
  "papermill": {
   "default_parameters": {},
   "duration": 2275.433052,
   "end_time": "2022-07-10T12:54:09.887465",
   "environment_variables": {},
   "exception": null,
   "input_path": "__notebook__.ipynb",
   "output_path": "__notebook__.ipynb",
   "parameters": {},
   "start_time": "2022-07-10T12:16:14.454413",
   "version": "2.3.4"
  }
 },
 "nbformat": 4,
 "nbformat_minor": 5
}
