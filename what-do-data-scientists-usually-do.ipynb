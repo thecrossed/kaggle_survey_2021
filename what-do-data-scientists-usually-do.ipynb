{
 "cells": [
  {
   "cell_type": "code",
   "execution_count": 1,
   "id": "cf25b820",
   "metadata": {
    "_cell_guid": "b1076dfc-b9ad-4769-8c92-a6c4dae69d19",
    "_uuid": "8f2839f25d086af736a60e9eeb907d3b93b6e0e5",
    "execution": {
     "iopub.execute_input": "2022-07-10T14:10:47.222593Z",
     "iopub.status.busy": "2022-07-10T14:10:47.221712Z",
     "iopub.status.idle": "2022-07-10T14:10:48.534437Z",
     "shell.execute_reply": "2022-07-10T14:10:48.533246Z"
    },
    "papermill": {
     "duration": 1.326134,
     "end_time": "2022-07-10T14:10:48.537669",
     "exception": false,
     "start_time": "2022-07-10T14:10:47.211535",
     "status": "completed"
    },
    "tags": []
   },
   "outputs": [
    {
     "name": "stdout",
     "output_type": "stream",
     "text": [
      "/kaggle/input/kaggle-survey-2021/kaggle_survey_2021_responses.csv\n",
      "/kaggle/input/kaggle-survey-2021/supplementary_data/kaggle_survey_2021_methodology.pdf\n",
      "/kaggle/input/kaggle-survey-2021/supplementary_data/kaggle_survey_2021_answer_choices.pdf\n"
     ]
    }
   ],
   "source": [
    "# This Python 3 environment comes with many helpful analytics libraries installed\n",
    "# It is defined by the kaggle/python Docker image: https://github.com/kaggle/docker-python\n",
    "# For example, here's several helpful packages to load\n",
    "\n",
    "import numpy as np # linear algebra\n",
    "import pandas as pd # data processing, CSV file I/O (e.g. pd.read_csv)\n",
    "import matplotlib.pyplot as plt\n",
    "from sklearn.cluster import KMeans\n",
    "from sklearn.decomposition import PCA\n",
    "\n",
    "\n",
    "# Input data files are available in the read-only \"../input/\" directory\n",
    "# For example, running this (by clicking run or pressing Shift+Enter) will list all files under the input directory\n",
    "\n",
    "import os\n",
    "for dirname, _, filenames in os.walk('/kaggle/input'):\n",
    "    for filename in filenames:\n",
    "        print(os.path.join(dirname, filename))\n",
    "\n",
    "# You can write up to 20GB to the current directory (/kaggle/working/) that gets preserved as output when you create a version using \"Save & Run All\" \n",
    "# You can also write temporary files to /kaggle/temp/, but they won't be saved outside of the current session"
   ]
  },
  {
   "cell_type": "code",
   "execution_count": 2,
   "id": "2ae9b224",
   "metadata": {
    "execution": {
     "iopub.execute_input": "2022-07-10T14:10:48.556282Z",
     "iopub.status.busy": "2022-07-10T14:10:48.555872Z",
     "iopub.status.idle": "2022-07-10T14:10:50.166193Z",
     "shell.execute_reply": "2022-07-10T14:10:50.164980Z"
    },
    "papermill": {
     "duration": 1.622062,
     "end_time": "2022-07-10T14:10:50.168840",
     "exception": false,
     "start_time": "2022-07-10T14:10:48.546778",
     "status": "completed"
    },
    "tags": []
   },
   "outputs": [],
   "source": [
    "# load dataset\n",
    "data = pd.read_csv(\"../input/kaggle-survey-2021/kaggle_survey_2021_responses.csv\", low_memory = False)"
   ]
  },
  {
   "cell_type": "code",
   "execution_count": 3,
   "id": "5132f4a6",
   "metadata": {
    "execution": {
     "iopub.execute_input": "2022-07-10T14:10:50.185980Z",
     "iopub.status.busy": "2022-07-10T14:10:50.185568Z",
     "iopub.status.idle": "2022-07-10T14:10:50.219444Z",
     "shell.execute_reply": "2022-07-10T14:10:50.218283Z"
    },
    "papermill": {
     "duration": 0.0454,
     "end_time": "2022-07-10T14:10:50.221832",
     "exception": false,
     "start_time": "2022-07-10T14:10:50.176432",
     "status": "completed"
    },
    "tags": []
   },
   "outputs": [
    {
     "data": {
      "text/html": [
       "<div>\n",
       "<style scoped>\n",
       "    .dataframe tbody tr th:only-of-type {\n",
       "        vertical-align: middle;\n",
       "    }\n",
       "\n",
       "    .dataframe tbody tr th {\n",
       "        vertical-align: top;\n",
       "    }\n",
       "\n",
       "    .dataframe thead th {\n",
       "        text-align: right;\n",
       "    }\n",
       "</style>\n",
       "<table border=\"1\" class=\"dataframe\">\n",
       "  <thead>\n",
       "    <tr style=\"text-align: right;\">\n",
       "      <th></th>\n",
       "      <th>Time from Start to Finish (seconds)</th>\n",
       "      <th>Q1</th>\n",
       "      <th>Q2</th>\n",
       "      <th>Q3</th>\n",
       "      <th>Q4</th>\n",
       "      <th>Q5</th>\n",
       "      <th>Q6</th>\n",
       "      <th>Q7_Part_1</th>\n",
       "      <th>Q7_Part_2</th>\n",
       "      <th>Q7_Part_3</th>\n",
       "      <th>...</th>\n",
       "      <th>Q38_B_Part_3</th>\n",
       "      <th>Q38_B_Part_4</th>\n",
       "      <th>Q38_B_Part_5</th>\n",
       "      <th>Q38_B_Part_6</th>\n",
       "      <th>Q38_B_Part_7</th>\n",
       "      <th>Q38_B_Part_8</th>\n",
       "      <th>Q38_B_Part_9</th>\n",
       "      <th>Q38_B_Part_10</th>\n",
       "      <th>Q38_B_Part_11</th>\n",
       "      <th>Q38_B_OTHER</th>\n",
       "    </tr>\n",
       "  </thead>\n",
       "  <tbody>\n",
       "    <tr>\n",
       "      <th>0</th>\n",
       "      <td>Duration (in seconds)</td>\n",
       "      <td>What is your age (# years)?</td>\n",
       "      <td>What is your gender? - Selected Choice</td>\n",
       "      <td>In which country do you currently reside?</td>\n",
       "      <td>What is the highest level of formal education ...</td>\n",
       "      <td>Select the title most similar to your current ...</td>\n",
       "      <td>For how many years have you been writing code ...</td>\n",
       "      <td>What programming languages do you use on a reg...</td>\n",
       "      <td>What programming languages do you use on a reg...</td>\n",
       "      <td>What programming languages do you use on a reg...</td>\n",
       "      <td>...</td>\n",
       "      <td>In the next 2 years, do you hope to become mor...</td>\n",
       "      <td>In the next 2 years, do you hope to become mor...</td>\n",
       "      <td>In the next 2 years, do you hope to become mor...</td>\n",
       "      <td>In the next 2 years, do you hope to become mor...</td>\n",
       "      <td>In the next 2 years, do you hope to become mor...</td>\n",
       "      <td>In the next 2 years, do you hope to become mor...</td>\n",
       "      <td>In the next 2 years, do you hope to become mor...</td>\n",
       "      <td>In the next 2 years, do you hope to become mor...</td>\n",
       "      <td>In the next 2 years, do you hope to become mor...</td>\n",
       "      <td>In the next 2 years, do you hope to become mor...</td>\n",
       "    </tr>\n",
       "    <tr>\n",
       "      <th>1</th>\n",
       "      <td>910</td>\n",
       "      <td>50-54</td>\n",
       "      <td>Man</td>\n",
       "      <td>India</td>\n",
       "      <td>Bachelor’s degree</td>\n",
       "      <td>Other</td>\n",
       "      <td>5-10 years</td>\n",
       "      <td>Python</td>\n",
       "      <td>R</td>\n",
       "      <td>NaN</td>\n",
       "      <td>...</td>\n",
       "      <td>NaN</td>\n",
       "      <td>NaN</td>\n",
       "      <td>NaN</td>\n",
       "      <td>NaN</td>\n",
       "      <td>NaN</td>\n",
       "      <td>NaN</td>\n",
       "      <td>NaN</td>\n",
       "      <td>NaN</td>\n",
       "      <td>NaN</td>\n",
       "      <td>NaN</td>\n",
       "    </tr>\n",
       "    <tr>\n",
       "      <th>2</th>\n",
       "      <td>784</td>\n",
       "      <td>50-54</td>\n",
       "      <td>Man</td>\n",
       "      <td>Indonesia</td>\n",
       "      <td>Master’s degree</td>\n",
       "      <td>Program/Project Manager</td>\n",
       "      <td>20+ years</td>\n",
       "      <td>NaN</td>\n",
       "      <td>NaN</td>\n",
       "      <td>SQL</td>\n",
       "      <td>...</td>\n",
       "      <td>NaN</td>\n",
       "      <td>NaN</td>\n",
       "      <td>NaN</td>\n",
       "      <td>NaN</td>\n",
       "      <td>NaN</td>\n",
       "      <td>NaN</td>\n",
       "      <td>NaN</td>\n",
       "      <td>NaN</td>\n",
       "      <td>None</td>\n",
       "      <td>NaN</td>\n",
       "    </tr>\n",
       "    <tr>\n",
       "      <th>3</th>\n",
       "      <td>924</td>\n",
       "      <td>22-24</td>\n",
       "      <td>Man</td>\n",
       "      <td>Pakistan</td>\n",
       "      <td>Master’s degree</td>\n",
       "      <td>Software Engineer</td>\n",
       "      <td>1-3 years</td>\n",
       "      <td>Python</td>\n",
       "      <td>NaN</td>\n",
       "      <td>NaN</td>\n",
       "      <td>...</td>\n",
       "      <td>NaN</td>\n",
       "      <td>NaN</td>\n",
       "      <td>TensorBoard</td>\n",
       "      <td>NaN</td>\n",
       "      <td>NaN</td>\n",
       "      <td>NaN</td>\n",
       "      <td>NaN</td>\n",
       "      <td>NaN</td>\n",
       "      <td>NaN</td>\n",
       "      <td>NaN</td>\n",
       "    </tr>\n",
       "    <tr>\n",
       "      <th>4</th>\n",
       "      <td>575</td>\n",
       "      <td>45-49</td>\n",
       "      <td>Man</td>\n",
       "      <td>Mexico</td>\n",
       "      <td>Doctoral degree</td>\n",
       "      <td>Research Scientist</td>\n",
       "      <td>20+ years</td>\n",
       "      <td>Python</td>\n",
       "      <td>NaN</td>\n",
       "      <td>NaN</td>\n",
       "      <td>...</td>\n",
       "      <td>NaN</td>\n",
       "      <td>NaN</td>\n",
       "      <td>NaN</td>\n",
       "      <td>NaN</td>\n",
       "      <td>NaN</td>\n",
       "      <td>NaN</td>\n",
       "      <td>NaN</td>\n",
       "      <td>NaN</td>\n",
       "      <td>None</td>\n",
       "      <td>NaN</td>\n",
       "    </tr>\n",
       "  </tbody>\n",
       "</table>\n",
       "<p>5 rows × 369 columns</p>\n",
       "</div>"
      ],
      "text/plain": [
       "  Time from Start to Finish (seconds)                           Q1  \\\n",
       "0               Duration (in seconds)  What is your age (# years)?   \n",
       "1                                 910                        50-54   \n",
       "2                                 784                        50-54   \n",
       "3                                 924                        22-24   \n",
       "4                                 575                        45-49   \n",
       "\n",
       "                                       Q2  \\\n",
       "0  What is your gender? - Selected Choice   \n",
       "1                                     Man   \n",
       "2                                     Man   \n",
       "3                                     Man   \n",
       "4                                     Man   \n",
       "\n",
       "                                          Q3  \\\n",
       "0  In which country do you currently reside?   \n",
       "1                                      India   \n",
       "2                                  Indonesia   \n",
       "3                                   Pakistan   \n",
       "4                                     Mexico   \n",
       "\n",
       "                                                  Q4  \\\n",
       "0  What is the highest level of formal education ...   \n",
       "1                                  Bachelor’s degree   \n",
       "2                                    Master’s degree   \n",
       "3                                    Master’s degree   \n",
       "4                                    Doctoral degree   \n",
       "\n",
       "                                                  Q5  \\\n",
       "0  Select the title most similar to your current ...   \n",
       "1                                              Other   \n",
       "2                            Program/Project Manager   \n",
       "3                                  Software Engineer   \n",
       "4                                 Research Scientist   \n",
       "\n",
       "                                                  Q6  \\\n",
       "0  For how many years have you been writing code ...   \n",
       "1                                         5-10 years   \n",
       "2                                          20+ years   \n",
       "3                                          1-3 years   \n",
       "4                                          20+ years   \n",
       "\n",
       "                                           Q7_Part_1  \\\n",
       "0  What programming languages do you use on a reg...   \n",
       "1                                             Python   \n",
       "2                                                NaN   \n",
       "3                                             Python   \n",
       "4                                             Python   \n",
       "\n",
       "                                           Q7_Part_2  \\\n",
       "0  What programming languages do you use on a reg...   \n",
       "1                                                  R   \n",
       "2                                                NaN   \n",
       "3                                                NaN   \n",
       "4                                                NaN   \n",
       "\n",
       "                                           Q7_Part_3  ...  \\\n",
       "0  What programming languages do you use on a reg...  ...   \n",
       "1                                                NaN  ...   \n",
       "2                                                SQL  ...   \n",
       "3                                                NaN  ...   \n",
       "4                                                NaN  ...   \n",
       "\n",
       "                                        Q38_B_Part_3  \\\n",
       "0  In the next 2 years, do you hope to become mor...   \n",
       "1                                                NaN   \n",
       "2                                                NaN   \n",
       "3                                                NaN   \n",
       "4                                                NaN   \n",
       "\n",
       "                                        Q38_B_Part_4  \\\n",
       "0  In the next 2 years, do you hope to become mor...   \n",
       "1                                                NaN   \n",
       "2                                                NaN   \n",
       "3                                                NaN   \n",
       "4                                                NaN   \n",
       "\n",
       "                                        Q38_B_Part_5  \\\n",
       "0  In the next 2 years, do you hope to become mor...   \n",
       "1                                                NaN   \n",
       "2                                                NaN   \n",
       "3                                       TensorBoard    \n",
       "4                                                NaN   \n",
       "\n",
       "                                        Q38_B_Part_6  \\\n",
       "0  In the next 2 years, do you hope to become mor...   \n",
       "1                                                NaN   \n",
       "2                                                NaN   \n",
       "3                                                NaN   \n",
       "4                                                NaN   \n",
       "\n",
       "                                        Q38_B_Part_7  \\\n",
       "0  In the next 2 years, do you hope to become mor...   \n",
       "1                                                NaN   \n",
       "2                                                NaN   \n",
       "3                                                NaN   \n",
       "4                                                NaN   \n",
       "\n",
       "                                        Q38_B_Part_8  \\\n",
       "0  In the next 2 years, do you hope to become mor...   \n",
       "1                                                NaN   \n",
       "2                                                NaN   \n",
       "3                                                NaN   \n",
       "4                                                NaN   \n",
       "\n",
       "                                        Q38_B_Part_9  \\\n",
       "0  In the next 2 years, do you hope to become mor...   \n",
       "1                                                NaN   \n",
       "2                                                NaN   \n",
       "3                                                NaN   \n",
       "4                                                NaN   \n",
       "\n",
       "                                       Q38_B_Part_10  \\\n",
       "0  In the next 2 years, do you hope to become mor...   \n",
       "1                                                NaN   \n",
       "2                                                NaN   \n",
       "3                                                NaN   \n",
       "4                                                NaN   \n",
       "\n",
       "                                       Q38_B_Part_11  \\\n",
       "0  In the next 2 years, do you hope to become mor...   \n",
       "1                                                NaN   \n",
       "2                                               None   \n",
       "3                                                NaN   \n",
       "4                                               None   \n",
       "\n",
       "                                         Q38_B_OTHER  \n",
       "0  In the next 2 years, do you hope to become mor...  \n",
       "1                                                NaN  \n",
       "2                                                NaN  \n",
       "3                                                NaN  \n",
       "4                                                NaN  \n",
       "\n",
       "[5 rows x 369 columns]"
      ]
     },
     "execution_count": 3,
     "metadata": {},
     "output_type": "execute_result"
    }
   ],
   "source": [
    "# first five rows\n",
    "data.head()"
   ]
  },
  {
   "cell_type": "code",
   "execution_count": 4,
   "id": "478867ab",
   "metadata": {
    "execution": {
     "iopub.execute_input": "2022-07-10T14:10:50.240687Z",
     "iopub.status.busy": "2022-07-10T14:10:50.239322Z",
     "iopub.status.idle": "2022-07-10T14:10:50.245525Z",
     "shell.execute_reply": "2022-07-10T14:10:50.244507Z"
    },
    "papermill": {
     "duration": 0.018069,
     "end_time": "2022-07-10T14:10:50.248047",
     "exception": false,
     "start_time": "2022-07-10T14:10:50.229978",
     "status": "completed"
    },
    "tags": []
   },
   "outputs": [],
   "source": [
    "# remove the column Time from Start to Finish (seconds)\n",
    "data = data.iloc[: , 1:]"
   ]
  },
  {
   "cell_type": "code",
   "execution_count": 5,
   "id": "fae54634",
   "metadata": {
    "execution": {
     "iopub.execute_input": "2022-07-10T14:10:50.266882Z",
     "iopub.status.busy": "2022-07-10T14:10:50.265713Z",
     "iopub.status.idle": "2022-07-10T14:10:50.272686Z",
     "shell.execute_reply": "2022-07-10T14:10:50.271805Z"
    },
    "papermill": {
     "duration": 0.018568,
     "end_time": "2022-07-10T14:10:50.274892",
     "exception": false,
     "start_time": "2022-07-10T14:10:50.256324",
     "status": "completed"
    },
    "tags": []
   },
   "outputs": [
    {
     "data": {
      "text/plain": [
       "(25974, 368)"
      ]
     },
     "execution_count": 5,
     "metadata": {},
     "output_type": "execute_result"
    }
   ],
   "source": [
    "# size of the dataset\n",
    "data.shape # 25973 rows, 369 columns"
   ]
  },
  {
   "cell_type": "code",
   "execution_count": 6,
   "id": "b6a5320b",
   "metadata": {
    "execution": {
     "iopub.execute_input": "2022-07-10T14:10:50.293536Z",
     "iopub.status.busy": "2022-07-10T14:10:50.292764Z",
     "iopub.status.idle": "2022-07-10T14:10:50.300260Z",
     "shell.execute_reply": "2022-07-10T14:10:50.299410Z"
    },
    "papermill": {
     "duration": 0.019512,
     "end_time": "2022-07-10T14:10:50.302514",
     "exception": false,
     "start_time": "2022-07-10T14:10:50.283002",
     "status": "completed"
    },
    "tags": []
   },
   "outputs": [],
   "source": [
    "def rename_columns(df):\n",
    "    \"\"\"\n",
    "    input: the dataset we want to rename the columns\n",
    "    output: combine the first row of the dataset into the original column\n",
    "    \"\"\"\n",
    "    original_columns = df.columns\n",
    "    num_col = df.shape[1]\n",
    "    first_row = df.iloc[0] #grab the first row for the header\n",
    "    df = df[1:] #take the data below the first row\n",
    "    # create a list containing new column names\n",
    "    new_cols = []\n",
    "    for col in range(num_col):\n",
    "        new_col_name = original_columns[col] + '_' + first_row[col]\n",
    "        new_cols.append(new_col_name)\n",
    "    df.columns = new_cols # assign the new column names to the dataset\n",
    "    return df"
   ]
  },
  {
   "cell_type": "code",
   "execution_count": 7,
   "id": "9f7dad55",
   "metadata": {
    "execution": {
     "iopub.execute_input": "2022-07-10T14:10:50.321683Z",
     "iopub.status.busy": "2022-07-10T14:10:50.321294Z",
     "iopub.status.idle": "2022-07-10T14:10:50.327521Z",
     "shell.execute_reply": "2022-07-10T14:10:50.326322Z"
    },
    "papermill": {
     "duration": 0.018384,
     "end_time": "2022-07-10T14:10:50.329625",
     "exception": false,
     "start_time": "2022-07-10T14:10:50.311241",
     "status": "completed"
    },
    "tags": []
   },
   "outputs": [],
   "source": [
    "def replace_nan(df):\n",
    "    \"\"\"\n",
    "    input:\n",
    "    df - the target dataset\n",
    "    \n",
    "    output:\n",
    "    a new dataset with nan values replaced as 0 and non-nan values replaced with 1\n",
    "    \"\"\"\n",
    "    array = np.where(df.isnull(),0,1)\n",
    "    df = pd.DataFrame(data=array, columns=df.columns)\n",
    "    df.index = df.index + 1\n",
    "    return df\n",
    "\n",
    "\n",
    "#role_data = replace_nan(role_question)"
   ]
  },
  {
   "cell_type": "code",
   "execution_count": 8,
   "id": "0624d679",
   "metadata": {
    "execution": {
     "iopub.execute_input": "2022-07-10T14:10:50.348473Z",
     "iopub.status.busy": "2022-07-10T14:10:50.347276Z",
     "iopub.status.idle": "2022-07-10T14:10:50.355048Z",
     "shell.execute_reply": "2022-07-10T14:10:50.354045Z"
    },
    "papermill": {
     "duration": 0.019609,
     "end_time": "2022-07-10T14:10:50.357436",
     "exception": false,
     "start_time": "2022-07-10T14:10:50.337827",
     "status": "completed"
    },
    "tags": []
   },
   "outputs": [],
   "source": [
    "renamed_data = rename_columns(data)"
   ]
  },
  {
   "cell_type": "code",
   "execution_count": 9,
   "id": "3f732167",
   "metadata": {
    "execution": {
     "iopub.execute_input": "2022-07-10T14:10:50.376043Z",
     "iopub.status.busy": "2022-07-10T14:10:50.375367Z",
     "iopub.status.idle": "2022-07-10T14:10:50.382393Z",
     "shell.execute_reply": "2022-07-10T14:10:50.381589Z"
    },
    "papermill": {
     "duration": 0.018889,
     "end_time": "2022-07-10T14:10:50.384649",
     "exception": false,
     "start_time": "2022-07-10T14:10:50.365760",
     "status": "completed"
    },
    "tags": []
   },
   "outputs": [],
   "source": [
    "def split_cols(df):\n",
    "    \"\"\"\n",
    "    input:\n",
    "    df - target dataframe\n",
    "    \n",
    "    output:\n",
    "    single_questions - a list of column names that belong to single question column\n",
    "    multiple_questions - a list of column names that belong to multiple question column\n",
    "    \"\"\"\n",
    "    single_questions = []\n",
    "    multiple_questions = []\n",
    "    for col in df.columns:\n",
    "        if 'part' in col.lower() or 'other' in col.lower():\n",
    "            multiple_questions.append(col)\n",
    "        else:\n",
    "            single_questions.append(col)\n",
    "    return single_questions, multiple_questions\n",
    "\n",
    "single_questions = split_cols(renamed_data)[0]\n",
    "multiple_questions = split_cols(renamed_data)[1]"
   ]
  },
  {
   "cell_type": "code",
   "execution_count": 10,
   "id": "935fc9e9",
   "metadata": {
    "execution": {
     "iopub.execute_input": "2022-07-10T14:10:50.403318Z",
     "iopub.status.busy": "2022-07-10T14:10:50.402615Z",
     "iopub.status.idle": "2022-07-10T14:10:50.408359Z",
     "shell.execute_reply": "2022-07-10T14:10:50.407634Z"
    },
    "papermill": {
     "duration": 0.017504,
     "end_time": "2022-07-10T14:10:50.410416",
     "exception": false,
     "start_time": "2022-07-10T14:10:50.392912",
     "status": "completed"
    },
    "tags": []
   },
   "outputs": [],
   "source": [
    "def pivot_col(df, col):\n",
    "    \"\"\"\n",
    "    input:\n",
    "    df - target dataset\n",
    "    col - the column we want to pivot its value as new columns\n",
    "    \n",
    "    output:\n",
    "    return a pivoted dataframe where columns are value from the col of old dataframe\n",
    "    \"\"\"\n",
    "    df['participant_id'] = df.index\n",
    "    pivoted_df = df.pivot(index = 'participant_id', columns=col, values=col).reset_index().iloc[: , 1:]\n",
    "    pivoted_df.index = pivoted_df.index + 1\n",
    "    return pivoted_df"
   ]
  },
  {
   "cell_type": "code",
   "execution_count": 11,
   "id": "91b4aa3f",
   "metadata": {
    "execution": {
     "iopub.execute_input": "2022-07-10T14:10:50.429465Z",
     "iopub.status.busy": "2022-07-10T14:10:50.428843Z",
     "iopub.status.idle": "2022-07-10T14:10:51.694643Z",
     "shell.execute_reply": "2022-07-10T14:10:51.693395Z"
    },
    "papermill": {
     "duration": 1.278454,
     "end_time": "2022-07-10T14:10:51.697327",
     "exception": false,
     "start_time": "2022-07-10T14:10:50.418873",
     "status": "completed"
    },
    "tags": []
   },
   "outputs": [
    {
     "name": "stderr",
     "output_type": "stream",
     "text": [
      "/opt/conda/lib/python3.7/site-packages/ipykernel_launcher.py:10: SettingWithCopyWarning: \n",
      "A value is trying to be set on a copy of a slice from a DataFrame.\n",
      "Try using .loc[row_indexer,col_indexer] = value instead\n",
      "\n",
      "See the caveats in the documentation: https://pandas.pydata.org/pandas-docs/stable/user_guide/indexing.html#returning-a-view-versus-a-copy\n",
      "  # Remove the CWD from sys.path while we load stuff.\n"
     ]
    }
   ],
   "source": [
    "def pivot_df(df):\n",
    "    \"\"\"\n",
    "    input:\n",
    "    df - targer dataframe\n",
    "    var_cols - a list of column names we want to pivot\n",
    "    aggr - the column we used to group by the dataset\n",
    "        \n",
    "    output:\n",
    "    return a dataframe where each column comes from value of each col of old dataframe\n",
    "    NaN value replaced with 0 while non-NaN value replaced with 1\n",
    "    \"\"\"\n",
    "    \n",
    "    pivoted_df = []\n",
    "    for col in df.columns:\n",
    "        if col in single_questions: ## single question answers\n",
    "            pivoted = pivot_col(df[[col]], col)\n",
    "            pivoted_df.append(pivoted)\n",
    "        else:\n",
    "            pivoted_df.append(df[[col]])\n",
    "    pivoted_merged_df = pd.concat(pivoted_df, axis=1, ignore_index=False)\n",
    "    return pivoted_merged_df\n",
    "pivoted_data = pivot_df(renamed_data)"
   ]
  },
  {
   "cell_type": "code",
   "execution_count": 12,
   "id": "f2d1a4f0",
   "metadata": {
    "execution": {
     "iopub.execute_input": "2022-07-10T14:10:51.715847Z",
     "iopub.status.busy": "2022-07-10T14:10:51.715450Z",
     "iopub.status.idle": "2022-07-10T14:10:52.576243Z",
     "shell.execute_reply": "2022-07-10T14:10:52.575095Z"
    },
    "papermill": {
     "duration": 0.872942,
     "end_time": "2022-07-10T14:10:52.578756",
     "exception": false,
     "start_time": "2022-07-10T14:10:51.705814",
     "status": "completed"
    },
    "tags": []
   },
   "outputs": [],
   "source": [
    "binary_data = replace_nan(pivoted_data)"
   ]
  },
  {
   "cell_type": "code",
   "execution_count": 13,
   "id": "41462c90",
   "metadata": {
    "execution": {
     "iopub.execute_input": "2022-07-10T14:10:52.598762Z",
     "iopub.status.busy": "2022-07-10T14:10:52.598118Z",
     "iopub.status.idle": "2022-07-10T14:50:57.250177Z",
     "shell.execute_reply": "2022-07-10T14:50:57.249158Z"
    },
    "papermill": {
     "duration": 2404.665303,
     "end_time": "2022-07-10T14:50:57.252646",
     "exception": false,
     "start_time": "2022-07-10T14:10:52.587343",
     "status": "completed"
    },
    "tags": []
   },
   "outputs": [],
   "source": [
    "data_matrix = binary_data.dot(np.transpose(binary_data))"
   ]
  },
  {
   "cell_type": "code",
   "execution_count": 14,
   "id": "1fda5c6d",
   "metadata": {
    "execution": {
     "iopub.execute_input": "2022-07-10T14:50:57.271905Z",
     "iopub.status.busy": "2022-07-10T14:50:57.270907Z",
     "iopub.status.idle": "2022-07-10T14:50:57.277146Z",
     "shell.execute_reply": "2022-07-10T14:50:57.276435Z"
    },
    "papermill": {
     "duration": 0.017902,
     "end_time": "2022-07-10T14:50:57.279259",
     "exception": false,
     "start_time": "2022-07-10T14:50:57.261357",
     "status": "completed"
    },
    "tags": []
   },
   "outputs": [],
   "source": [
    "def closest_participant(participant_id, participant_matrix):\n",
    "    \"\"\"\n",
    "    input:\n",
    "    participant_id - target participant\n",
    "    participant_matrix - matrix where shows the similarity between each participant\n",
    "    \n",
    "    output - the list of participants other than the target participant, ranked by similarity\n",
    "    \"\"\"\n",
    "    participant_list = participant_matrix[[participant_id]]\n",
    "    participant_list = participant_list.sort_values(by = participant_id, ascending = False)\n",
    "    \n",
    "    return participant_list.index[1:]\n",
    "\n"
   ]
  },
  {
   "cell_type": "code",
   "execution_count": 15,
   "id": "a30395a5",
   "metadata": {
    "execution": {
     "iopub.execute_input": "2022-07-10T14:50:57.298107Z",
     "iopub.status.busy": "2022-07-10T14:50:57.297382Z",
     "iopub.status.idle": "2022-07-10T14:50:57.306904Z",
     "shell.execute_reply": "2022-07-10T14:50:57.306001Z"
    },
    "papermill": {
     "duration": 0.021634,
     "end_time": "2022-07-10T14:50:57.309076",
     "exception": false,
     "start_time": "2022-07-10T14:50:57.287442",
     "status": "completed"
    },
    "tags": []
   },
   "outputs": [
    {
     "data": {
      "text/plain": [
       "'30,000-39,999'"
      ]
     },
     "execution_count": 15,
     "metadata": {},
     "output_type": "execute_result"
    }
   ],
   "source": [
    "def compensation(df , participant):\n",
    "    \"\"\"\n",
    "    input -\n",
    "    df - target dataset\n",
    "    participant - the id of the participant\n",
    "    \n",
    "    output -\n",
    "    the yearly compensation of that participant\n",
    "    \"\"\"\n",
    "    \n",
    "    compensation = df.loc[df.index == participant]['Q25_What is your current yearly compensation (approximate $USD)?'].iloc[0]\n",
    "    \n",
    "    return compensation\n",
    "\n",
    "compensation(renamed_data,5)"
   ]
  },
  {
   "cell_type": "code",
   "execution_count": 16,
   "id": "3a8a6b84",
   "metadata": {
    "execution": {
     "iopub.execute_input": "2022-07-10T14:50:57.328078Z",
     "iopub.status.busy": "2022-07-10T14:50:57.327413Z",
     "iopub.status.idle": "2022-07-10T14:50:57.345264Z",
     "shell.execute_reply": "2022-07-10T14:50:57.344108Z"
    },
    "papermill": {
     "duration": 0.030052,
     "end_time": "2022-07-10T14:50:57.347440",
     "exception": false,
     "start_time": "2022-07-10T14:50:57.317388",
     "status": "completed"
    },
    "tags": []
   },
   "outputs": [
    {
     "data": {
      "text/plain": [
       "'$500,000-999,999'"
      ]
     },
     "execution_count": 16,
     "metadata": {},
     "output_type": "execute_result"
    }
   ],
   "source": [
    "def similar_user_compensation(df, participant_ids):\n",
    "    \"\"\"\n",
    "    input:\n",
    "    df - target dataset\n",
    "    participant_ids - a list of participant ids\n",
    "    output:\n",
    "    the first participant id that has non-null compensation data\n",
    "    \"\"\"\n",
    "    for participant in participant_ids:\n",
    "        if compensation(df, participant) is not None:\n",
    "            return compensation(df, participant)\n",
    "        else:\n",
    "            pass\n",
    "similar_user_compensation(renamed_data,closest_participant(5,data_matrix))"
   ]
  },
  {
   "cell_type": "code",
   "execution_count": 17,
   "id": "5c359f82",
   "metadata": {
    "execution": {
     "iopub.execute_input": "2022-07-10T14:50:57.365958Z",
     "iopub.status.busy": "2022-07-10T14:50:57.365576Z",
     "iopub.status.idle": "2022-07-10T14:50:57.407582Z",
     "shell.execute_reply": "2022-07-10T14:50:57.406468Z"
    },
    "papermill": {
     "duration": 0.055955,
     "end_time": "2022-07-10T14:50:57.411858",
     "exception": false,
     "start_time": "2022-07-10T14:50:57.355903",
     "status": "completed"
    },
    "tags": []
   },
   "outputs": [
    {
     "data": {
      "text/plain": [
       "(['Q1_What is your age (# years)?',\n",
       "  'Q2_What is your gender? - Selected Choice',\n",
       "  'Q4_What is the highest level of formal education that you have attained or plan to attain within the next 2 years?',\n",
       "  'Q5_Select the title most similar to your current role (or most recent title if retired): - Selected Choice',\n",
       "  'Q7_Part_1_What programming languages do you use on a regular basis? (Select all that apply) - Selected Choice - Python',\n",
       "  'Q7_Part_11_What programming languages do you use on a regular basis? (Select all that apply) - Selected Choice - MATLAB',\n",
       "  'Q8_What programming language would you recommend an aspiring data scientist to learn first? - Selected Choice',\n",
       "  \"Q9_Part_6_Which of the following integrated development environments (IDE's) do you use on a regular basis?  (Select all that apply) - Selected Choice -   Spyder  \",\n",
       "  \"Q9_Part_10_Which of the following integrated development environments (IDE's) do you use on a regular basis?  (Select all that apply) - Selected Choice -  MATLAB \",\n",
       "  \"Q9_Part_11_Which of the following integrated development environments (IDE's) do you use on a regular basis?  (Select all that apply) - Selected Choice -  Jupyter Notebook\",\n",
       "  'Q11_What type of computing platform do you use most often for your data science projects? - Selected Choice',\n",
       "  'Q14_Part_1_What data visualization libraries or tools do you use on a regular basis?  (Select all that apply) - Selected Choice -  Matplotlib ',\n",
       "  'Q14_Part_2_What data visualization libraries or tools do you use on a regular basis?  (Select all that apply) - Selected Choice -  Seaborn ',\n",
       "  'Q14_Part_4_What data visualization libraries or tools do you use on a regular basis?  (Select all that apply) - Selected Choice -  Ggplot / ggplot2 ',\n",
       "  'Q15_For how many years have you used machine learning methods?',\n",
       "  'Q16_Part_1_Which of the following machine learning frameworks do you use on a regular basis? (Select all that apply) - Selected Choice -   Scikit-learn ',\n",
       "  'Q16_Part_4_Which of the following machine learning frameworks do you use on a regular basis? (Select all that apply) - Selected Choice -  PyTorch ',\n",
       "  'Q16_Part_8_Which of the following machine learning frameworks do you use on a regular basis? (Select all that apply) - Selected Choice -  LightGBM ',\n",
       "  'Q17_Part_1_Which of the following ML algorithms do you use on a regular basis? (Select all that apply): - Selected Choice - Linear or Logistic Regression',\n",
       "  'Q17_Part_2_Which of the following ML algorithms do you use on a regular basis? (Select all that apply): - Selected Choice - Decision Trees or Random Forests',\n",
       "  'Q17_Part_3_Which of the following ML algorithms do you use on a regular basis? (Select all that apply): - Selected Choice - Gradient Boosting Machines (xgboost, lightgbm, etc)',\n",
       "  'Q17_Part_4_Which of the following ML algorithms do you use on a regular basis? (Select all that apply): - Selected Choice - Bayesian Approaches',\n",
       "  'Q17_Part_5_Which of the following ML algorithms do you use on a regular basis? (Select all that apply): - Selected Choice - Evolutionary Approaches',\n",
       "  'Q24_Part_1_Select any activities that make up an important part of your role at work: (Select all that apply) - Selected Choice - Analyze and understand data to influence product or business decisions',\n",
       "  'Q24_Part_3_Select any activities that make up an important part of your role at work: (Select all that apply) - Selected Choice - Build prototypes to explore applying machine learning to new areas',\n",
       "  'Q27_A_Part_2_Which of the following cloud computing platforms do you use on a regular basis? (Select all that apply) - Selected Choice -  Microsoft Azure ',\n",
       "  'Q29_A_Part_2_Do you use any of the following cloud computing products on a regular basis? (Select all that apply) - Selected Choice -  Microsoft Azure Virtual Machines ',\n",
       "  'Q30_A_Part_1_Do you use any of the following data storage products on a regular basis? (Select all that apply) - Selected Choice - Microsoft Azure Data Lake Storage ',\n",
       "  'Q31_A_Part_2_Do you use any of the following managed machine learning products on a regular basis? (Select all that apply) - Selected Choice -  Azure Machine Learning Studio ',\n",
       "  'Q34_A_Part_2_Which of the following business intelligence tools do you use on a regular basis? (Select all that apply) - Selected Choice - Microsoft Power BI',\n",
       "  'Q38_A_Part_2_Do you use any tools to help manage machine learning experiments? (Select all that apply) - Selected Choice -  Weights & Biases ',\n",
       "  'Q40_Part_3_On which platforms have you begun or completed data science courses? (Select all that apply) - Selected Choice - Kaggle Learn Courses',\n",
       "  'Q40_Part_7_On which platforms have you begun or completed data science courses? (Select all that apply) - Selected Choice - Udemy',\n",
       "  'Q42_Part_9_Who/what are your favorite media sources that report on data science topics? (Select all that apply) - Selected Choice - Journal Publications (peer-reviewed journals, conference proceedings, etc)'],\n",
       " ['Q3_In which country do you currently reside?',\n",
       "  'Q6_For how many years have you been writing code and/or programming?',\n",
       "  'Q7_Part_2_What programming languages do you use on a regular basis? (Select all that apply) - Selected Choice - R',\n",
       "  'Q7_Part_3_What programming languages do you use on a regular basis? (Select all that apply) - Selected Choice - SQL',\n",
       "  'Q7_Part_4_What programming languages do you use on a regular basis? (Select all that apply) - Selected Choice - C',\n",
       "  'Q7_Part_5_What programming languages do you use on a regular basis? (Select all that apply) - Selected Choice - C++',\n",
       "  'Q7_Part_6_What programming languages do you use on a regular basis? (Select all that apply) - Selected Choice - Java',\n",
       "  'Q7_Part_7_What programming languages do you use on a regular basis? (Select all that apply) - Selected Choice - Javascript',\n",
       "  'Q7_Part_8_What programming languages do you use on a regular basis? (Select all that apply) - Selected Choice - Julia',\n",
       "  'Q7_Part_9_What programming languages do you use on a regular basis? (Select all that apply) - Selected Choice - Swift',\n",
       "  'Q7_Part_10_What programming languages do you use on a regular basis? (Select all that apply) - Selected Choice - Bash',\n",
       "  'Q7_Part_12_What programming languages do you use on a regular basis? (Select all that apply) - Selected Choice - None',\n",
       "  'Q7_OTHER_What programming languages do you use on a regular basis? (Select all that apply) - Selected Choice - Other',\n",
       "  \"Q9_Part_1_Which of the following integrated development environments (IDE's) do you use on a regular basis?  (Select all that apply) - Selected Choice - Jupyter (JupyterLab, Jupyter Notebooks, etc) \",\n",
       "  \"Q9_Part_2_Which of the following integrated development environments (IDE's) do you use on a regular basis?  (Select all that apply) - Selected Choice -  RStudio \",\n",
       "  \"Q9_Part_3_Which of the following integrated development environments (IDE's) do you use on a regular basis?  (Select all that apply) - Selected Choice -  Visual Studio \",\n",
       "  \"Q9_Part_4_Which of the following integrated development environments (IDE's) do you use on a regular basis?  (Select all that apply) - Selected Choice -  Visual Studio Code (VSCode) \",\n",
       "  \"Q9_Part_5_Which of the following integrated development environments (IDE's) do you use on a regular basis?  (Select all that apply) - Selected Choice -  PyCharm \",\n",
       "  \"Q9_Part_7_Which of the following integrated development environments (IDE's) do you use on a regular basis?  (Select all that apply) - Selected Choice -   Notepad++  \",\n",
       "  \"Q9_Part_8_Which of the following integrated development environments (IDE's) do you use on a regular basis?  (Select all that apply) - Selected Choice -   Sublime Text  \",\n",
       "  \"Q9_Part_9_Which of the following integrated development environments (IDE's) do you use on a regular basis?  (Select all that apply) - Selected Choice -   Vim / Emacs  \",\n",
       "  \"Q9_Part_12_Which of the following integrated development environments (IDE's) do you use on a regular basis?  (Select all that apply) - Selected Choice - None\",\n",
       "  \"Q9_OTHER_Which of the following integrated development environments (IDE's) do you use on a regular basis?  (Select all that apply) - Selected Choice - Other\",\n",
       "  'Q10_Part_1_Which of the following hosted notebook products do you use on a regular basis?  (Select all that apply) - Selected Choice -  Kaggle Notebooks',\n",
       "  'Q10_Part_2_Which of the following hosted notebook products do you use on a regular basis?  (Select all that apply) - Selected Choice - Colab Notebooks',\n",
       "  'Q10_Part_3_Which of the following hosted notebook products do you use on a regular basis?  (Select all that apply) - Selected Choice - Azure Notebooks',\n",
       "  'Q10_Part_4_Which of the following hosted notebook products do you use on a regular basis?  (Select all that apply) - Selected Choice -  Paperspace / Gradient ',\n",
       "  'Q10_Part_5_Which of the following hosted notebook products do you use on a regular basis?  (Select all that apply) - Selected Choice -  Binder / JupyterHub ',\n",
       "  'Q10_Part_6_Which of the following hosted notebook products do you use on a regular basis?  (Select all that apply) - Selected Choice -  Code Ocean ',\n",
       "  'Q10_Part_7_Which of the following hosted notebook products do you use on a regular basis?  (Select all that apply) - Selected Choice -  IBM Watson Studio ',\n",
       "  'Q10_Part_8_Which of the following hosted notebook products do you use on a regular basis?  (Select all that apply) - Selected Choice -  Amazon Sagemaker Studio Notebooks ',\n",
       "  'Q10_Part_9_Which of the following hosted notebook products do you use on a regular basis?  (Select all that apply) - Selected Choice -  Amazon EMR Notebooks ',\n",
       "  'Q10_Part_10_Which of the following hosted notebook products do you use on a regular basis?  (Select all that apply) - Selected Choice - Google Cloud Notebooks (AI Platform / Vertex AI) ',\n",
       "  'Q10_Part_11_Which of the following hosted notebook products do you use on a regular basis?  (Select all that apply) - Selected Choice - Google Cloud Datalab',\n",
       "  'Q10_Part_12_Which of the following hosted notebook products do you use on a regular basis?  (Select all that apply) - Selected Choice -  Databricks Collaborative Notebooks ',\n",
       "  'Q10_Part_13_Which of the following hosted notebook products do you use on a regular basis?  (Select all that apply) - Selected Choice -  Zeppelin / Zepl Notebooks ',\n",
       "  'Q10_Part_14_Which of the following hosted notebook products do you use on a regular basis?  (Select all that apply) - Selected Choice -  Deepnote Notebooks ',\n",
       "  'Q10_Part_15_Which of the following hosted notebook products do you use on a regular basis?  (Select all that apply) - Selected Choice -  Observable Notebooks ',\n",
       "  'Q10_Part_16_Which of the following hosted notebook products do you use on a regular basis?  (Select all that apply) - Selected Choice - None',\n",
       "  'Q10_OTHER_Which of the following hosted notebook products do you use on a regular basis?  (Select all that apply) - Selected Choice - Other',\n",
       "  'Q12_Part_1_Which types of specialized hardware do you use on a regular basis?  (Select all that apply) - Selected Choice -  NVIDIA GPUs ',\n",
       "  'Q12_Part_2_Which types of specialized hardware do you use on a regular basis?  (Select all that apply) - Selected Choice -  Google Cloud TPUs ',\n",
       "  'Q12_Part_3_Which types of specialized hardware do you use on a regular basis?  (Select all that apply) - Selected Choice -  AWS Trainium Chips ',\n",
       "  'Q12_Part_4_Which types of specialized hardware do you use on a regular basis?  (Select all that apply) - Selected Choice -  AWS Inferentia Chips ',\n",
       "  'Q12_Part_5_Which types of specialized hardware do you use on a regular basis?  (Select all that apply) - Selected Choice - None',\n",
       "  'Q12_OTHER_Which types of specialized hardware do you use on a regular basis?  (Select all that apply) - Selected Choice - Other',\n",
       "  'Q13_Approximately how many times have you used a TPU (tensor processing unit)?',\n",
       "  'Q14_Part_3_What data visualization libraries or tools do you use on a regular basis?  (Select all that apply) - Selected Choice -  Plotly / Plotly Express ',\n",
       "  'Q14_Part_5_What data visualization libraries or tools do you use on a regular basis?  (Select all that apply) - Selected Choice -  Shiny ',\n",
       "  'Q14_Part_6_What data visualization libraries or tools do you use on a regular basis?  (Select all that apply) - Selected Choice -  D3 js ',\n",
       "  'Q14_Part_7_What data visualization libraries or tools do you use on a regular basis?  (Select all that apply) - Selected Choice -  Altair ',\n",
       "  'Q14_Part_8_What data visualization libraries or tools do you use on a regular basis?  (Select all that apply) - Selected Choice -  Bokeh ',\n",
       "  'Q14_Part_9_What data visualization libraries or tools do you use on a regular basis?  (Select all that apply) - Selected Choice -  Geoplotlib ',\n",
       "  'Q14_Part_10_What data visualization libraries or tools do you use on a regular basis?  (Select all that apply) - Selected Choice -  Leaflet / Folium ',\n",
       "  'Q14_Part_11_What data visualization libraries or tools do you use on a regular basis?  (Select all that apply) - Selected Choice - None',\n",
       "  'Q14_OTHER_What data visualization libraries or tools do you use on a regular basis?  (Select all that apply) - Selected Choice - Other',\n",
       "  'Q16_Part_2_Which of the following machine learning frameworks do you use on a regular basis? (Select all that apply) - Selected Choice -   TensorFlow ',\n",
       "  'Q16_Part_3_Which of the following machine learning frameworks do you use on a regular basis? (Select all that apply) - Selected Choice -  Keras ',\n",
       "  'Q16_Part_5_Which of the following machine learning frameworks do you use on a regular basis? (Select all that apply) - Selected Choice -  Fast.ai ',\n",
       "  'Q16_Part_6_Which of the following machine learning frameworks do you use on a regular basis? (Select all that apply) - Selected Choice -  MXNet ',\n",
       "  'Q16_Part_7_Which of the following machine learning frameworks do you use on a regular basis? (Select all that apply) - Selected Choice -  Xgboost ',\n",
       "  'Q16_Part_9_Which of the following machine learning frameworks do you use on a regular basis? (Select all that apply) - Selected Choice -  CatBoost ',\n",
       "  'Q16_Part_10_Which of the following machine learning frameworks do you use on a regular basis? (Select all that apply) - Selected Choice -  Prophet ',\n",
       "  'Q16_Part_11_Which of the following machine learning frameworks do you use on a regular basis? (Select all that apply) - Selected Choice -  H2O 3 ',\n",
       "  'Q16_Part_12_Which of the following machine learning frameworks do you use on a regular basis? (Select all that apply) - Selected Choice -  Caret ',\n",
       "  'Q16_Part_13_Which of the following machine learning frameworks do you use on a regular basis? (Select all that apply) - Selected Choice -  Tidymodels ',\n",
       "  'Q16_Part_14_Which of the following machine learning frameworks do you use on a regular basis? (Select all that apply) - Selected Choice -  JAX ',\n",
       "  'Q16_Part_15_Which of the following machine learning frameworks do you use on a regular basis? (Select all that apply) - Selected Choice -  PyTorch Lightning ',\n",
       "  'Q16_Part_16_Which of the following machine learning frameworks do you use on a regular basis? (Select all that apply) - Selected Choice -  Huggingface ',\n",
       "  'Q16_Part_17_Which of the following machine learning frameworks do you use on a regular basis? (Select all that apply) - Selected Choice - None',\n",
       "  'Q16_OTHER_Which of the following machine learning frameworks do you use on a regular basis? (Select all that apply) - Selected Choice - Other',\n",
       "  'Q17_Part_6_Which of the following ML algorithms do you use on a regular basis? (Select all that apply): - Selected Choice - Dense Neural Networks (MLPs, etc)',\n",
       "  'Q17_Part_7_Which of the following ML algorithms do you use on a regular basis? (Select all that apply): - Selected Choice - Convolutional Neural Networks',\n",
       "  'Q17_Part_8_Which of the following ML algorithms do you use on a regular basis? (Select all that apply): - Selected Choice - Generative Adversarial Networks',\n",
       "  'Q17_Part_9_Which of the following ML algorithms do you use on a regular basis? (Select all that apply): - Selected Choice - Recurrent Neural Networks',\n",
       "  'Q17_Part_10_Which of the following ML algorithms do you use on a regular basis? (Select all that apply): - Selected Choice - Transformer Networks (BERT, gpt-3, etc)',\n",
       "  'Q17_Part_11_Which of the following ML algorithms do you use on a regular basis? (Select all that apply): - Selected Choice - None',\n",
       "  'Q17_OTHER_Which of the following ML algorithms do you use on a regular basis? (Select all that apply): - Selected Choice - Other',\n",
       "  'Q18_Part_1_Which categories of computer vision methods do you use on a regular basis?  (Select all that apply) - Selected Choice - General purpose image/video tools (PIL, cv2, skimage, etc)',\n",
       "  'Q18_Part_2_Which categories of computer vision methods do you use on a regular basis?  (Select all that apply) - Selected Choice - Image segmentation methods (U-Net, Mask R-CNN, etc)',\n",
       "  'Q18_Part_3_Which categories of computer vision methods do you use on a regular basis?  (Select all that apply) - Selected Choice - Object detection methods (YOLOv3, RetinaNet, etc)',\n",
       "  'Q18_Part_4_Which categories of computer vision methods do you use on a regular basis?  (Select all that apply) - Selected Choice - Image classification and other general purpose networks (VGG, Inception, ResNet, ResNeXt, NASNet, EfficientNet, etc)',\n",
       "  'Q18_Part_5_Which categories of computer vision methods do you use on a regular basis?  (Select all that apply) - Selected Choice - Generative Networks (GAN, VAE, etc)',\n",
       "  'Q18_Part_6_Which categories of computer vision methods do you use on a regular basis?  (Select all that apply) - Selected Choice - None',\n",
       "  'Q18_OTHER_Which categories of computer vision methods do you use on a regular basis?  (Select all that apply) - Selected Choice - Other',\n",
       "  'Q19_Part_1_Which of the following natural language processing (NLP) methods do you use on a regular basis?  (Select all that apply) - Selected Choice - Word embeddings/vectors (GLoVe, fastText, word2vec)',\n",
       "  'Q19_Part_2_Which of the following natural language processing (NLP) methods do you use on a regular basis?  (Select all that apply) - Selected Choice - Encoder-decorder models (seq2seq, vanilla transformers)',\n",
       "  'Q19_Part_3_Which of the following natural language processing (NLP) methods do you use on a regular basis?  (Select all that apply) - Selected Choice - Contextualized embeddings (ELMo, CoVe)',\n",
       "  'Q19_Part_4_Which of the following natural language processing (NLP) methods do you use on a regular basis?  (Select all that apply) - Selected Choice - Transformer language models (GPT-3, BERT, XLnet, etc)',\n",
       "  'Q19_Part_5_Which of the following natural language processing (NLP) methods do you use on a regular basis?  (Select all that apply) - Selected Choice - None',\n",
       "  'Q19_OTHER_Which of the following natural language processing (NLP) methods do you use on a regular basis?  (Select all that apply) - Selected Choice - Other',\n",
       "  'Q20_In what industry is your current employer/contract (or your most recent employer if retired)? - Selected Choice',\n",
       "  'Q21_What is the size of the company where you are employed?',\n",
       "  'Q22_Approximately how many individuals are responsible for data science workloads at your place of business?',\n",
       "  'Q23_Does your current employer incorporate machine learning methods into their business?',\n",
       "  'Q24_Part_2_Select any activities that make up an important part of your role at work: (Select all that apply) - Selected Choice - Build and/or run the data infrastructure that my business uses for storing, analyzing, and operationalizing data',\n",
       "  'Q24_Part_4_Select any activities that make up an important part of your role at work: (Select all that apply) - Selected Choice - Build and/or run a machine learning service that operationally improves my product or workflows',\n",
       "  'Q24_Part_5_Select any activities that make up an important part of your role at work: (Select all that apply) - Selected Choice - Experimentation and iteration to improve existing ML models',\n",
       "  'Q24_Part_6_Select any activities that make up an important part of your role at work: (Select all that apply) - Selected Choice - Do research that advances the state of the art of machine learning',\n",
       "  'Q24_Part_7_Select any activities that make up an important part of your role at work: (Select all that apply) - Selected Choice - None of these activities are an important part of my role at work',\n",
       "  'Q24_OTHER_Select any activities that make up an important part of your role at work: (Select all that apply) - Selected Choice - Other',\n",
       "  'Q25_What is your current yearly compensation (approximate $USD)?',\n",
       "  'Q26_Approximately how much money have you (or your team) spent on machine learning and/or cloud computing services at home (or at work) in the past 5 years (approximate $USD)?',\n",
       "  'Q27_A_Part_1_Which of the following cloud computing platforms do you use on a regular basis? (Select all that apply) - Selected Choice -  Amazon Web Services (AWS) ',\n",
       "  'Q27_A_Part_3_Which of the following cloud computing platforms do you use on a regular basis? (Select all that apply) - Selected Choice -  Google Cloud Platform (GCP) ',\n",
       "  'Q27_A_Part_4_Which of the following cloud computing platforms do you use on a regular basis? (Select all that apply) - Selected Choice -  IBM Cloud / Red Hat ',\n",
       "  'Q27_A_Part_5_Which of the following cloud computing platforms do you use on a regular basis? (Select all that apply) - Selected Choice -  Oracle Cloud ',\n",
       "  'Q27_A_Part_6_Which of the following cloud computing platforms do you use on a regular basis? (Select all that apply) - Selected Choice -  SAP Cloud ',\n",
       "  'Q27_A_Part_7_Which of the following cloud computing platforms do you use on a regular basis? (Select all that apply) - Selected Choice -  Salesforce Cloud ',\n",
       "  'Q27_A_Part_8_Which of the following cloud computing platforms do you use on a regular basis? (Select all that apply) - Selected Choice -  VMware Cloud ',\n",
       "  'Q27_A_Part_9_Which of the following cloud computing platforms do you use on a regular basis? (Select all that apply) - Selected Choice -  Alibaba Cloud ',\n",
       "  'Q27_A_Part_10_Which of the following cloud computing platforms do you use on a regular basis? (Select all that apply) - Selected Choice -  Tencent Cloud ',\n",
       "  'Q27_A_Part_11_Which of the following cloud computing platforms do you use on a regular basis? (Select all that apply) - Selected Choice - None',\n",
       "  'Q27_A_OTHER_Which of the following cloud computing platforms do you use on a regular basis? (Select all that apply) - Selected Choice - Other',\n",
       "  'Q28_Of the cloud platforms that you are familiar with, which has the best developer experience (most enjoyable to use)? - Selected Choice',\n",
       "  'Q29_A_Part_1_Do you use any of the following cloud computing products on a regular basis? (Select all that apply) - Selected Choice -  Amazon Elastic Compute Cloud (EC2) ',\n",
       "  'Q29_A_Part_3_Do you use any of the following cloud computing products on a regular basis? (Select all that apply) - Selected Choice -  Google Cloud Compute Engine ',\n",
       "  'Q29_A_Part_4_Do you use any of the following cloud computing products on a regular basis? (Select all that apply) - Selected Choice - No / None',\n",
       "  'Q29_A_OTHER_Do you use any of the following cloud computing products on a regular basis? (Select all that apply) - Selected Choice - Other',\n",
       "  'Q30_A_Part_2_Do you use any of the following data storage products on a regular basis? (Select all that apply) - Selected Choice - Microsoft Azure Disk Storage ',\n",
       "  'Q30_A_Part_3_Do you use any of the following data storage products on a regular basis? (Select all that apply) - Selected Choice -  Amazon Simple Storage Service (S3)  ',\n",
       "  'Q30_A_Part_4_Do you use any of the following data storage products on a regular basis? (Select all that apply) - Selected Choice -  Amazon Elastic File System (EFS)  ',\n",
       "  'Q30_A_Part_5_Do you use any of the following data storage products on a regular basis? (Select all that apply) - Selected Choice - Google Cloud Storage (GCS)   ',\n",
       "  'Q30_A_Part_6_Do you use any of the following data storage products on a regular basis? (Select all that apply) - Selected Choice -  Google Cloud Filestore ',\n",
       "  'Q30_A_Part_7_Do you use any of the following data storage products on a regular basis? (Select all that apply) - Selected Choice - No / None',\n",
       "  'Q30_A_OTHER_Do you use any of the following data storage products on a regular basis? (Select all that apply) - Selected Choice - Other',\n",
       "  'Q31_A_Part_1_Do you use any of the following managed machine learning products on a regular basis? (Select all that apply) - Selected Choice -  Amazon SageMaker ',\n",
       "  'Q31_A_Part_3_Do you use any of the following managed machine learning products on a regular basis? (Select all that apply) - Selected Choice -  Google Cloud Vertex AI',\n",
       "  'Q31_A_Part_4_Do you use any of the following managed machine learning products on a regular basis? (Select all that apply) - Selected Choice -  DataRobot',\n",
       "  'Q31_A_Part_5_Do you use any of the following managed machine learning products on a regular basis? (Select all that apply) - Selected Choice -  Databricks',\n",
       "  'Q31_A_Part_6_Do you use any of the following managed machine learning products on a regular basis? (Select all that apply) - Selected Choice -  Dataiku',\n",
       "  'Q31_A_Part_7_Do you use any of the following managed machine learning products on a regular basis? (Select all that apply) - Selected Choice -  Alteryx',\n",
       "  'Q31_A_Part_8_Do you use any of the following managed machine learning products on a regular basis? (Select all that apply) - Selected Choice -  Rapidminer',\n",
       "  'Q31_A_Part_9_Do you use any of the following managed machine learning products on a regular basis? (Select all that apply) - Selected Choice - No / None',\n",
       "  'Q31_A_OTHER_Do you use any of the following managed machine learning products on a regular basis? (Select all that apply) - Selected Choice - Other',\n",
       "  'Q32_A_Part_1_Which of the following big data products (relational databases, data warehouses, data lakes, or similar) do you use on a regular basis? (Select all that apply) - Selected Choice - MySQL ',\n",
       "  'Q32_A_Part_2_Which of the following big data products (relational databases, data warehouses, data lakes, or similar) do you use on a regular basis? (Select all that apply) - Selected Choice - PostgreSQL ',\n",
       "  'Q32_A_Part_3_Which of the following big data products (relational databases, data warehouses, data lakes, or similar) do you use on a regular basis? (Select all that apply) - Selected Choice - SQLite ',\n",
       "  'Q32_A_Part_4_Which of the following big data products (relational databases, data warehouses, data lakes, or similar) do you use on a regular basis? (Select all that apply) - Selected Choice - Oracle Database ',\n",
       "  'Q32_A_Part_5_Which of the following big data products (relational databases, data warehouses, data lakes, or similar) do you use on a regular basis? (Select all that apply) - Selected Choice - MongoDB ',\n",
       "  'Q32_A_Part_6_Which of the following big data products (relational databases, data warehouses, data lakes, or similar) do you use on a regular basis? (Select all that apply) - Selected Choice - Snowflake ',\n",
       "  'Q32_A_Part_7_Which of the following big data products (relational databases, data warehouses, data lakes, or similar) do you use on a regular basis? (Select all that apply) - Selected Choice - IBM Db2 ',\n",
       "  'Q32_A_Part_8_Which of the following big data products (relational databases, data warehouses, data lakes, or similar) do you use on a regular basis? (Select all that apply) - Selected Choice - Microsoft SQL Server ',\n",
       "  'Q32_A_Part_9_Which of the following big data products (relational databases, data warehouses, data lakes, or similar) do you use on a regular basis? (Select all that apply) - Selected Choice - Microsoft Azure SQL Database ',\n",
       "  'Q32_A_Part_10_Which of the following big data products (relational databases, data warehouses, data lakes, or similar) do you use on a regular basis? (Select all that apply) - Selected Choice - Microsoft Azure Cosmos DB ',\n",
       "  'Q32_A_Part_11_Which of the following big data products (relational databases, data warehouses, data lakes, or similar) do you use on a regular basis? (Select all that apply) - Selected Choice - Amazon Redshift ',\n",
       "  'Q32_A_Part_12_Which of the following big data products (relational databases, data warehouses, data lakes, or similar) do you use on a regular basis? (Select all that apply) - Selected Choice - Amazon Aurora ',\n",
       "  'Q32_A_Part_13_Which of the following big data products (relational databases, data warehouses, data lakes, or similar) do you use on a regular basis? (Select all that apply) - Selected Choice - Amazon RDS ',\n",
       "  'Q32_A_Part_14_Which of the following big data products (relational databases, data warehouses, data lakes, or similar) do you use on a regular basis? (Select all that apply) - Selected Choice - Amazon DynamoDB ',\n",
       "  'Q32_A_Part_15_Which of the following big data products (relational databases, data warehouses, data lakes, or similar) do you use on a regular basis? (Select all that apply) - Selected Choice - Google Cloud BigQuery ',\n",
       "  'Q32_A_Part_16_Which of the following big data products (relational databases, data warehouses, data lakes, or similar) do you use on a regular basis? (Select all that apply) - Selected Choice - Google Cloud SQL ',\n",
       "  'Q32_A_Part_17_Which of the following big data products (relational databases, data warehouses, data lakes, or similar) do you use on a regular basis? (Select all that apply) - Selected Choice - Google Cloud Firestore ',\n",
       "  'Q32_A_Part_18_Which of the following big data products (relational databases, data warehouses, data lakes, or similar) do you use on a regular basis? (Select all that apply) - Selected Choice - Google Cloud BigTable ',\n",
       "  'Q32_A_Part_19_Which of the following big data products (relational databases, data warehouses, data lakes, or similar) do you use on a regular basis? (Select all that apply) - Selected Choice - Google Cloud Spanner ',\n",
       "  'Q32_A_Part_20_Which of the following big data products (relational databases, data warehouses, data lakes, or similar) do you use on a regular basis? (Select all that apply) - Selected Choice - None',\n",
       "  'Q32_A_OTHER_Which of the following big data products (relational databases, data warehouses, data lakes, or similar) do you use on a regular basis? (Select all that apply) - Selected Choice - Other',\n",
       "  'Q33_Which of the following big data products (relational database, data warehouse, data lake, or similar) do you use most often? - Selected Choice',\n",
       "  'Q34_A_Part_1_Which of the following business intelligence tools do you use on a regular basis? (Select all that apply) - Selected Choice - Amazon QuickSight',\n",
       "  'Q34_A_Part_3_Which of the following business intelligence tools do you use on a regular basis? (Select all that apply) - Selected Choice - Google Data Studio',\n",
       "  'Q34_A_Part_4_Which of the following business intelligence tools do you use on a regular basis? (Select all that apply) - Selected Choice - Looker',\n",
       "  'Q34_A_Part_5_Which of the following business intelligence tools do you use on a regular basis? (Select all that apply) - Selected Choice - Tableau',\n",
       "  'Q34_A_Part_6_Which of the following business intelligence tools do you use on a regular basis? (Select all that apply) - Selected Choice - Salesforce',\n",
       "  'Q34_A_Part_7_Which of the following business intelligence tools do you use on a regular basis? (Select all that apply) - Selected Choice - Tableau CRM',\n",
       "  'Q34_A_Part_8_Which of the following business intelligence tools do you use on a regular basis? (Select all that apply) - Selected Choice - Qlik',\n",
       "  'Q34_A_Part_9_Which of the following business intelligence tools do you use on a regular basis? (Select all that apply) - Selected Choice - Domo',\n",
       "  'Q34_A_Part_10_Which of the following business intelligence tools do you use on a regular basis? (Select all that apply) - Selected Choice - TIBCO Spotfire',\n",
       "  'Q34_A_Part_11_Which of the following business intelligence tools do you use on a regular basis? (Select all that apply) - Selected Choice - Alteryx ',\n",
       "  'Q34_A_Part_12_Which of the following business intelligence tools do you use on a regular basis? (Select all that apply) - Selected Choice - Sisense ',\n",
       "  'Q34_A_Part_13_Which of the following business intelligence tools do you use on a regular basis? (Select all that apply) - Selected Choice - SAP Analytics Cloud ',\n",
       "  'Q34_A_Part_14_Which of the following business intelligence tools do you use on a regular basis? (Select all that apply) - Selected Choice - Microsoft Azure Synapse ',\n",
       "  'Q34_A_Part_15_Which of the following business intelligence tools do you use on a regular basis? (Select all that apply) - Selected Choice - Thoughtspot ',\n",
       "  'Q34_A_Part_16_Which of the following business intelligence tools do you use on a regular basis? (Select all that apply) - Selected Choice - None',\n",
       "  'Q34_A_OTHER_Which of the following business intelligence tools do you use on a regular basis? (Select all that apply) - Selected Choice - Other',\n",
       "  'Q35_Which of the following business intelligence tools do you use most often? - Selected Choice',\n",
       "  'Q36_A_Part_1_Do you use any automated machine learning tools (or partial AutoML tools) on a regular basis?  (Select all that apply) - Selected Choice - Automated data augmentation (e.g. imgaug, albumentations)',\n",
       "  'Q36_A_Part_2_Do you use any automated machine learning tools (or partial AutoML tools) on a regular basis?  (Select all that apply) - Selected Choice - Automated feature engineering/selection (e.g. tpot, boruta_py)',\n",
       "  'Q36_A_Part_3_Do you use any automated machine learning tools (or partial AutoML tools) on a regular basis?  (Select all that apply) - Selected Choice - Automated model selection (e.g. auto-sklearn, xcessiv)',\n",
       "  'Q36_A_Part_4_Do you use any automated machine learning tools (or partial AutoML tools) on a regular basis?  (Select all that apply) - Selected Choice - Automated model architecture searches (e.g. darts, enas)',\n",
       "  'Q36_A_Part_5_Do you use any automated machine learning tools (or partial AutoML tools) on a regular basis?  (Select all that apply) - Selected Choice - Automated hyperparameter tuning (e.g. hyperopt, ray.tune, Vizier)',\n",
       "  'Q36_A_Part_6_Do you use any automated machine learning tools (or partial AutoML tools) on a regular basis?  (Select all that apply) - Selected Choice - Automation of full ML pipelines (e.g. Google AutoML, H2O Driverless AI)',\n",
       "  'Q36_A_Part_7_Do you use any automated machine learning tools (or partial AutoML tools) on a regular basis?  (Select all that apply) - Selected Choice - No / None',\n",
       "  'Q36_A_OTHER_Do you use any automated machine learning tools (or partial AutoML tools) on a regular basis?  (Select all that apply) - Selected Choice - Other',\n",
       "  'Q37_A_Part_1_Which of the following automated machine learning tools (or partial AutoML tools) do you use on a regular basis?  (Select all that apply) - Selected Choice -  Google Cloud AutoML ',\n",
       "  'Q37_A_Part_2_Which of the following automated machine learning tools (or partial AutoML tools) do you use on a regular basis?  (Select all that apply) - Selected Choice -  H2O Driverless AI  ',\n",
       "  'Q37_A_Part_3_Which of the following automated machine learning tools (or partial AutoML tools) do you use on a regular basis?  (Select all that apply) - Selected Choice -  Databricks AutoML ',\n",
       "  'Q37_A_Part_4_Which of the following automated machine learning tools (or partial AutoML tools) do you use on a regular basis?  (Select all that apply) - Selected Choice -  DataRobot AutoML ',\n",
       "  'Q37_A_Part_5_Which of the following automated machine learning tools (or partial AutoML tools) do you use on a regular basis?  (Select all that apply) - Selected Choice -   Amazon Sagemaker Autopilot ',\n",
       "  'Q37_A_Part_6_Which of the following automated machine learning tools (or partial AutoML tools) do you use on a regular basis?  (Select all that apply) - Selected Choice -   Azure Automated Machine Learning ',\n",
       "  'Q37_A_Part_7_Which of the following automated machine learning tools (or partial AutoML tools) do you use on a regular basis?  (Select all that apply) - Selected Choice - No / None',\n",
       "  'Q37_A_OTHER_Which of the following automated machine learning tools (or partial AutoML tools) do you use on a regular basis?  (Select all that apply) - Selected Choice - Other',\n",
       "  'Q38_A_Part_1_Do you use any tools to help manage machine learning experiments? (Select all that apply) - Selected Choice -  Neptune.ai ',\n",
       "  'Q38_A_Part_3_Do you use any tools to help manage machine learning experiments? (Select all that apply) - Selected Choice -  Comet.ml ',\n",
       "  'Q38_A_Part_4_Do you use any tools to help manage machine learning experiments? (Select all that apply) - Selected Choice -  Sacred + Omniboard ',\n",
       "  'Q38_A_Part_5_Do you use any tools to help manage machine learning experiments? (Select all that apply) - Selected Choice -  TensorBoard ',\n",
       "  'Q38_A_Part_6_Do you use any tools to help manage machine learning experiments? (Select all that apply) - Selected Choice -  Guild.ai ',\n",
       "  'Q38_A_Part_7_Do you use any tools to help manage machine learning experiments? (Select all that apply) - Selected Choice -  Polyaxon ',\n",
       "  'Q38_A_Part_8_Do you use any tools to help manage machine learning experiments? (Select all that apply) - Selected Choice -  ClearML ',\n",
       "  'Q38_A_Part_9_Do you use any tools to help manage machine learning experiments? (Select all that apply) - Selected Choice -  Domino Model Monitor ',\n",
       "  'Q38_A_Part_10_Do you use any tools to help manage machine learning experiments? (Select all that apply) - Selected Choice -  MLflow ',\n",
       "  'Q38_A_Part_11_Do you use any tools to help manage machine learning experiments? (Select all that apply) - Selected Choice - No / None',\n",
       "  'Q38_A_OTHER_Do you use any tools to help manage machine learning experiments? (Select all that apply) - Selected Choice - Other',\n",
       "  'Q39_Part_1_Where do you publicly share your data analysis or machine learning applications? (Select all that apply) - Selected Choice -  Plotly Dash ',\n",
       "  'Q39_Part_2_Where do you publicly share your data analysis or machine learning applications? (Select all that apply) - Selected Choice -  Streamlit ',\n",
       "  'Q39_Part_3_Where do you publicly share your data analysis or machine learning applications? (Select all that apply) - Selected Choice -  NBViewer ',\n",
       "  'Q39_Part_4_Where do you publicly share your data analysis or machine learning applications? (Select all that apply) - Selected Choice -  GitHub ',\n",
       "  'Q39_Part_5_Where do you publicly share your data analysis or machine learning applications? (Select all that apply) - Selected Choice -  Personal blog ',\n",
       "  'Q39_Part_6_Where do you publicly share your data analysis or machine learning applications? (Select all that apply) - Selected Choice -  Kaggle ',\n",
       "  'Q39_Part_7_Where do you publicly share your data analysis or machine learning applications? (Select all that apply) - Selected Choice -  Colab ',\n",
       "  'Q39_Part_8_Where do you publicly share your data analysis or machine learning applications? (Select all that apply) - Selected Choice -  Shiny ',\n",
       "  'Q39_Part_9_Where do you publicly share your data analysis or machine learning applications? (Select all that apply) - Selected Choice - I do not share my work publicly',\n",
       "  'Q39_OTHER_Where do you publicly share your data analysis or machine learning applications? (Select all that apply) - Selected Choice - Other',\n",
       "  'Q40_Part_1_On which platforms have you begun or completed data science courses? (Select all that apply) - Selected Choice - Coursera',\n",
       "  'Q40_Part_2_On which platforms have you begun or completed data science courses? (Select all that apply) - Selected Choice - edX',\n",
       "  'Q40_Part_4_On which platforms have you begun or completed data science courses? (Select all that apply) - Selected Choice - DataCamp',\n",
       "  'Q40_Part_5_On which platforms have you begun or completed data science courses? (Select all that apply) - Selected Choice - Fast.ai',\n",
       "  'Q40_Part_6_On which platforms have you begun or completed data science courses? (Select all that apply) - Selected Choice - Udacity',\n",
       "  'Q40_Part_8_On which platforms have you begun or completed data science courses? (Select all that apply) - Selected Choice - LinkedIn Learning',\n",
       "  'Q40_Part_9_On which platforms have you begun or completed data science courses? (Select all that apply) - Selected Choice - Cloud-certification programs (direct from AWS, Azure, GCP, or similar)',\n",
       "  'Q40_Part_10_On which platforms have you begun or completed data science courses? (Select all that apply) - Selected Choice - University Courses (resulting in a university degree)',\n",
       "  'Q40_Part_11_On which platforms have you begun or completed data science courses? (Select all that apply) - Selected Choice - None',\n",
       "  'Q40_OTHER_On which platforms have you begun or completed data science courses? (Select all that apply) - Selected Choice - Other',\n",
       "  'Q41_What is the primary tool that you use at work or school to analyze data? (Include text response) - Selected Choice',\n",
       "  'Q42_Part_1_Who/what are your favorite media sources that report on data science topics? (Select all that apply) - Selected Choice - Twitter (data science influencers)',\n",
       "  \"Q42_Part_2_Who/what are your favorite media sources that report on data science topics? (Select all that apply) - Selected Choice - Email newsletters (Data Elixir, O'Reilly Data & AI, etc)\",\n",
       "  'Q42_Part_3_Who/what are your favorite media sources that report on data science topics? (Select all that apply) - Selected Choice - Reddit (r/machinelearning, etc)',\n",
       "  'Q42_Part_4_Who/what are your favorite media sources that report on data science topics? (Select all that apply) - Selected Choice - Kaggle (notebooks, forums, etc)',\n",
       "  'Q42_Part_5_Who/what are your favorite media sources that report on data science topics? (Select all that apply) - Selected Choice - Course Forums (forums.fast.ai, Coursera forums, etc)',\n",
       "  'Q42_Part_6_Who/what are your favorite media sources that report on data science topics? (Select all that apply) - Selected Choice - YouTube (Kaggle YouTube, Cloud AI Adventures, etc)',\n",
       "  'Q42_Part_7_Who/what are your favorite media sources that report on data science topics? (Select all that apply) - Selected Choice - Podcasts (Chai Time Data Science, O’Reilly Data Show, etc)',\n",
       "  'Q42_Part_8_Who/what are your favorite media sources that report on data science topics? (Select all that apply) - Selected Choice - Blogs (Towards Data Science, Analytics Vidhya, etc)',\n",
       "  'Q42_Part_10_Who/what are your favorite media sources that report on data science topics? (Select all that apply) - Selected Choice - Slack Communities (ods.ai, kagglenoobs, etc)',\n",
       "  'Q42_Part_11_Who/what are your favorite media sources that report on data science topics? (Select all that apply) - Selected Choice - None',\n",
       "  'Q42_OTHER_Who/what are your favorite media sources that report on data science topics? (Select all that apply) - Selected Choice - Other',\n",
       "  'Q27_B_Part_1_Which of the following cloud computing platforms do you hope to become more familiar with in the next 2 years? - Selected Choice -  Amazon Web Services (AWS) ',\n",
       "  'Q27_B_Part_2_Which of the following cloud computing platforms do you hope to become more familiar with in the next 2 years? - Selected Choice -  Microsoft Azure ',\n",
       "  'Q27_B_Part_3_Which of the following cloud computing platforms do you hope to become more familiar with in the next 2 years? - Selected Choice -  Google Cloud Platform (GCP) ',\n",
       "  'Q27_B_Part_4_Which of the following cloud computing platforms do you hope to become more familiar with in the next 2 years? - Selected Choice -  IBM Cloud / Red Hat ',\n",
       "  'Q27_B_Part_5_Which of the following cloud computing platforms do you hope to become more familiar with in the next 2 years? - Selected Choice -  Oracle Cloud ',\n",
       "  'Q27_B_Part_6_Which of the following cloud computing platforms do you hope to become more familiar with in the next 2 years? - Selected Choice -  SAP Cloud ',\n",
       "  'Q27_B_Part_7_Which of the following cloud computing platforms do you hope to become more familiar with in the next 2 years? - Selected Choice -  VMware Cloud ',\n",
       "  'Q27_B_Part_8_Which of the following cloud computing platforms do you hope to become more familiar with in the next 2 years? - Selected Choice -  Salesforce Cloud ',\n",
       "  'Q27_B_Part_9_Which of the following cloud computing platforms do you hope to become more familiar with in the next 2 years? - Selected Choice -  Alibaba Cloud ',\n",
       "  'Q27_B_Part_10_Which of the following cloud computing platforms do you hope to become more familiar with in the next 2 years? - Selected Choice -  Tencent Cloud ',\n",
       "  'Q27_B_Part_11_Which of the following cloud computing platforms do you hope to become more familiar with in the next 2 years? - Selected Choice - None',\n",
       "  'Q27_B_OTHER_Which of the following cloud computing platforms do you hope to become more familiar with in the next 2 years? - Selected Choice - Other',\n",
       "  'Q29_B_Part_1_In the next 2 years, do you hope to become more familiar with any of these specific cloud computing products? (Select all that apply) - Selected Choice -  Amazon Elastic Compute Cloud (EC2) ',\n",
       "  'Q29_B_Part_2_In the next 2 years, do you hope to become more familiar with any of these specific cloud computing products? (Select all that apply) - Selected Choice -  Microsoft Azure Virtual Machines ',\n",
       "  'Q29_B_Part_3_In the next 2 years, do you hope to become more familiar with any of these specific cloud computing products? (Select all that apply) - Selected Choice -  Google Cloud Compute Engine ',\n",
       "  'Q29_B_Part_4_In the next 2 years, do you hope to become more familiar with any of these specific cloud computing products? (Select all that apply) - Selected Choice - None',\n",
       "  'Q29_B_OTHER_In the next 2 years, do you hope to become more familiar with any of these specific cloud computing products? (Select all that apply) - Selected Choice - Other',\n",
       "  'Q30_B_Part_1_In the next 2 years, do you hope to become more familiar with any of these specific data storage products? (Select all that apply) - Selected Choice - Microsoft Azure Data Lake Storage ',\n",
       "  'Q30_B_Part_2_In the next 2 years, do you hope to become more familiar with any of these specific data storage products? (Select all that apply) - Selected Choice - Microsoft Azure Disk Storage ',\n",
       "  'Q30_B_Part_3_In the next 2 years, do you hope to become more familiar with any of these specific data storage products? (Select all that apply) - Selected Choice -  Amazon Simple Storage Service (S3)  ',\n",
       "  'Q30_B_Part_4_In the next 2 years, do you hope to become more familiar with any of these specific data storage products? (Select all that apply) - Selected Choice -  Amazon Elastic File System (EFS)  ',\n",
       "  'Q30_B_Part_5_In the next 2 years, do you hope to become more familiar with any of these specific data storage products? (Select all that apply) - Selected Choice - Google Cloud Storage (GCS)   ',\n",
       "  'Q30_B_Part_6_In the next 2 years, do you hope to become more familiar with any of these specific data storage products? (Select all that apply) - Selected Choice -  Google Cloud Filestore ',\n",
       "  'Q30_B_Part_7_In the next 2 years, do you hope to become more familiar with any of these specific data storage products? (Select all that apply) - Selected Choice - No / None',\n",
       "  'Q30_B_OTHER_In the next 2 years, do you hope to become more familiar with any of these specific data storage products? (Select all that apply) - Selected Choice - Other',\n",
       "  'Q31_B_Part_1_In the next 2 years, do you hope to become more familiar with any of these managed machine learning products? (Select all that apply) - Selected Choice -  Amazon SageMaker ',\n",
       "  'Q31_B_Part_2_In the next 2 years, do you hope to become more familiar with any of these managed machine learning products? (Select all that apply) - Selected Choice -  Azure Machine Learning Studio ',\n",
       "  'Q31_B_Part_3_In the next 2 years, do you hope to become more familiar with any of these managed machine learning products? (Select all that apply) - Selected Choice -  Google Cloud Vertex AI',\n",
       "  'Q31_B_Part_4_In the next 2 years, do you hope to become more familiar with any of these managed machine learning products? (Select all that apply) - Selected Choice -  DataRobot',\n",
       "  'Q31_B_Part_5_In the next 2 years, do you hope to become more familiar with any of these managed machine learning products? (Select all that apply) - Selected Choice -  Databricks',\n",
       "  'Q31_B_Part_6_In the next 2 years, do you hope to become more familiar with any of these managed machine learning products? (Select all that apply) - Selected Choice -  Dataiku',\n",
       "  'Q31_B_Part_7_In the next 2 years, do you hope to become more familiar with any of these managed machine learning products? (Select all that apply) - Selected Choice -  Alteryx',\n",
       "  'Q31_B_Part_8_In the next 2 years, do you hope to become more familiar with any of these managed machine learning products? (Select all that apply) - Selected Choice -  Rapidminer',\n",
       "  'Q31_B_Part_9_In the next 2 years, do you hope to become more familiar with any of these managed machine learning products? (Select all that apply) - Selected Choice - None',\n",
       "  'Q31_B_OTHER_In the next 2 years, do you hope to become more familiar with any of these managed machine learning products? (Select all that apply) - Selected Choice - Other',\n",
       "  'Q32_B_Part_1_Which of the following big data products (relational databases, data warehouses, data lakes, or similar) do you hope to become more familiar with in the next 2 years? (Select all that apply) - Selected Choice - MySQL ',\n",
       "  'Q32_B_Part_2_Which of the following big data products (relational databases, data warehouses, data lakes, or similar) do you hope to become more familiar with in the next 2 years? (Select all that apply) - Selected Choice - PostgreSQL ',\n",
       "  'Q32_B_Part_3_Which of the following big data products (relational databases, data warehouses, data lakes, or similar) do you hope to become more familiar with in the next 2 years? (Select all that apply) - Selected Choice - SQLite ',\n",
       "  'Q32_B_Part_4_Which of the following big data products (relational databases, data warehouses, data lakes, or similar) do you hope to become more familiar with in the next 2 years? (Select all that apply) - Selected Choice - Oracle Database ',\n",
       "  'Q32_B_Part_5_Which of the following big data products (relational databases, data warehouses, data lakes, or similar) do you hope to become more familiar with in the next 2 years? (Select all that apply) - Selected Choice - MongoDB ',\n",
       "  'Q32_B_Part_6_Which of the following big data products (relational databases, data warehouses, data lakes, or similar) do you hope to become more familiar with in the next 2 years? (Select all that apply) - Selected Choice - Snowflake ',\n",
       "  'Q32_B_Part_7_Which of the following big data products (relational databases, data warehouses, data lakes, or similar) do you hope to become more familiar with in the next 2 years? (Select all that apply) - Selected Choice - IBM Db2 ',\n",
       "  'Q32_B_Part_8_Which of the following big data products (relational databases, data warehouses, data lakes, or similar) do you hope to become more familiar with in the next 2 years? (Select all that apply) - Selected Choice - Microsoft SQL Server ',\n",
       "  'Q32_B_Part_9_Which of the following big data products (relational databases, data warehouses, data lakes, or similar) do you hope to become more familiar with in the next 2 years? (Select all that apply) - Selected Choice - Microsoft Azure SQL Database ',\n",
       "  'Q32_B_Part_10_Which of the following big data products (relational databases, data warehouses, data lakes, or similar) do you hope to become more familiar with in the next 2 years? (Select all that apply) - Selected Choice - Microsoft Azure Cosmos DB ',\n",
       "  'Q32_B_Part_11_Which of the following big data products (relational databases, data warehouses, data lakes, or similar) do you hope to become more familiar with in the next 2 years? (Select all that apply) - Selected Choice - Amazon Redshift ',\n",
       "  'Q32_B_Part_12_Which of the following big data products (relational databases, data warehouses, data lakes, or similar) do you hope to become more familiar with in the next 2 years? (Select all that apply) - Selected Choice - Amazon Aurora ',\n",
       "  'Q32_B_Part_13_Which of the following big data products (relational databases, data warehouses, data lakes, or similar) do you hope to become more familiar with in the next 2 years? (Select all that apply) - Selected Choice - Amazon DynamoDB ',\n",
       "  'Q32_B_Part_14_Which of the following big data products (relational databases, data warehouses, data lakes, or similar) do you hope to become more familiar with in the next 2 years? (Select all that apply) - Selected Choice - Amazon RDS ',\n",
       "  'Q32_B_Part_15_Which of the following big data products (relational databases, data warehouses, data lakes, or similar) do you hope to become more familiar with in the next 2 years? (Select all that apply) - Selected Choice - Google Cloud BigQuery ',\n",
       "  'Q32_B_Part_16_Which of the following big data products (relational databases, data warehouses, data lakes, or similar) do you hope to become more familiar with in the next 2 years? (Select all that apply) - Selected Choice - Google Cloud SQL ',\n",
       "  'Q32_B_Part_17_Which of the following big data products (relational databases, data warehouses, data lakes, or similar) do you hope to become more familiar with in the next 2 years? (Select all that apply) - Selected Choice - Google Cloud Firestore ',\n",
       "  'Q32_B_Part_18_Which of the following big data products (relational databases, data warehouses, data lakes, or similar) do you hope to become more familiar with in the next 2 years? (Select all that apply) - Selected Choice - Google Cloud BigTable ',\n",
       "  'Q32_B_Part_19_Which of the following big data products (relational databases, data warehouses, data lakes, or similar) do you hope to become more familiar with in the next 2 years? (Select all that apply) - Selected Choice - Google Cloud Spanner ',\n",
       "  'Q32_B_Part_20_Which of the following big data products (relational databases, data warehouses, data lakes, or similar) do you hope to become more familiar with in the next 2 years? (Select all that apply) - Selected Choice - None',\n",
       "  'Q32_B_OTHER_Which of the following big data products (relational databases, data warehouses, data lakes, or similar) do you hope to become more familiar with in the next 2 years? (Select all that apply) - Selected Choice - Other',\n",
       "  'Q34_B_Part_1_Which of the following business intelligence tools do you hope to become more familiar with in the next 2 years? (Select all that apply) - Selected Choice - Microsoft Power BI',\n",
       "  'Q34_B_Part_2_Which of the following business intelligence tools do you hope to become more familiar with in the next 2 years? (Select all that apply) - Selected Choice - Amazon QuickSight',\n",
       "  'Q34_B_Part_3_Which of the following business intelligence tools do you hope to become more familiar with in the next 2 years? (Select all that apply) - Selected Choice - Google Data Studio',\n",
       "  'Q34_B_Part_4_Which of the following business intelligence tools do you hope to become more familiar with in the next 2 years? (Select all that apply) - Selected Choice - Looker',\n",
       "  'Q34_B_Part_5_Which of the following business intelligence tools do you hope to become more familiar with in the next 2 years? (Select all that apply) - Selected Choice - Tableau',\n",
       "  'Q34_B_Part_6_Which of the following business intelligence tools do you hope to become more familiar with in the next 2 years? (Select all that apply) - Selected Choice - Salesforce',\n",
       "  'Q34_B_Part_7_Which of the following business intelligence tools do you hope to become more familiar with in the next 2 years? (Select all that apply) - Selected Choice - Tableau CRM',\n",
       "  'Q34_B_Part_8_Which of the following business intelligence tools do you hope to become more familiar with in the next 2 years? (Select all that apply) - Selected Choice - Qlik',\n",
       "  'Q34_B_Part_9_Which of the following business intelligence tools do you hope to become more familiar with in the next 2 years? (Select all that apply) - Selected Choice - Domo',\n",
       "  'Q34_B_Part_10_Which of the following business intelligence tools do you hope to become more familiar with in the next 2 years? (Select all that apply) - Selected Choice - TIBCO Spotfire',\n",
       "  'Q34_B_Part_11_Which of the following business intelligence tools do you hope to become more familiar with in the next 2 years? (Select all that apply) - Selected Choice - Alteryx ',\n",
       "  'Q34_B_Part_12_Which of the following business intelligence tools do you hope to become more familiar with in the next 2 years? (Select all that apply) - Selected Choice - Sisense ',\n",
       "  'Q34_B_Part_13_Which of the following business intelligence tools do you hope to become more familiar with in the next 2 years? (Select all that apply) - Selected Choice - SAP Analytics Cloud ',\n",
       "  'Q34_B_Part_14_Which of the following business intelligence tools do you hope to become more familiar with in the next 2 years? (Select all that apply) - Selected Choice - Microsoft Azure Synapse ',\n",
       "  'Q34_B_Part_15_Which of the following business intelligence tools do you hope to become more familiar with in the next 2 years? (Select all that apply) - Selected Choice - Thoughtspot ',\n",
       "  'Q34_B_Part_16_Which of the following business intelligence tools do you hope to become more familiar with in the next 2 years? (Select all that apply) - Selected Choice - None',\n",
       "  'Q34_B_OTHER_Which of the following business intelligence tools do you hope to become more familiar with in the next 2 years? (Select all that apply) - Selected Choice - Other',\n",
       "  'Q36_B_Part_1_Which categories of automated machine learning tools (or partial AutoML tools) do you hope to become more familiar with in the next 2 years?  (Select all that apply) - Selected Choice - Automated data augmentation (e.g. imgaug, albumentations)',\n",
       "  'Q36_B_Part_2_Which categories of automated machine learning tools (or partial AutoML tools) do you hope to become more familiar with in the next 2 years?  (Select all that apply) - Selected Choice - Automated feature engineering/selection (e.g. tpot, boruta_py)',\n",
       "  'Q36_B_Part_3_Which categories of automated machine learning tools (or partial AutoML tools) do you hope to become more familiar with in the next 2 years?  (Select all that apply) - Selected Choice - Automated model selection (e.g. auto-sklearn, xcessiv)',\n",
       "  'Q36_B_Part_4_Which categories of automated machine learning tools (or partial AutoML tools) do you hope to become more familiar with in the next 2 years?  (Select all that apply) - Selected Choice - Automated model architecture searches (e.g. darts, enas)',\n",
       "  'Q36_B_Part_5_Which categories of automated machine learning tools (or partial AutoML tools) do you hope to become more familiar with in the next 2 years?  (Select all that apply) - Selected Choice - Automated hyperparameter tuning (e.g. hyperopt, ray.tune, Vizier)',\n",
       "  'Q36_B_Part_6_Which categories of automated machine learning tools (or partial AutoML tools) do you hope to become more familiar with in the next 2 years?  (Select all that apply) - Selected Choice - Automation of full ML pipelines (e.g. Google Cloud AutoML, H2O Driverless AI)',\n",
       "  'Q36_B_Part_7_Which categories of automated machine learning tools (or partial AutoML tools) do you hope to become more familiar with in the next 2 years?  (Select all that apply) - Selected Choice - None',\n",
       "  'Q36_B_OTHER_Which categories of automated machine learning tools (or partial AutoML tools) do you hope to become more familiar with in the next 2 years?  (Select all that apply) - Selected Choice - Other',\n",
       "  'Q37_B_Part_1_Which specific automated machine learning tools (or partial AutoML tools) do you hope to become more familiar with in the next 2 years?  (Select all that apply) - Selected Choice -  Google Cloud AutoML ',\n",
       "  'Q37_B_Part_2_Which specific automated machine learning tools (or partial AutoML tools) do you hope to become more familiar with in the next 2 years?  (Select all that apply) - Selected Choice -  H2O Driverless AI  ',\n",
       "  'Q37_B_Part_3_Which specific automated machine learning tools (or partial AutoML tools) do you hope to become more familiar with in the next 2 years?  (Select all that apply) - Selected Choice -  Databricks AutoML ',\n",
       "  'Q37_B_Part_4_Which specific automated machine learning tools (or partial AutoML tools) do you hope to become more familiar with in the next 2 years?  (Select all that apply) - Selected Choice -  DataRobot AutoML ',\n",
       "  'Q37_B_Part_5_Which specific automated machine learning tools (or partial AutoML tools) do you hope to become more familiar with in the next 2 years?  (Select all that apply) - Selected Choice -   Amazon Sagemaker Autopilot ',\n",
       "  'Q37_B_Part_6_Which specific automated machine learning tools (or partial AutoML tools) do you hope to become more familiar with in the next 2 years?  (Select all that apply) - Selected Choice -   Azure Automated Machine Learning ',\n",
       "  'Q37_B_Part_7_Which specific automated machine learning tools (or partial AutoML tools) do you hope to become more familiar with in the next 2 years?  (Select all that apply) - Selected Choice - None',\n",
       "  'Q37_B_OTHER_Which specific automated machine learning tools (or partial AutoML tools) do you hope to become more familiar with in the next 2 years?  (Select all that apply) - Selected Choice - Other',\n",
       "  'Q38_B_Part_1_In the next 2 years, do you hope to become more familiar with any of these tools for managing ML experiments? (Select all that apply) - Selected Choice -  Neptune.ai ',\n",
       "  'Q38_B_Part_2_In the next 2 years, do you hope to become more familiar with any of these tools for managing ML experiments? (Select all that apply) - Selected Choice -  Weights & Biases ',\n",
       "  'Q38_B_Part_3_In the next 2 years, do you hope to become more familiar with any of these tools for managing ML experiments? (Select all that apply) - Selected Choice -  Comet.ml ',\n",
       "  'Q38_B_Part_4_In the next 2 years, do you hope to become more familiar with any of these tools for managing ML experiments? (Select all that apply) - Selected Choice -  Sacred + Omniboard ',\n",
       "  'Q38_B_Part_5_In the next 2 years, do you hope to become more familiar with any of these tools for managing ML experiments? (Select all that apply) - Selected Choice -  TensorBoard ',\n",
       "  'Q38_B_Part_6_In the next 2 years, do you hope to become more familiar with any of these tools for managing ML experiments? (Select all that apply) - Selected Choice -  Guild.ai ',\n",
       "  'Q38_B_Part_7_In the next 2 years, do you hope to become more familiar with any of these tools for managing ML experiments? (Select all that apply) - Selected Choice -  Polyaxon ',\n",
       "  'Q38_B_Part_8_In the next 2 years, do you hope to become more familiar with any of these tools for managing ML experiments? (Select all that apply) - Selected Choice -  ClearML ',\n",
       "  'Q38_B_Part_9_In the next 2 years, do you hope to become more familiar with any of these tools for managing ML experiments? (Select all that apply) - Selected Choice -  Domino Model Monitor ',\n",
       "  'Q38_B_Part_10_In the next 2 years, do you hope to become more familiar with any of these tools for managing ML experiments? (Select all that apply) - Selected Choice -  MLflow ',\n",
       "  'Q38_B_Part_11_In the next 2 years, do you hope to become more familiar with any of these tools for managing ML experiments? (Select all that apply) - Selected Choice - None',\n",
       "  'Q38_B_OTHER_In the next 2 years, do you hope to become more familiar with any of these tools for managing ML experiments? (Select all that apply) - Selected Choice - Other'])"
      ]
     },
     "execution_count": 17,
     "metadata": {},
     "output_type": "execute_result"
    }
   ],
   "source": [
    "def same_answers(df, user_1, user_2):\n",
    "    \"\"\"\n",
    "    input\n",
    "    df - target dataset\n",
    "    user_1 - index number of user 1\n",
    "    user_2 - index number of user 2\n",
    "    \n",
    "    output\n",
    "    same_cols - return the column names where answer are same between user 1 and 2\n",
    "    different_cols - return the column names where answer are different between user 1 and 2\n",
    "    \"\"\"\n",
    "    same_cols = []\n",
    "    different_cols = []\n",
    "    answers = df.loc[df.index.isin([user_1,user_2])]\n",
    "    for col in answers.columns:\n",
    "        if answers[col].iloc[0] == answers[col].iloc[1]:\n",
    "            same_cols.append(col)\n",
    "        else:\n",
    "            different_cols.append(col)\n",
    "    return same_cols, different_cols\n",
    "\n",
    "same_answers(renamed_data, 5, 20119)"
   ]
  },
  {
   "cell_type": "code",
   "execution_count": 18,
   "id": "9558cca4",
   "metadata": {
    "execution": {
     "iopub.execute_input": "2022-07-10T14:50:57.433019Z",
     "iopub.status.busy": "2022-07-10T14:50:57.432612Z",
     "iopub.status.idle": "2022-07-10T14:50:57.440290Z",
     "shell.execute_reply": "2022-07-10T14:50:57.439295Z"
    },
    "papermill": {
     "duration": 0.021004,
     "end_time": "2022-07-10T14:50:57.442651",
     "exception": false,
     "start_time": "2022-07-10T14:50:57.421647",
     "status": "completed"
    },
    "tags": []
   },
   "outputs": [
    {
     "data": {
      "text/plain": [
       "\"\\ndef compute_correlation(df, user1, user2):\\n    '''\\n    INPUT\\n    user1 - int user_id\\n    user2 - int user_id\\n    df - dataset where is a matrix of user and their pivoted answer columns\\n    OUTPUT\\n    the correlation between the matching ratings between the two users\\n    '''\\n    answer_1 = list(df.loc[df.index == user1].iloc[0])\\n    answer_2 = list(df.loc[df.index == user2].iloc[0])\\n    \\n    dot_product = np.vdot(answer_1, answer_2)\\n    \\n    return dot_product #return the correlation\\n\""
      ]
     },
     "execution_count": 18,
     "metadata": {},
     "output_type": "execute_result"
    }
   ],
   "source": [
    "\"\"\"\n",
    "def compute_correlation(df, user1, user2):\n",
    "    '''\n",
    "    INPUT\n",
    "    user1 - int user_id\n",
    "    user2 - int user_id\n",
    "    df - dataset where is a matrix of user and their pivoted answer columns\n",
    "    OUTPUT\n",
    "    the correlation between the matching ratings between the two users\n",
    "    '''\n",
    "    answer_1 = list(df.loc[df.index == user1].iloc[0])\n",
    "    answer_2 = list(df.loc[df.index == user2].iloc[0])\n",
    "    \n",
    "    dot_product = np.vdot(answer_1, answer_2)\n",
    "    \n",
    "    return dot_product #return the correlation\n",
    "\"\"\""
   ]
  },
  {
   "cell_type": "code",
   "execution_count": 19,
   "id": "461bce3b",
   "metadata": {
    "execution": {
     "iopub.execute_input": "2022-07-10T14:50:57.465152Z",
     "iopub.status.busy": "2022-07-10T14:50:57.464398Z",
     "iopub.status.idle": "2022-07-10T14:50:57.472518Z",
     "shell.execute_reply": "2022-07-10T14:50:57.471673Z"
    },
    "papermill": {
     "duration": 0.021394,
     "end_time": "2022-07-10T14:50:57.474668",
     "exception": false,
     "start_time": "2022-07-10T14:50:57.453274",
     "status": "completed"
    },
    "tags": []
   },
   "outputs": [
    {
     "data": {
      "text/plain": [
       "\"\\nds_data = subset_data(renamed_data, \\n           'Q5_Select the title most similar to your current role (or most recent title if retired): - Selected Choice',\\n           'Data Scientist')\\n\""
      ]
     },
     "execution_count": 19,
     "metadata": {},
     "output_type": "execute_result"
    }
   ],
   "source": [
    "def subset_data(df, col, criteria):\n",
    "    \"\"\"\n",
    "    input:\n",
    "    df: the dataset we want to subset from\n",
    "    col: target columns as the filter\n",
    "    criteria: value to feed the filter\n",
    "    \n",
    "    output:\n",
    "    a new dataset which is a subset of the original one\n",
    "    \"\"\"\n",
    "    \n",
    "    new_df = df.loc[df[col] == criteria]\n",
    "    \n",
    "    return new_df\n",
    "\"\"\"\n",
    "ds_data = subset_data(renamed_data, \n",
    "           'Q5_Select the title most similar to your current role (or most recent title if retired): - Selected Choice',\n",
    "           'Data Scientist')\n",
    "\"\"\""
   ]
  },
  {
   "cell_type": "code",
   "execution_count": 20,
   "id": "08a03ce4",
   "metadata": {
    "execution": {
     "iopub.execute_input": "2022-07-10T14:50:57.496705Z",
     "iopub.status.busy": "2022-07-10T14:50:57.495992Z",
     "iopub.status.idle": "2022-07-10T14:50:57.503919Z",
     "shell.execute_reply": "2022-07-10T14:50:57.502951Z"
    },
    "papermill": {
     "duration": 0.021616,
     "end_time": "2022-07-10T14:50:57.506165",
     "exception": false,
     "start_time": "2022-07-10T14:50:57.484549",
     "status": "completed"
    },
    "tags": []
   },
   "outputs": [],
   "source": [
    "def question_columns(df, query, method = 'strict'):\n",
    "    \"\"\"\n",
    "    input: \n",
    "    df - target dataset\n",
    "    query - str, query we want to find relevant infomation in the dataset. e.g. 'Q7', or 'machine learning' \n",
    "    \n",
    "    output:\n",
    "    a subset of data which include the columns of the query in interest\n",
    "    \n",
    "    method:\n",
    "    if it == strict, which means we will look for the question exactly EQUALS to the query. e.g. if we search 'age', then 'language' won't\n",
    "    be taken into account in this case;\n",
    "    \n",
    "    if it == loose, which means we will look for the question exactly CONTAINS the query. e.g. if we search 'age', then 'language' will\n",
    "    be taken into account in this case.\n",
    "    \"\"\"\n",
    "    columns = df.columns\n",
    "    question_col = []\n",
    "    for col in columns:\n",
    "        if method == 'strict':\n",
    "            col_parts = col.lower().split() # each column name will be separated into single word tokens at first\n",
    "            if query.lower() in col_parts:\n",
    "                question_col.append(col)\n",
    "        elif method == 'loose':\n",
    "            if query.lower() in col.lower():\n",
    "                question_col.append(col)\n",
    "    return df[question_col]"
   ]
  },
  {
   "cell_type": "markdown",
   "id": "dfaf5ef1",
   "metadata": {
    "papermill": {
     "duration": 0.009768,
     "end_time": "2022-07-10T14:50:57.526004",
     "exception": false,
     "start_time": "2022-07-10T14:50:57.516236",
     "status": "completed"
    },
    "tags": []
   },
   "source": [
    "## What questions we want to ask here?\n",
    "1. How many types of data scientists based on activity they usually do?\n",
    "2. Which skill each type emphasizes at?\n",
    "3. Which platform/tools each type emphazies at?\n",
    "4. Demographic segmentation of each type?\n",
    "5. Profession segmentation of each type?"
   ]
  },
  {
   "cell_type": "code",
   "execution_count": 21,
   "id": "c729e1b7",
   "metadata": {
    "execution": {
     "iopub.execute_input": "2022-07-10T14:50:57.548160Z",
     "iopub.status.busy": "2022-07-10T14:50:57.547388Z",
     "iopub.status.idle": "2022-07-10T14:50:57.552108Z",
     "shell.execute_reply": "2022-07-10T14:50:57.551378Z"
    },
    "papermill": {
     "duration": 0.018466,
     "end_time": "2022-07-10T14:50:57.554249",
     "exception": false,
     "start_time": "2022-07-10T14:50:57.535783",
     "status": "completed"
    },
    "tags": []
   },
   "outputs": [],
   "source": [
    "#feature_data = role_data.iloc[: , 1:]"
   ]
  },
  {
   "cell_type": "code",
   "execution_count": 22,
   "id": "6a5831fd",
   "metadata": {
    "execution": {
     "iopub.execute_input": "2022-07-10T14:50:57.576642Z",
     "iopub.status.busy": "2022-07-10T14:50:57.575911Z",
     "iopub.status.idle": "2022-07-10T14:50:57.583243Z",
     "shell.execute_reply": "2022-07-10T14:50:57.582411Z"
    },
    "papermill": {
     "duration": 0.020726,
     "end_time": "2022-07-10T14:50:57.585352",
     "exception": false,
     "start_time": "2022-07-10T14:50:57.564626",
     "status": "completed"
    },
    "tags": []
   },
   "outputs": [
    {
     "data": {
      "text/plain": [
       "\"\\ndef kmeans_cluster_opt(df, init = 'k-means++', max_num_cluster = 9):\\n    \\n    input: \\n    df - the dataset we want to segments into cluster\\n    init - the way we want to initialize the starting centroid\\n    max_num_cluster - the max number of cluster\\n    \\n    output:\\n    a visualization showing the line graph indicating the optimal number of klusters, based on inertias value\\n    \\n    num_clusters = list(range(1, max_num_cluster))\\n    inertias = []\\n\\n    for k in num_clusters:\\n        model = KMeans(init=init, n_clusters=k, random_state = 42)\\n        model.fit(df)\\n        inertias.append(model.inertia_)\\n\\n    \\n    plt.plot(num_clusters, inertias, '-o')\\n\\n    plt.xlabel('number of clusters (k)')\\n    plt.ylabel('inertia')\\n\\n    plt.show()\\n\""
      ]
     },
     "execution_count": 22,
     "metadata": {},
     "output_type": "execute_result"
    }
   ],
   "source": [
    "\"\"\"\n",
    "def kmeans_cluster_opt(df, init = 'k-means++', max_num_cluster = 9):\n",
    "    \n",
    "    input: \n",
    "    df - the dataset we want to segments into cluster\n",
    "    init - the way we want to initialize the starting centroid\n",
    "    max_num_cluster - the max number of cluster\n",
    "    \n",
    "    output:\n",
    "    a visualization showing the line graph indicating the optimal number of klusters, based on inertias value\n",
    "    \n",
    "    num_clusters = list(range(1, max_num_cluster))\n",
    "    inertias = []\n",
    "\n",
    "    for k in num_clusters:\n",
    "        model = KMeans(init=init, n_clusters=k, random_state = 42)\n",
    "        model.fit(df)\n",
    "        inertias.append(model.inertia_)\n",
    "\n",
    "    \n",
    "    plt.plot(num_clusters, inertias, '-o')\n",
    "\n",
    "    plt.xlabel('number of clusters (k)')\n",
    "    plt.ylabel('inertia')\n",
    "\n",
    "    plt.show()\n",
    "\"\"\""
   ]
  },
  {
   "cell_type": "code",
   "execution_count": 23,
   "id": "edd4b4b7",
   "metadata": {
    "execution": {
     "iopub.execute_input": "2022-07-10T14:50:57.607471Z",
     "iopub.status.busy": "2022-07-10T14:50:57.606677Z",
     "iopub.status.idle": "2022-07-10T14:50:57.611523Z",
     "shell.execute_reply": "2022-07-10T14:50:57.610687Z"
    },
    "papermill": {
     "duration": 0.018609,
     "end_time": "2022-07-10T14:50:57.613865",
     "exception": false,
     "start_time": "2022-07-10T14:50:57.595256",
     "status": "completed"
    },
    "tags": []
   },
   "outputs": [],
   "source": [
    "#kmeans_cluster_opt(feature_data)"
   ]
  },
  {
   "cell_type": "code",
   "execution_count": 24,
   "id": "8a7696d7",
   "metadata": {
    "execution": {
     "iopub.execute_input": "2022-07-10T14:50:57.636752Z",
     "iopub.status.busy": "2022-07-10T14:50:57.636352Z",
     "iopub.status.idle": "2022-07-10T14:50:57.643921Z",
     "shell.execute_reply": "2022-07-10T14:50:57.643070Z"
    },
    "papermill": {
     "duration": 0.021769,
     "end_time": "2022-07-10T14:50:57.646159",
     "exception": false,
     "start_time": "2022-07-10T14:50:57.624390",
     "status": "completed"
    },
    "tags": []
   },
   "outputs": [
    {
     "data": {
      "text/plain": [
       "\"\\ndef kmeans_predict(df, init = 'k-means++', n_clusters = 4):\\n    \\n    input:\\n    df - dataset we want to segment into clusters\\n    init - the way we want to initialize the starting centroid\\n    n_clusters - the number of cluster\\n    \\n    output:\\n    labels - return an array of predictions on the cluster label of given features\\n    centers - centroid values of each cluster\\n    model = KMeans(init=init, n_clusters = n_clusters, random_state = 42)\\n\\n    model.fit(df)\\n\\n    labels = model.predict(df)\\n    \\n    centers = np.array(model.cluster_centers_)\\n    \\n    return labels, centers\\n\""
      ]
     },
     "execution_count": 24,
     "metadata": {},
     "output_type": "execute_result"
    }
   ],
   "source": [
    "\"\"\"\n",
    "def kmeans_predict(df, init = 'k-means++', n_clusters = 4):\n",
    "    \n",
    "    input:\n",
    "    df - dataset we want to segment into clusters\n",
    "    init - the way we want to initialize the starting centroid\n",
    "    n_clusters - the number of cluster\n",
    "    \n",
    "    output:\n",
    "    labels - return an array of predictions on the cluster label of given features\n",
    "    centers - centroid values of each cluster\n",
    "    model = KMeans(init=init, n_clusters = n_clusters, random_state = 42)\n",
    "\n",
    "    model.fit(df)\n",
    "\n",
    "    labels = model.predict(df)\n",
    "    \n",
    "    centers = np.array(model.cluster_centers_)\n",
    "    \n",
    "    return labels, centers\n",
    "\"\"\""
   ]
  }
 ],
 "metadata": {
  "kernelspec": {
   "display_name": "Python 3",
   "language": "python",
   "name": "python3"
  },
  "language_info": {
   "codemirror_mode": {
    "name": "ipython",
    "version": 3
   },
   "file_extension": ".py",
   "mimetype": "text/x-python",
   "name": "python",
   "nbconvert_exporter": "python",
   "pygments_lexer": "ipython3",
   "version": "3.7.12"
  },
  "papermill": {
   "default_parameters": {},
   "duration": 2420.965463,
   "end_time": "2022-07-10T14:50:58.483336",
   "environment_variables": {},
   "exception": null,
   "input_path": "__notebook__.ipynb",
   "output_path": "__notebook__.ipynb",
   "parameters": {},
   "start_time": "2022-07-10T14:10:37.517873",
   "version": "2.3.4"
  }
 },
 "nbformat": 4,
 "nbformat_minor": 5
}
