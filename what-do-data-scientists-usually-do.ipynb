{
 "cells": [
  {
   "cell_type": "code",
   "execution_count": 1,
   "id": "914ad120",
   "metadata": {
    "_cell_guid": "b1076dfc-b9ad-4769-8c92-a6c4dae69d19",
    "_uuid": "8f2839f25d086af736a60e9eeb907d3b93b6e0e5",
    "execution": {
     "iopub.execute_input": "2022-07-09T21:55:28.523315Z",
     "iopub.status.busy": "2022-07-09T21:55:28.522773Z",
     "iopub.status.idle": "2022-07-09T21:55:30.175784Z",
     "shell.execute_reply": "2022-07-09T21:55:30.174487Z"
    },
    "papermill": {
     "duration": 1.670318,
     "end_time": "2022-07-09T21:55:30.180130",
     "exception": false,
     "start_time": "2022-07-09T21:55:28.509812",
     "status": "completed"
    },
    "tags": []
   },
   "outputs": [
    {
     "name": "stdout",
     "output_type": "stream",
     "text": [
      "/kaggle/input/kaggle-survey-2021/kaggle_survey_2021_responses.csv\n",
      "/kaggle/input/kaggle-survey-2021/supplementary_data/kaggle_survey_2021_methodology.pdf\n",
      "/kaggle/input/kaggle-survey-2021/supplementary_data/kaggle_survey_2021_answer_choices.pdf\n"
     ]
    }
   ],
   "source": [
    "# This Python 3 environment comes with many helpful analytics libraries installed\n",
    "# It is defined by the kaggle/python Docker image: https://github.com/kaggle/docker-python\n",
    "# For example, here's several helpful packages to load\n",
    "\n",
    "import numpy as np # linear algebra\n",
    "import pandas as pd # data processing, CSV file I/O (e.g. pd.read_csv)\n",
    "import matplotlib.pyplot as plt\n",
    "from sklearn.cluster import KMeans\n",
    "from sklearn.decomposition import PCA\n",
    "\n",
    "\n",
    "# Input data files are available in the read-only \"../input/\" directory\n",
    "# For example, running this (by clicking run or pressing Shift+Enter) will list all files under the input directory\n",
    "\n",
    "import os\n",
    "for dirname, _, filenames in os.walk('/kaggle/input'):\n",
    "    for filename in filenames:\n",
    "        print(os.path.join(dirname, filename))\n",
    "\n",
    "# You can write up to 20GB to the current directory (/kaggle/working/) that gets preserved as output when you create a version using \"Save & Run All\" \n",
    "# You can also write temporary files to /kaggle/temp/, but they won't be saved outside of the current session"
   ]
  },
  {
   "cell_type": "code",
   "execution_count": 2,
   "id": "403cb64f",
   "metadata": {
    "execution": {
     "iopub.execute_input": "2022-07-09T21:55:30.203076Z",
     "iopub.status.busy": "2022-07-09T21:55:30.202001Z",
     "iopub.status.idle": "2022-07-09T21:55:32.486642Z",
     "shell.execute_reply": "2022-07-09T21:55:32.484816Z"
    },
    "papermill": {
     "duration": 2.299883,
     "end_time": "2022-07-09T21:55:32.489937",
     "exception": false,
     "start_time": "2022-07-09T21:55:30.190054",
     "status": "completed"
    },
    "tags": []
   },
   "outputs": [],
   "source": [
    "# load dataset\n",
    "data = pd.read_csv(\"../input/kaggle-survey-2021/kaggle_survey_2021_responses.csv\", low_memory = False)"
   ]
  },
  {
   "cell_type": "code",
   "execution_count": 3,
   "id": "c41c7072",
   "metadata": {
    "execution": {
     "iopub.execute_input": "2022-07-09T21:55:32.512372Z",
     "iopub.status.busy": "2022-07-09T21:55:32.511083Z",
     "iopub.status.idle": "2022-07-09T21:55:32.550752Z",
     "shell.execute_reply": "2022-07-09T21:55:32.549361Z"
    },
    "papermill": {
     "duration": 0.055434,
     "end_time": "2022-07-09T21:55:32.555256",
     "exception": false,
     "start_time": "2022-07-09T21:55:32.499822",
     "status": "completed"
    },
    "tags": []
   },
   "outputs": [
    {
     "data": {
      "text/html": [
       "<div>\n",
       "<style scoped>\n",
       "    .dataframe tbody tr th:only-of-type {\n",
       "        vertical-align: middle;\n",
       "    }\n",
       "\n",
       "    .dataframe tbody tr th {\n",
       "        vertical-align: top;\n",
       "    }\n",
       "\n",
       "    .dataframe thead th {\n",
       "        text-align: right;\n",
       "    }\n",
       "</style>\n",
       "<table border=\"1\" class=\"dataframe\">\n",
       "  <thead>\n",
       "    <tr style=\"text-align: right;\">\n",
       "      <th></th>\n",
       "      <th>Time from Start to Finish (seconds)</th>\n",
       "      <th>Q1</th>\n",
       "      <th>Q2</th>\n",
       "      <th>Q3</th>\n",
       "      <th>Q4</th>\n",
       "      <th>Q5</th>\n",
       "      <th>Q6</th>\n",
       "      <th>Q7_Part_1</th>\n",
       "      <th>Q7_Part_2</th>\n",
       "      <th>Q7_Part_3</th>\n",
       "      <th>...</th>\n",
       "      <th>Q38_B_Part_3</th>\n",
       "      <th>Q38_B_Part_4</th>\n",
       "      <th>Q38_B_Part_5</th>\n",
       "      <th>Q38_B_Part_6</th>\n",
       "      <th>Q38_B_Part_7</th>\n",
       "      <th>Q38_B_Part_8</th>\n",
       "      <th>Q38_B_Part_9</th>\n",
       "      <th>Q38_B_Part_10</th>\n",
       "      <th>Q38_B_Part_11</th>\n",
       "      <th>Q38_B_OTHER</th>\n",
       "    </tr>\n",
       "  </thead>\n",
       "  <tbody>\n",
       "    <tr>\n",
       "      <th>0</th>\n",
       "      <td>Duration (in seconds)</td>\n",
       "      <td>What is your age (# years)?</td>\n",
       "      <td>What is your gender? - Selected Choice</td>\n",
       "      <td>In which country do you currently reside?</td>\n",
       "      <td>What is the highest level of formal education ...</td>\n",
       "      <td>Select the title most similar to your current ...</td>\n",
       "      <td>For how many years have you been writing code ...</td>\n",
       "      <td>What programming languages do you use on a reg...</td>\n",
       "      <td>What programming languages do you use on a reg...</td>\n",
       "      <td>What programming languages do you use on a reg...</td>\n",
       "      <td>...</td>\n",
       "      <td>In the next 2 years, do you hope to become mor...</td>\n",
       "      <td>In the next 2 years, do you hope to become mor...</td>\n",
       "      <td>In the next 2 years, do you hope to become mor...</td>\n",
       "      <td>In the next 2 years, do you hope to become mor...</td>\n",
       "      <td>In the next 2 years, do you hope to become mor...</td>\n",
       "      <td>In the next 2 years, do you hope to become mor...</td>\n",
       "      <td>In the next 2 years, do you hope to become mor...</td>\n",
       "      <td>In the next 2 years, do you hope to become mor...</td>\n",
       "      <td>In the next 2 years, do you hope to become mor...</td>\n",
       "      <td>In the next 2 years, do you hope to become mor...</td>\n",
       "    </tr>\n",
       "    <tr>\n",
       "      <th>1</th>\n",
       "      <td>910</td>\n",
       "      <td>50-54</td>\n",
       "      <td>Man</td>\n",
       "      <td>India</td>\n",
       "      <td>Bachelor’s degree</td>\n",
       "      <td>Other</td>\n",
       "      <td>5-10 years</td>\n",
       "      <td>Python</td>\n",
       "      <td>R</td>\n",
       "      <td>NaN</td>\n",
       "      <td>...</td>\n",
       "      <td>NaN</td>\n",
       "      <td>NaN</td>\n",
       "      <td>NaN</td>\n",
       "      <td>NaN</td>\n",
       "      <td>NaN</td>\n",
       "      <td>NaN</td>\n",
       "      <td>NaN</td>\n",
       "      <td>NaN</td>\n",
       "      <td>NaN</td>\n",
       "      <td>NaN</td>\n",
       "    </tr>\n",
       "    <tr>\n",
       "      <th>2</th>\n",
       "      <td>784</td>\n",
       "      <td>50-54</td>\n",
       "      <td>Man</td>\n",
       "      <td>Indonesia</td>\n",
       "      <td>Master’s degree</td>\n",
       "      <td>Program/Project Manager</td>\n",
       "      <td>20+ years</td>\n",
       "      <td>NaN</td>\n",
       "      <td>NaN</td>\n",
       "      <td>SQL</td>\n",
       "      <td>...</td>\n",
       "      <td>NaN</td>\n",
       "      <td>NaN</td>\n",
       "      <td>NaN</td>\n",
       "      <td>NaN</td>\n",
       "      <td>NaN</td>\n",
       "      <td>NaN</td>\n",
       "      <td>NaN</td>\n",
       "      <td>NaN</td>\n",
       "      <td>None</td>\n",
       "      <td>NaN</td>\n",
       "    </tr>\n",
       "    <tr>\n",
       "      <th>3</th>\n",
       "      <td>924</td>\n",
       "      <td>22-24</td>\n",
       "      <td>Man</td>\n",
       "      <td>Pakistan</td>\n",
       "      <td>Master’s degree</td>\n",
       "      <td>Software Engineer</td>\n",
       "      <td>1-3 years</td>\n",
       "      <td>Python</td>\n",
       "      <td>NaN</td>\n",
       "      <td>NaN</td>\n",
       "      <td>...</td>\n",
       "      <td>NaN</td>\n",
       "      <td>NaN</td>\n",
       "      <td>TensorBoard</td>\n",
       "      <td>NaN</td>\n",
       "      <td>NaN</td>\n",
       "      <td>NaN</td>\n",
       "      <td>NaN</td>\n",
       "      <td>NaN</td>\n",
       "      <td>NaN</td>\n",
       "      <td>NaN</td>\n",
       "    </tr>\n",
       "    <tr>\n",
       "      <th>4</th>\n",
       "      <td>575</td>\n",
       "      <td>45-49</td>\n",
       "      <td>Man</td>\n",
       "      <td>Mexico</td>\n",
       "      <td>Doctoral degree</td>\n",
       "      <td>Research Scientist</td>\n",
       "      <td>20+ years</td>\n",
       "      <td>Python</td>\n",
       "      <td>NaN</td>\n",
       "      <td>NaN</td>\n",
       "      <td>...</td>\n",
       "      <td>NaN</td>\n",
       "      <td>NaN</td>\n",
       "      <td>NaN</td>\n",
       "      <td>NaN</td>\n",
       "      <td>NaN</td>\n",
       "      <td>NaN</td>\n",
       "      <td>NaN</td>\n",
       "      <td>NaN</td>\n",
       "      <td>None</td>\n",
       "      <td>NaN</td>\n",
       "    </tr>\n",
       "  </tbody>\n",
       "</table>\n",
       "<p>5 rows × 369 columns</p>\n",
       "</div>"
      ],
      "text/plain": [
       "  Time from Start to Finish (seconds)                           Q1  \\\n",
       "0               Duration (in seconds)  What is your age (# years)?   \n",
       "1                                 910                        50-54   \n",
       "2                                 784                        50-54   \n",
       "3                                 924                        22-24   \n",
       "4                                 575                        45-49   \n",
       "\n",
       "                                       Q2  \\\n",
       "0  What is your gender? - Selected Choice   \n",
       "1                                     Man   \n",
       "2                                     Man   \n",
       "3                                     Man   \n",
       "4                                     Man   \n",
       "\n",
       "                                          Q3  \\\n",
       "0  In which country do you currently reside?   \n",
       "1                                      India   \n",
       "2                                  Indonesia   \n",
       "3                                   Pakistan   \n",
       "4                                     Mexico   \n",
       "\n",
       "                                                  Q4  \\\n",
       "0  What is the highest level of formal education ...   \n",
       "1                                  Bachelor’s degree   \n",
       "2                                    Master’s degree   \n",
       "3                                    Master’s degree   \n",
       "4                                    Doctoral degree   \n",
       "\n",
       "                                                  Q5  \\\n",
       "0  Select the title most similar to your current ...   \n",
       "1                                              Other   \n",
       "2                            Program/Project Manager   \n",
       "3                                  Software Engineer   \n",
       "4                                 Research Scientist   \n",
       "\n",
       "                                                  Q6  \\\n",
       "0  For how many years have you been writing code ...   \n",
       "1                                         5-10 years   \n",
       "2                                          20+ years   \n",
       "3                                          1-3 years   \n",
       "4                                          20+ years   \n",
       "\n",
       "                                           Q7_Part_1  \\\n",
       "0  What programming languages do you use on a reg...   \n",
       "1                                             Python   \n",
       "2                                                NaN   \n",
       "3                                             Python   \n",
       "4                                             Python   \n",
       "\n",
       "                                           Q7_Part_2  \\\n",
       "0  What programming languages do you use on a reg...   \n",
       "1                                                  R   \n",
       "2                                                NaN   \n",
       "3                                                NaN   \n",
       "4                                                NaN   \n",
       "\n",
       "                                           Q7_Part_3  ...  \\\n",
       "0  What programming languages do you use on a reg...  ...   \n",
       "1                                                NaN  ...   \n",
       "2                                                SQL  ...   \n",
       "3                                                NaN  ...   \n",
       "4                                                NaN  ...   \n",
       "\n",
       "                                        Q38_B_Part_3  \\\n",
       "0  In the next 2 years, do you hope to become mor...   \n",
       "1                                                NaN   \n",
       "2                                                NaN   \n",
       "3                                                NaN   \n",
       "4                                                NaN   \n",
       "\n",
       "                                        Q38_B_Part_4  \\\n",
       "0  In the next 2 years, do you hope to become mor...   \n",
       "1                                                NaN   \n",
       "2                                                NaN   \n",
       "3                                                NaN   \n",
       "4                                                NaN   \n",
       "\n",
       "                                        Q38_B_Part_5  \\\n",
       "0  In the next 2 years, do you hope to become mor...   \n",
       "1                                                NaN   \n",
       "2                                                NaN   \n",
       "3                                       TensorBoard    \n",
       "4                                                NaN   \n",
       "\n",
       "                                        Q38_B_Part_6  \\\n",
       "0  In the next 2 years, do you hope to become mor...   \n",
       "1                                                NaN   \n",
       "2                                                NaN   \n",
       "3                                                NaN   \n",
       "4                                                NaN   \n",
       "\n",
       "                                        Q38_B_Part_7  \\\n",
       "0  In the next 2 years, do you hope to become mor...   \n",
       "1                                                NaN   \n",
       "2                                                NaN   \n",
       "3                                                NaN   \n",
       "4                                                NaN   \n",
       "\n",
       "                                        Q38_B_Part_8  \\\n",
       "0  In the next 2 years, do you hope to become mor...   \n",
       "1                                                NaN   \n",
       "2                                                NaN   \n",
       "3                                                NaN   \n",
       "4                                                NaN   \n",
       "\n",
       "                                        Q38_B_Part_9  \\\n",
       "0  In the next 2 years, do you hope to become mor...   \n",
       "1                                                NaN   \n",
       "2                                                NaN   \n",
       "3                                                NaN   \n",
       "4                                                NaN   \n",
       "\n",
       "                                       Q38_B_Part_10  \\\n",
       "0  In the next 2 years, do you hope to become mor...   \n",
       "1                                                NaN   \n",
       "2                                                NaN   \n",
       "3                                                NaN   \n",
       "4                                                NaN   \n",
       "\n",
       "                                       Q38_B_Part_11  \\\n",
       "0  In the next 2 years, do you hope to become mor...   \n",
       "1                                                NaN   \n",
       "2                                               None   \n",
       "3                                                NaN   \n",
       "4                                               None   \n",
       "\n",
       "                                         Q38_B_OTHER  \n",
       "0  In the next 2 years, do you hope to become mor...  \n",
       "1                                                NaN  \n",
       "2                                                NaN  \n",
       "3                                                NaN  \n",
       "4                                                NaN  \n",
       "\n",
       "[5 rows x 369 columns]"
      ]
     },
     "execution_count": 3,
     "metadata": {},
     "output_type": "execute_result"
    }
   ],
   "source": [
    "# first five rows\n",
    "data.head()"
   ]
  },
  {
   "cell_type": "code",
   "execution_count": 4,
   "id": "24a98022",
   "metadata": {
    "execution": {
     "iopub.execute_input": "2022-07-09T21:55:32.578322Z",
     "iopub.status.busy": "2022-07-09T21:55:32.577686Z",
     "iopub.status.idle": "2022-07-09T21:55:32.583933Z",
     "shell.execute_reply": "2022-07-09T21:55:32.582536Z"
    },
    "papermill": {
     "duration": 0.021196,
     "end_time": "2022-07-09T21:55:32.586647",
     "exception": false,
     "start_time": "2022-07-09T21:55:32.565451",
     "status": "completed"
    },
    "tags": []
   },
   "outputs": [],
   "source": [
    "# remove the column Time from Start to Finish (seconds)\n",
    "data = data.iloc[: , 1:]"
   ]
  },
  {
   "cell_type": "code",
   "execution_count": 5,
   "id": "d06bcef2",
   "metadata": {
    "execution": {
     "iopub.execute_input": "2022-07-09T21:55:32.610542Z",
     "iopub.status.busy": "2022-07-09T21:55:32.609617Z",
     "iopub.status.idle": "2022-07-09T21:55:32.618151Z",
     "shell.execute_reply": "2022-07-09T21:55:32.616763Z"
    },
    "papermill": {
     "duration": 0.023535,
     "end_time": "2022-07-09T21:55:32.620732",
     "exception": false,
     "start_time": "2022-07-09T21:55:32.597197",
     "status": "completed"
    },
    "tags": []
   },
   "outputs": [
    {
     "data": {
      "text/plain": [
       "(25974, 368)"
      ]
     },
     "execution_count": 5,
     "metadata": {},
     "output_type": "execute_result"
    }
   ],
   "source": [
    "# size of the dataset\n",
    "data.shape # 25973 rows, 369 columns"
   ]
  },
  {
   "cell_type": "code",
   "execution_count": 6,
   "id": "5a1089e6",
   "metadata": {
    "execution": {
     "iopub.execute_input": "2022-07-09T21:55:32.643859Z",
     "iopub.status.busy": "2022-07-09T21:55:32.643387Z",
     "iopub.status.idle": "2022-07-09T21:55:32.650464Z",
     "shell.execute_reply": "2022-07-09T21:55:32.649619Z"
    },
    "papermill": {
     "duration": 0.021693,
     "end_time": "2022-07-09T21:55:32.652836",
     "exception": false,
     "start_time": "2022-07-09T21:55:32.631143",
     "status": "completed"
    },
    "tags": []
   },
   "outputs": [],
   "source": [
    "def rename_columns(df):\n",
    "    \"\"\"\n",
    "    input: the dataset we want to rename the columns\n",
    "    output: combine the first row of the dataset into the original column\n",
    "    \"\"\"\n",
    "    original_columns = df.columns\n",
    "    num_col = df.shape[1]\n",
    "    first_row = df.iloc[0] #grab the first row for the header\n",
    "    df = df[1:] #take the data below the first row\n",
    "    # create a list containing new column names\n",
    "    new_cols = []\n",
    "    for col in range(num_col):\n",
    "        new_col_name = original_columns[col] + '_' + first_row[col]\n",
    "        new_cols.append(new_col_name)\n",
    "    df.columns = new_cols # assign the new column names to the dataset\n",
    "    return df"
   ]
  },
  {
   "cell_type": "code",
   "execution_count": 7,
   "id": "a635f2d3",
   "metadata": {
    "execution": {
     "iopub.execute_input": "2022-07-09T21:55:32.675975Z",
     "iopub.status.busy": "2022-07-09T21:55:32.675356Z",
     "iopub.status.idle": "2022-07-09T21:55:32.681165Z",
     "shell.execute_reply": "2022-07-09T21:55:32.680151Z"
    },
    "papermill": {
     "duration": 0.020241,
     "end_time": "2022-07-09T21:55:32.683464",
     "exception": false,
     "start_time": "2022-07-09T21:55:32.663223",
     "status": "completed"
    },
    "tags": []
   },
   "outputs": [],
   "source": [
    "def replace_nan(df):\n",
    "    \"\"\"\n",
    "    input:\n",
    "    df - the target dataset\n",
    "    \n",
    "    output:\n",
    "    a new dataset with nan values replaced as 0 and non-nan values replaced with 1\n",
    "    \"\"\"\n",
    "    array = np.where(df.isnull(),0,1)\n",
    "    df = pd.DataFrame(data=array, columns=df.columns)\n",
    "    \n",
    "    return df\n",
    "\n",
    "\n",
    "#role_data = replace_nan(role_question)"
   ]
  },
  {
   "cell_type": "code",
   "execution_count": 8,
   "id": "a0e6e4b0",
   "metadata": {
    "execution": {
     "iopub.execute_input": "2022-07-09T21:55:32.706988Z",
     "iopub.status.busy": "2022-07-09T21:55:32.706111Z",
     "iopub.status.idle": "2022-07-09T21:55:32.714114Z",
     "shell.execute_reply": "2022-07-09T21:55:32.713106Z"
    },
    "papermill": {
     "duration": 0.022843,
     "end_time": "2022-07-09T21:55:32.716649",
     "exception": false,
     "start_time": "2022-07-09T21:55:32.693806",
     "status": "completed"
    },
    "tags": []
   },
   "outputs": [],
   "source": [
    "renamed_data = rename_columns(data)"
   ]
  },
  {
   "cell_type": "code",
   "execution_count": 9,
   "id": "1fe266b6",
   "metadata": {
    "execution": {
     "iopub.execute_input": "2022-07-09T21:55:32.740787Z",
     "iopub.status.busy": "2022-07-09T21:55:32.739932Z",
     "iopub.status.idle": "2022-07-09T21:55:32.748311Z",
     "shell.execute_reply": "2022-07-09T21:55:32.747018Z"
    },
    "papermill": {
     "duration": 0.023748,
     "end_time": "2022-07-09T21:55:32.751199",
     "exception": false,
     "start_time": "2022-07-09T21:55:32.727451",
     "status": "completed"
    },
    "tags": []
   },
   "outputs": [],
   "source": [
    "def split_cols(df):\n",
    "    \"\"\"\n",
    "    input:\n",
    "    df - target dataframe\n",
    "    \n",
    "    output:\n",
    "    single_questions - a list of column names that belong to single question column\n",
    "    multiple_questions - a list of column names that belong to multiple question column\n",
    "    \"\"\"\n",
    "    single_questions = []\n",
    "    multiple_questions = []\n",
    "    for col in df.columns:\n",
    "        if 'part' in col.lower() or 'other' in col.lower():\n",
    "            multiple_questions.append(col)\n",
    "        else:\n",
    "            single_questions.append(col)\n",
    "    return single_questions, multiple_questions\n",
    "\n",
    "single_questions = split_cols(renamed_data)[0]\n",
    "multiple_questions = split_cols(renamed_data)[1]"
   ]
  },
  {
   "cell_type": "code",
   "execution_count": 10,
   "id": "3ea956cb",
   "metadata": {
    "execution": {
     "iopub.execute_input": "2022-07-09T21:55:32.774683Z",
     "iopub.status.busy": "2022-07-09T21:55:32.773767Z",
     "iopub.status.idle": "2022-07-09T21:55:32.787785Z",
     "shell.execute_reply": "2022-07-09T21:55:32.786621Z"
    },
    "papermill": {
     "duration": 0.028997,
     "end_time": "2022-07-09T21:55:32.790587",
     "exception": false,
     "start_time": "2022-07-09T21:55:32.761590",
     "status": "completed"
    },
    "tags": []
   },
   "outputs": [],
   "source": [
    "test = renamed_data[[split_cols(renamed_data)[0][0]]]"
   ]
  },
  {
   "cell_type": "code",
   "execution_count": 11,
   "id": "849dd028",
   "metadata": {
    "execution": {
     "iopub.execute_input": "2022-07-09T21:55:32.814640Z",
     "iopub.status.busy": "2022-07-09T21:55:32.813870Z",
     "iopub.status.idle": "2022-07-09T21:55:32.820157Z",
     "shell.execute_reply": "2022-07-09T21:55:32.819166Z"
    },
    "papermill": {
     "duration": 0.020985,
     "end_time": "2022-07-09T21:55:32.822736",
     "exception": false,
     "start_time": "2022-07-09T21:55:32.801751",
     "status": "completed"
    },
    "tags": []
   },
   "outputs": [],
   "source": [
    "def pivot_col(df, col):\n",
    "    \"\"\"\n",
    "    input:\n",
    "    df - target dataset\n",
    "    col - the column we want to pivot its value as new columns\n",
    "    \n",
    "    output:\n",
    "    return a pivoted dataframe where columns are value from the col of old dataframe\n",
    "    \"\"\"\n",
    "    df['participant_id'] = df.index\n",
    "    pivoted_df = df.pivot(index = 'participant_id', columns=col, values=col).reset_index().iloc[: , 1:]\n",
    "    pivoted_df.index = pivoted_df.index + 1\n",
    "    return pivoted_df"
   ]
  },
  {
   "cell_type": "code",
   "execution_count": 12,
   "id": "5ac3d5a2",
   "metadata": {
    "execution": {
     "iopub.execute_input": "2022-07-09T21:55:32.845994Z",
     "iopub.status.busy": "2022-07-09T21:55:32.845464Z",
     "iopub.status.idle": "2022-07-09T21:55:34.283836Z",
     "shell.execute_reply": "2022-07-09T21:55:34.282419Z"
    },
    "papermill": {
     "duration": 1.453875,
     "end_time": "2022-07-09T21:55:34.286994",
     "exception": false,
     "start_time": "2022-07-09T21:55:32.833119",
     "status": "completed"
    },
    "tags": []
   },
   "outputs": [
    {
     "name": "stderr",
     "output_type": "stream",
     "text": [
      "/opt/conda/lib/python3.7/site-packages/ipykernel_launcher.py:10: SettingWithCopyWarning: \n",
      "A value is trying to be set on a copy of a slice from a DataFrame.\n",
      "Try using .loc[row_indexer,col_indexer] = value instead\n",
      "\n",
      "See the caveats in the documentation: https://pandas.pydata.org/pandas-docs/stable/user_guide/indexing.html#returning-a-view-versus-a-copy\n",
      "  # Remove the CWD from sys.path while we load stuff.\n"
     ]
    }
   ],
   "source": [
    "def pivot_df(df):\n",
    "    \"\"\"\n",
    "    input:\n",
    "    df - targer dataframe\n",
    "    var_cols - a list of column names we want to pivot\n",
    "    aggr - the column we used to group by the dataset\n",
    "        \n",
    "    output:\n",
    "    return a dataframe where each column comes from value of each col of old dataframe\n",
    "    NaN value replaced with 0 while non-NaN value replaced with 1\n",
    "    \"\"\"\n",
    "    \n",
    "    pivoted_df = []\n",
    "    for col in df.columns:\n",
    "        if col in single_questions: ## single question answers\n",
    "            pivoted = pivot_col(df[[col]], col)\n",
    "            pivoted_df.append(pivoted)\n",
    "        else:\n",
    "            pivoted_df.append(df[[col]])\n",
    "    pivoted_merged_df = pd.concat(pivoted_df, axis=1, ignore_index=False)\n",
    "    return pivoted_merged_df\n",
    "pivoted_data = pivot_df(renamed_data)"
   ]
  },
  {
   "cell_type": "code",
   "execution_count": 13,
   "id": "52026f40",
   "metadata": {
    "execution": {
     "iopub.execute_input": "2022-07-09T21:55:34.310249Z",
     "iopub.status.busy": "2022-07-09T21:55:34.309291Z",
     "iopub.status.idle": "2022-07-09T21:55:35.199388Z",
     "shell.execute_reply": "2022-07-09T21:55:35.198016Z"
    },
    "papermill": {
     "duration": 0.905182,
     "end_time": "2022-07-09T21:55:35.202588",
     "exception": false,
     "start_time": "2022-07-09T21:55:34.297406",
     "status": "completed"
    },
    "tags": []
   },
   "outputs": [],
   "source": [
    "binary_data = replace_nan(pivoted_data)"
   ]
  },
  {
   "cell_type": "code",
   "execution_count": 14,
   "id": "ebb2976b",
   "metadata": {
    "execution": {
     "iopub.execute_input": "2022-07-09T21:55:35.225742Z",
     "iopub.status.busy": "2022-07-09T21:55:35.225176Z",
     "iopub.status.idle": "2022-07-09T22:53:12.471976Z",
     "shell.execute_reply": "2022-07-09T22:53:12.470580Z"
    },
    "papermill": {
     "duration": 3457.262119,
     "end_time": "2022-07-09T22:53:12.475310",
     "exception": false,
     "start_time": "2022-07-09T21:55:35.213191",
     "status": "completed"
    },
    "tags": []
   },
   "outputs": [],
   "source": [
    "data_matrix = binary_data.dot(np.transpose(binary_data))"
   ]
  },
  {
   "cell_type": "code",
   "execution_count": 15,
   "id": "caeb4cc1",
   "metadata": {
    "execution": {
     "iopub.execute_input": "2022-07-09T22:53:12.498810Z",
     "iopub.status.busy": "2022-07-09T22:53:12.498334Z",
     "iopub.status.idle": "2022-07-09T22:53:12.520791Z",
     "shell.execute_reply": "2022-07-09T22:53:12.519478Z"
    },
    "papermill": {
     "duration": 0.037293,
     "end_time": "2022-07-09T22:53:12.523331",
     "exception": false,
     "start_time": "2022-07-09T22:53:12.486038",
     "status": "completed"
    },
    "tags": []
   },
   "outputs": [
    {
     "data": {
      "text/html": [
       "<div>\n",
       "<style scoped>\n",
       "    .dataframe tbody tr th:only-of-type {\n",
       "        vertical-align: middle;\n",
       "    }\n",
       "\n",
       "    .dataframe tbody tr th {\n",
       "        vertical-align: top;\n",
       "    }\n",
       "\n",
       "    .dataframe thead th {\n",
       "        text-align: right;\n",
       "    }\n",
       "</style>\n",
       "<table border=\"1\" class=\"dataframe\">\n",
       "  <thead>\n",
       "    <tr style=\"text-align: right;\">\n",
       "      <th></th>\n",
       "      <th>0</th>\n",
       "      <th>1</th>\n",
       "      <th>2</th>\n",
       "      <th>3</th>\n",
       "      <th>4</th>\n",
       "      <th>5</th>\n",
       "      <th>6</th>\n",
       "      <th>7</th>\n",
       "      <th>8</th>\n",
       "      <th>9</th>\n",
       "      <th>...</th>\n",
       "      <th>25963</th>\n",
       "      <th>25964</th>\n",
       "      <th>25965</th>\n",
       "      <th>25966</th>\n",
       "      <th>25967</th>\n",
       "      <th>25968</th>\n",
       "      <th>25969</th>\n",
       "      <th>25970</th>\n",
       "      <th>25971</th>\n",
       "      <th>25972</th>\n",
       "    </tr>\n",
       "  </thead>\n",
       "  <tbody>\n",
       "    <tr>\n",
       "      <th>0</th>\n",
       "      <td>62</td>\n",
       "      <td>11</td>\n",
       "      <td>12</td>\n",
       "      <td>18</td>\n",
       "      <td>19</td>\n",
       "      <td>19</td>\n",
       "      <td>3</td>\n",
       "      <td>25</td>\n",
       "      <td>11</td>\n",
       "      <td>13</td>\n",
       "      <td>...</td>\n",
       "      <td>16</td>\n",
       "      <td>18</td>\n",
       "      <td>20</td>\n",
       "      <td>19</td>\n",
       "      <td>23</td>\n",
       "      <td>26</td>\n",
       "      <td>4</td>\n",
       "      <td>4</td>\n",
       "      <td>12</td>\n",
       "      <td>3</td>\n",
       "    </tr>\n",
       "    <tr>\n",
       "      <th>1</th>\n",
       "      <td>11</td>\n",
       "      <td>48</td>\n",
       "      <td>15</td>\n",
       "      <td>14</td>\n",
       "      <td>13</td>\n",
       "      <td>12</td>\n",
       "      <td>8</td>\n",
       "      <td>9</td>\n",
       "      <td>16</td>\n",
       "      <td>16</td>\n",
       "      <td>...</td>\n",
       "      <td>12</td>\n",
       "      <td>15</td>\n",
       "      <td>12</td>\n",
       "      <td>10</td>\n",
       "      <td>9</td>\n",
       "      <td>13</td>\n",
       "      <td>5</td>\n",
       "      <td>10</td>\n",
       "      <td>11</td>\n",
       "      <td>5</td>\n",
       "    </tr>\n",
       "    <tr>\n",
       "      <th>2</th>\n",
       "      <td>12</td>\n",
       "      <td>15</td>\n",
       "      <td>54</td>\n",
       "      <td>14</td>\n",
       "      <td>9</td>\n",
       "      <td>14</td>\n",
       "      <td>8</td>\n",
       "      <td>11</td>\n",
       "      <td>11</td>\n",
       "      <td>14</td>\n",
       "      <td>...</td>\n",
       "      <td>14</td>\n",
       "      <td>19</td>\n",
       "      <td>9</td>\n",
       "      <td>7</td>\n",
       "      <td>9</td>\n",
       "      <td>13</td>\n",
       "      <td>7</td>\n",
       "      <td>18</td>\n",
       "      <td>7</td>\n",
       "      <td>5</td>\n",
       "    </tr>\n",
       "    <tr>\n",
       "      <th>3</th>\n",
       "      <td>18</td>\n",
       "      <td>14</td>\n",
       "      <td>14</td>\n",
       "      <td>49</td>\n",
       "      <td>14</td>\n",
       "      <td>16</td>\n",
       "      <td>2</td>\n",
       "      <td>15</td>\n",
       "      <td>12</td>\n",
       "      <td>11</td>\n",
       "      <td>...</td>\n",
       "      <td>10</td>\n",
       "      <td>15</td>\n",
       "      <td>17</td>\n",
       "      <td>16</td>\n",
       "      <td>6</td>\n",
       "      <td>17</td>\n",
       "      <td>7</td>\n",
       "      <td>13</td>\n",
       "      <td>8</td>\n",
       "      <td>9</td>\n",
       "    </tr>\n",
       "    <tr>\n",
       "      <th>4</th>\n",
       "      <td>19</td>\n",
       "      <td>13</td>\n",
       "      <td>9</td>\n",
       "      <td>14</td>\n",
       "      <td>50</td>\n",
       "      <td>14</td>\n",
       "      <td>5</td>\n",
       "      <td>11</td>\n",
       "      <td>11</td>\n",
       "      <td>14</td>\n",
       "      <td>...</td>\n",
       "      <td>18</td>\n",
       "      <td>12</td>\n",
       "      <td>14</td>\n",
       "      <td>15</td>\n",
       "      <td>11</td>\n",
       "      <td>19</td>\n",
       "      <td>5</td>\n",
       "      <td>3</td>\n",
       "      <td>11</td>\n",
       "      <td>3</td>\n",
       "    </tr>\n",
       "  </tbody>\n",
       "</table>\n",
       "<p>5 rows × 25973 columns</p>\n",
       "</div>"
      ],
      "text/plain": [
       "   0      1      2      3      4      5      6      7      8      9      ...  \\\n",
       "0     62     11     12     18     19     19      3     25     11     13  ...   \n",
       "1     11     48     15     14     13     12      8      9     16     16  ...   \n",
       "2     12     15     54     14      9     14      8     11     11     14  ...   \n",
       "3     18     14     14     49     14     16      2     15     12     11  ...   \n",
       "4     19     13      9     14     50     14      5     11     11     14  ...   \n",
       "\n",
       "   25963  25964  25965  25966  25967  25968  25969  25970  25971  25972  \n",
       "0     16     18     20     19     23     26      4      4     12      3  \n",
       "1     12     15     12     10      9     13      5     10     11      5  \n",
       "2     14     19      9      7      9     13      7     18      7      5  \n",
       "3     10     15     17     16      6     17      7     13      8      9  \n",
       "4     18     12     14     15     11     19      5      3     11      3  \n",
       "\n",
       "[5 rows x 25973 columns]"
      ]
     },
     "execution_count": 15,
     "metadata": {},
     "output_type": "execute_result"
    }
   ],
   "source": [
    "data_matrix.head()"
   ]
  },
  {
   "cell_type": "code",
   "execution_count": 16,
   "id": "218f2b7d",
   "metadata": {
    "execution": {
     "iopub.execute_input": "2022-07-09T22:53:12.549260Z",
     "iopub.status.busy": "2022-07-09T22:53:12.548208Z",
     "iopub.status.idle": "2022-07-09T22:53:12.649780Z",
     "shell.execute_reply": "2022-07-09T22:53:12.648645Z"
    },
    "papermill": {
     "duration": 0.117921,
     "end_time": "2022-07-09T22:53:12.652360",
     "exception": false,
     "start_time": "2022-07-09T22:53:12.534439",
     "status": "completed"
    },
    "tags": []
   },
   "outputs": [
    {
     "data": {
      "text/html": [
       "<div>\n",
       "<style scoped>\n",
       "    .dataframe tbody tr th:only-of-type {\n",
       "        vertical-align: middle;\n",
       "    }\n",
       "\n",
       "    .dataframe tbody tr th {\n",
       "        vertical-align: top;\n",
       "    }\n",
       "\n",
       "    .dataframe thead th {\n",
       "        text-align: right;\n",
       "    }\n",
       "</style>\n",
       "<table border=\"1\" class=\"dataframe\">\n",
       "  <thead>\n",
       "    <tr style=\"text-align: right;\">\n",
       "      <th></th>\n",
       "      <th>5</th>\n",
       "    </tr>\n",
       "  </thead>\n",
       "  <tbody>\n",
       "    <tr>\n",
       "      <th>5</th>\n",
       "      <td>52</td>\n",
       "    </tr>\n",
       "    <tr>\n",
       "      <th>151</th>\n",
       "      <td>44</td>\n",
       "    </tr>\n",
       "    <tr>\n",
       "      <th>2143</th>\n",
       "      <td>42</td>\n",
       "    </tr>\n",
       "    <tr>\n",
       "      <th>10664</th>\n",
       "      <td>42</td>\n",
       "    </tr>\n",
       "    <tr>\n",
       "      <th>22880</th>\n",
       "      <td>42</td>\n",
       "    </tr>\n",
       "    <tr>\n",
       "      <th>...</th>\n",
       "      <td>...</td>\n",
       "    </tr>\n",
       "    <tr>\n",
       "      <th>591</th>\n",
       "      <td>0</td>\n",
       "    </tr>\n",
       "    <tr>\n",
       "      <th>3835</th>\n",
       "      <td>0</td>\n",
       "    </tr>\n",
       "    <tr>\n",
       "      <th>21566</th>\n",
       "      <td>0</td>\n",
       "    </tr>\n",
       "    <tr>\n",
       "      <th>7110</th>\n",
       "      <td>0</td>\n",
       "    </tr>\n",
       "    <tr>\n",
       "      <th>24745</th>\n",
       "      <td>0</td>\n",
       "    </tr>\n",
       "  </tbody>\n",
       "</table>\n",
       "<p>25973 rows × 1 columns</p>\n",
       "</div>"
      ],
      "text/plain": [
       "        5\n",
       "5      52\n",
       "151    44\n",
       "2143   42\n",
       "10664  42\n",
       "22880  42\n",
       "...    ..\n",
       "591     0\n",
       "3835    0\n",
       "21566   0\n",
       "7110    0\n",
       "24745   0\n",
       "\n",
       "[25973 rows x 1 columns]"
      ]
     },
     "execution_count": 16,
     "metadata": {},
     "output_type": "execute_result"
    }
   ],
   "source": [
    "data_matrix[[5]].sort_values(by = 5, ascending = False)"
   ]
  },
  {
   "cell_type": "code",
   "execution_count": 17,
   "id": "e61dd0a1",
   "metadata": {
    "execution": {
     "iopub.execute_input": "2022-07-09T22:53:12.677176Z",
     "iopub.status.busy": "2022-07-09T22:53:12.675871Z",
     "iopub.status.idle": "2022-07-09T22:53:12.683574Z",
     "shell.execute_reply": "2022-07-09T22:53:12.682609Z"
    },
    "papermill": {
     "duration": 0.02301,
     "end_time": "2022-07-09T22:53:12.686242",
     "exception": false,
     "start_time": "2022-07-09T22:53:12.663232",
     "status": "completed"
    },
    "tags": []
   },
   "outputs": [],
   "source": [
    "def closest_participant(participant_id, participant_matrix):\n",
    "    \"\"\"\n",
    "    input:\n",
    "    participant_id - target participant\n",
    "    participant_matrix - matrix where shows the similarity between each participant\n",
    "    \n",
    "    output - the list of participants other than the target participant, ranked by similarity\n",
    "    \"\"\"\n",
    "    participant_list = participant_matrix[[participant_id]]\n",
    "    participant_list = participant_list.sort_values(by = participant_id, ascending = False)\n",
    "    \n",
    "    return participant_list.index[1:]\n",
    "\n"
   ]
  },
  {
   "cell_type": "code",
   "execution_count": 18,
   "id": "438b4297",
   "metadata": {
    "execution": {
     "iopub.execute_input": "2022-07-09T22:53:12.710848Z",
     "iopub.status.busy": "2022-07-09T22:53:12.709969Z",
     "iopub.status.idle": "2022-07-09T22:53:12.723945Z",
     "shell.execute_reply": "2022-07-09T22:53:12.722645Z"
    },
    "papermill": {
     "duration": 0.029527,
     "end_time": "2022-07-09T22:53:12.726646",
     "exception": false,
     "start_time": "2022-07-09T22:53:12.697119",
     "status": "completed"
    },
    "tags": []
   },
   "outputs": [
    {
     "data": {
      "text/plain": [
       "Int64Index([  151,  2143, 10664, 22880,  7195, 18703, 13915,  3968, 13504,\n",
       "             4410,\n",
       "            ...\n",
       "            11550,  7907,  3392, 18516, 24901,   591,  3835, 21566,  7110,\n",
       "            24745],\n",
       "           dtype='int64', length=25972)"
      ]
     },
     "execution_count": 18,
     "metadata": {},
     "output_type": "execute_result"
    }
   ],
   "source": [
    "closest_participant(5,data_matrix)"
   ]
  },
  {
   "cell_type": "code",
   "execution_count": 19,
   "id": "93ffbe17",
   "metadata": {
    "execution": {
     "iopub.execute_input": "2022-07-09T22:53:12.751651Z",
     "iopub.status.busy": "2022-07-09T22:53:12.750654Z",
     "iopub.status.idle": "2022-07-09T22:53:12.764185Z",
     "shell.execute_reply": "2022-07-09T22:53:12.762905Z"
    },
    "papermill": {
     "duration": 0.028792,
     "end_time": "2022-07-09T22:53:12.766759",
     "exception": false,
     "start_time": "2022-07-09T22:53:12.737967",
     "status": "completed"
    },
    "tags": []
   },
   "outputs": [
    {
     "data": {
      "text/plain": [
       "'30,000-39,999'"
      ]
     },
     "execution_count": 19,
     "metadata": {},
     "output_type": "execute_result"
    }
   ],
   "source": [
    "def compensation(df , participant):\n",
    "    \"\"\"\n",
    "    input -\n",
    "    df - target dataset\n",
    "    participant - the id of the participant\n",
    "    \n",
    "    output -\n",
    "    the yearly compensation of that participant\n",
    "    \"\"\"\n",
    "    \n",
    "    compensation = df.loc[df.index == participant]['Q25_What is your current yearly compensation (approximate $USD)?'].iloc[0]\n",
    "    \n",
    "    return compensation\n",
    "\n",
    "compensation(renamed_data,5)"
   ]
  },
  {
   "cell_type": "code",
   "execution_count": 20,
   "id": "bcd77cdb",
   "metadata": {
    "execution": {
     "iopub.execute_input": "2022-07-09T22:53:12.791901Z",
     "iopub.status.busy": "2022-07-09T22:53:12.790993Z",
     "iopub.status.idle": "2022-07-09T22:53:12.808536Z",
     "shell.execute_reply": "2022-07-09T22:53:12.807244Z"
    },
    "papermill": {
     "duration": 0.03336,
     "end_time": "2022-07-09T22:53:12.811290",
     "exception": false,
     "start_time": "2022-07-09T22:53:12.777930",
     "status": "completed"
    },
    "tags": []
   },
   "outputs": [
    {
     "data": {
      "text/plain": [
       "'100,000-124,999'"
      ]
     },
     "execution_count": 20,
     "metadata": {},
     "output_type": "execute_result"
    }
   ],
   "source": [
    "def similar_user_compensation(df, participant_ids):\n",
    "    \"\"\"\n",
    "    input:\n",
    "    df - target dataset\n",
    "    participant_ids - a list of participant ids\n",
    "    output:\n",
    "    the first participant id that has non-null compensation data\n",
    "    \"\"\"\n",
    "    for participant in participant_ids:\n",
    "        if compensation(df, participant) is not None:\n",
    "            return compensation(df, participant)\n",
    "        else:\n",
    "            pass\n",
    "similar_user_compensation(renamed_data,closest_participant(5,data_matrix))"
   ]
  },
  {
   "cell_type": "code",
   "execution_count": 21,
   "id": "83b0906c",
   "metadata": {
    "execution": {
     "iopub.execute_input": "2022-07-09T22:53:12.836093Z",
     "iopub.status.busy": "2022-07-09T22:53:12.835618Z",
     "iopub.status.idle": "2022-07-09T22:53:12.844448Z",
     "shell.execute_reply": "2022-07-09T22:53:12.843317Z"
    },
    "papermill": {
     "duration": 0.024183,
     "end_time": "2022-07-09T22:53:12.846838",
     "exception": false,
     "start_time": "2022-07-09T22:53:12.822655",
     "status": "completed"
    },
    "tags": []
   },
   "outputs": [],
   "source": [
    "test = renamed_data.loc[renamed_data.index.isin([5,151])]"
   ]
  },
  {
   "cell_type": "code",
   "execution_count": 22,
   "id": "9f1bc03f",
   "metadata": {
    "execution": {
     "iopub.execute_input": "2022-07-09T22:53:12.871892Z",
     "iopub.status.busy": "2022-07-09T22:53:12.871114Z",
     "iopub.status.idle": "2022-07-09T22:53:12.904775Z",
     "shell.execute_reply": "2022-07-09T22:53:12.903848Z"
    },
    "papermill": {
     "duration": 0.049035,
     "end_time": "2022-07-09T22:53:12.907223",
     "exception": false,
     "start_time": "2022-07-09T22:53:12.858188",
     "status": "completed"
    },
    "tags": []
   },
   "outputs": [
    {
     "data": {
      "text/plain": [
       "['Q7_Part_1_What programming languages do you use on a regular basis? (Select all that apply) - Selected Choice - Python',\n",
       " 'Q8_What programming language would you recommend an aspiring data scientist to learn first? - Selected Choice',\n",
       " \"Q9_Part_11_Which of the following integrated development environments (IDE's) do you use on a regular basis?  (Select all that apply) - Selected Choice -  Jupyter Notebook\",\n",
       " 'Q12_Part_5_Which types of specialized hardware do you use on a regular basis?  (Select all that apply) - Selected Choice - None',\n",
       " 'Q13_Approximately how many times have you used a TPU (tensor processing unit)?',\n",
       " 'Q14_Part_1_What data visualization libraries or tools do you use on a regular basis?  (Select all that apply) - Selected Choice -  Matplotlib ',\n",
       " 'Q14_Part_2_What data visualization libraries or tools do you use on a regular basis?  (Select all that apply) - Selected Choice -  Seaborn ',\n",
       " 'Q16_Part_1_Which of the following machine learning frameworks do you use on a regular basis? (Select all that apply) - Selected Choice -   Scikit-learn ',\n",
       " 'Q17_Part_1_Which of the following ML algorithms do you use on a regular basis? (Select all that apply): - Selected Choice - Linear or Logistic Regression',\n",
       " 'Q24_Part_1_Select any activities that make up an important part of your role at work: (Select all that apply) - Selected Choice - Analyze and understand data to influence product or business decisions',\n",
       " 'Q27_A_Part_2_Which of the following cloud computing platforms do you use on a regular basis? (Select all that apply) - Selected Choice -  Microsoft Azure ',\n",
       " 'Q36_A_Part_7_Do you use any automated machine learning tools (or partial AutoML tools) on a regular basis?  (Select all that apply) - Selected Choice - No / None',\n",
       " 'Q40_Part_3_On which platforms have you begun or completed data science courses? (Select all that apply) - Selected Choice - Kaggle Learn Courses',\n",
       " 'Q40_Part_7_On which platforms have you begun or completed data science courses? (Select all that apply) - Selected Choice - Udemy',\n",
       " 'Q41_What is the primary tool that you use at work or school to analyze data? (Include text response) - Selected Choice']"
      ]
     },
     "execution_count": 22,
     "metadata": {},
     "output_type": "execute_result"
    }
   ],
   "source": [
    "def samle_answers(df, user_1, user_2):\n",
    "    \"\"\"\n",
    "    input\n",
    "    df - target dataset\n",
    "    user_1 - index number of user 1\n",
    "    user_2 - index number of user 2\n",
    "    \n",
    "    output\n",
    "    return the column names where answer are same between user 1 and 2\n",
    "    \"\"\"\n",
    "    same_cols = []\n",
    "    answers = df.loc[df.index.isin([user_1,user_2])]\n",
    "    for col in answers.columns:\n",
    "        if answers[col].iloc[0] == answers[col].iloc[1]:\n",
    "            same_cols.append(col)\n",
    "        else:\n",
    "            pass\n",
    "    return same_cols\n",
    "\n",
    "samle_answers(renamed_data, 5, 151)"
   ]
  },
  {
   "cell_type": "code",
   "execution_count": 23,
   "id": "a660a13c",
   "metadata": {
    "execution": {
     "iopub.execute_input": "2022-07-09T22:53:12.933409Z",
     "iopub.status.busy": "2022-07-09T22:53:12.932720Z",
     "iopub.status.idle": "2022-07-09T22:53:12.964563Z",
     "shell.execute_reply": "2022-07-09T22:53:12.963645Z"
    },
    "papermill": {
     "duration": 0.048188,
     "end_time": "2022-07-09T22:53:12.966816",
     "exception": false,
     "start_time": "2022-07-09T22:53:12.918628",
     "status": "completed"
    },
    "tags": []
   },
   "outputs": [
    {
     "data": {
      "text/plain": [
       "['Q2_What is your gender? - Selected Choice',\n",
       " 'Q4_What is the highest level of formal education that you have attained or plan to attain within the next 2 years?',\n",
       " 'Q7_Part_1_What programming languages do you use on a regular basis? (Select all that apply) - Selected Choice - Python',\n",
       " 'Q7_Part_11_What programming languages do you use on a regular basis? (Select all that apply) - Selected Choice - MATLAB',\n",
       " 'Q8_What programming language would you recommend an aspiring data scientist to learn first? - Selected Choice',\n",
       " \"Q9_Part_10_Which of the following integrated development environments (IDE's) do you use on a regular basis?  (Select all that apply) - Selected Choice -  MATLAB \",\n",
       " \"Q9_Part_11_Which of the following integrated development environments (IDE's) do you use on a regular basis?  (Select all that apply) - Selected Choice -  Jupyter Notebook\",\n",
       " 'Q14_Part_1_What data visualization libraries or tools do you use on a regular basis?  (Select all that apply) - Selected Choice -  Matplotlib ',\n",
       " 'Q14_Part_2_What data visualization libraries or tools do you use on a regular basis?  (Select all that apply) - Selected Choice -  Seaborn ',\n",
       " 'Q16_Part_1_Which of the following machine learning frameworks do you use on a regular basis? (Select all that apply) - Selected Choice -   Scikit-learn ',\n",
       " 'Q17_Part_1_Which of the following ML algorithms do you use on a regular basis? (Select all that apply): - Selected Choice - Linear or Logistic Regression',\n",
       " 'Q17_Part_2_Which of the following ML algorithms do you use on a regular basis? (Select all that apply): - Selected Choice - Decision Trees or Random Forests',\n",
       " 'Q17_Part_3_Which of the following ML algorithms do you use on a regular basis? (Select all that apply): - Selected Choice - Gradient Boosting Machines (xgboost, lightgbm, etc)',\n",
       " 'Q20_In what industry is your current employer/contract (or your most recent employer if retired)? - Selected Choice',\n",
       " 'Q21_What is the size of the company where you are employed?',\n",
       " 'Q24_Part_1_Select any activities that make up an important part of your role at work: (Select all that apply) - Selected Choice - Analyze and understand data to influence product or business decisions',\n",
       " 'Q24_Part_3_Select any activities that make up an important part of your role at work: (Select all that apply) - Selected Choice - Build prototypes to explore applying machine learning to new areas',\n",
       " 'Q26_Approximately how much money have you (or your team) spent on machine learning and/or cloud computing services at home (or at work) in the past 5 years (approximate $USD)?',\n",
       " 'Q27_A_Part_2_Which of the following cloud computing platforms do you use on a regular basis? (Select all that apply) - Selected Choice -  Microsoft Azure ',\n",
       " 'Q29_A_Part_2_Do you use any of the following cloud computing products on a regular basis? (Select all that apply) - Selected Choice -  Microsoft Azure Virtual Machines ',\n",
       " 'Q30_A_Part_1_Do you use any of the following data storage products on a regular basis? (Select all that apply) - Selected Choice - Microsoft Azure Data Lake Storage ',\n",
       " 'Q31_A_Part_2_Do you use any of the following managed machine learning products on a regular basis? (Select all that apply) - Selected Choice -  Azure Machine Learning Studio ',\n",
       " 'Q40_Part_3_On which platforms have you begun or completed data science courses? (Select all that apply) - Selected Choice - Kaggle Learn Courses',\n",
       " 'Q40_Part_7_On which platforms have you begun or completed data science courses? (Select all that apply) - Selected Choice - Udemy']"
      ]
     },
     "execution_count": 23,
     "metadata": {},
     "output_type": "execute_result"
    }
   ],
   "source": [
    "samle_answers(renamed_data, 5, 200)"
   ]
  },
  {
   "cell_type": "code",
   "execution_count": 24,
   "id": "ff46beeb",
   "metadata": {
    "execution": {
     "iopub.execute_input": "2022-07-09T22:53:12.992445Z",
     "iopub.status.busy": "2022-07-09T22:53:12.991767Z",
     "iopub.status.idle": "2022-07-09T22:53:13.001060Z",
     "shell.execute_reply": "2022-07-09T22:53:13.000129Z"
    },
    "papermill": {
     "duration": 0.024888,
     "end_time": "2022-07-09T22:53:13.003255",
     "exception": false,
     "start_time": "2022-07-09T22:53:12.978367",
     "status": "completed"
    },
    "tags": []
   },
   "outputs": [
    {
     "data": {
      "text/plain": [
       "'5,000-7,499'"
      ]
     },
     "execution_count": 24,
     "metadata": {},
     "output_type": "execute_result"
    }
   ],
   "source": [
    "compensation(renamed_data,20567)"
   ]
  },
  {
   "cell_type": "code",
   "execution_count": 25,
   "id": "677bc9c1",
   "metadata": {
    "execution": {
     "iopub.execute_input": "2022-07-09T22:53:13.029921Z",
     "iopub.status.busy": "2022-07-09T22:53:13.029196Z",
     "iopub.status.idle": "2022-07-09T22:53:13.047408Z",
     "shell.execute_reply": "2022-07-09T22:53:13.046320Z"
    },
    "papermill": {
     "duration": 0.034238,
     "end_time": "2022-07-09T22:53:13.049767",
     "exception": false,
     "start_time": "2022-07-09T22:53:13.015529",
     "status": "completed"
    },
    "tags": []
   },
   "outputs": [
    {
     "data": {
      "text/html": [
       "<div>\n",
       "<style scoped>\n",
       "    .dataframe tbody tr th:only-of-type {\n",
       "        vertical-align: middle;\n",
       "    }\n",
       "\n",
       "    .dataframe tbody tr th {\n",
       "        vertical-align: top;\n",
       "    }\n",
       "\n",
       "    .dataframe thead th {\n",
       "        text-align: right;\n",
       "    }\n",
       "</style>\n",
       "<table border=\"1\" class=\"dataframe\">\n",
       "  <thead>\n",
       "    <tr style=\"text-align: right;\">\n",
       "      <th></th>\n",
       "      <th>Q11_What type of computing platform do you use most often for your data science projects? - Selected Choice</th>\n",
       "      <th>Q12_Part_1_Which types of specialized hardware do you use on a regular basis?  (Select all that apply) - Selected Choice -  NVIDIA GPUs</th>\n",
       "      <th>Q12_Part_2_Which types of specialized hardware do you use on a regular basis?  (Select all that apply) - Selected Choice -  Google Cloud TPUs</th>\n",
       "      <th>Q12_Part_3_Which types of specialized hardware do you use on a regular basis?  (Select all that apply) - Selected Choice -  AWS Trainium Chips</th>\n",
       "      <th>Q12_Part_4_Which types of specialized hardware do you use on a regular basis?  (Select all that apply) - Selected Choice -  AWS Inferentia Chips</th>\n",
       "      <th>Q12_Part_5_Which types of specialized hardware do you use on a regular basis?  (Select all that apply) - Selected Choice - None</th>\n",
       "      <th>Q12_OTHER_Which types of specialized hardware do you use on a regular basis?  (Select all that apply) - Selected Choice - Other</th>\n",
       "      <th>Q13_Approximately how many times have you used a TPU (tensor processing unit)?</th>\n",
       "      <th>Q14_Part_1_What data visualization libraries or tools do you use on a regular basis?  (Select all that apply) - Selected Choice -  Matplotlib</th>\n",
       "      <th>Q14_Part_2_What data visualization libraries or tools do you use on a regular basis?  (Select all that apply) - Selected Choice -  Seaborn</th>\n",
       "    </tr>\n",
       "  </thead>\n",
       "  <tbody>\n",
       "    <tr>\n",
       "      <th>2000</th>\n",
       "      <td>A laptop</td>\n",
       "      <td>NaN</td>\n",
       "      <td>NaN</td>\n",
       "      <td>NaN</td>\n",
       "      <td>NaN</td>\n",
       "      <td>None</td>\n",
       "      <td>NaN</td>\n",
       "      <td>Never</td>\n",
       "      <td>Matplotlib</td>\n",
       "      <td>Seaborn</td>\n",
       "    </tr>\n",
       "  </tbody>\n",
       "</table>\n",
       "</div>"
      ],
      "text/plain": [
       "     Q11_What type of computing platform do you use most often for your data science projects? - Selected Choice  \\\n",
       "2000                                           A laptop                                                            \n",
       "\n",
       "     Q12_Part_1_Which types of specialized hardware do you use on a regular basis?  (Select all that apply) - Selected Choice -  NVIDIA GPUs   \\\n",
       "2000                                                NaN                                                                                         \n",
       "\n",
       "     Q12_Part_2_Which types of specialized hardware do you use on a regular basis?  (Select all that apply) - Selected Choice -  Google Cloud TPUs   \\\n",
       "2000                                                NaN                                                                                               \n",
       "\n",
       "     Q12_Part_3_Which types of specialized hardware do you use on a regular basis?  (Select all that apply) - Selected Choice -  AWS Trainium Chips   \\\n",
       "2000                                                NaN                                                                                                \n",
       "\n",
       "     Q12_Part_4_Which types of specialized hardware do you use on a regular basis?  (Select all that apply) - Selected Choice -  AWS Inferentia Chips   \\\n",
       "2000                                                NaN                                                                                                  \n",
       "\n",
       "     Q12_Part_5_Which types of specialized hardware do you use on a regular basis?  (Select all that apply) - Selected Choice - None  \\\n",
       "2000                                               None                                                                                \n",
       "\n",
       "     Q12_OTHER_Which types of specialized hardware do you use on a regular basis?  (Select all that apply) - Selected Choice - Other  \\\n",
       "2000                                                NaN                                                                                \n",
       "\n",
       "     Q13_Approximately how many times have you used a TPU (tensor processing unit)?  \\\n",
       "2000                                              Never                               \n",
       "\n",
       "     Q14_Part_1_What data visualization libraries or tools do you use on a regular basis?  (Select all that apply) - Selected Choice -  Matplotlib   \\\n",
       "2000                                        Matplotlib                                                                                                \n",
       "\n",
       "     Q14_Part_2_What data visualization libraries or tools do you use on a regular basis?  (Select all that apply) - Selected Choice -  Seaborn   \n",
       "2000                                           Seaborn                                                                                            "
      ]
     },
     "execution_count": 25,
     "metadata": {},
     "output_type": "execute_result"
    }
   ],
   "source": [
    "renamed_data.loc[renamed_data.index == 2000].iloc[:,50:60]"
   ]
  },
  {
   "cell_type": "code",
   "execution_count": 26,
   "id": "5c56ff4c",
   "metadata": {
    "execution": {
     "iopub.execute_input": "2022-07-09T22:53:13.077195Z",
     "iopub.status.busy": "2022-07-09T22:53:13.076500Z",
     "iopub.status.idle": "2022-07-09T22:53:13.092111Z",
     "shell.execute_reply": "2022-07-09T22:53:13.091092Z"
    },
    "papermill": {
     "duration": 0.032569,
     "end_time": "2022-07-09T22:53:13.094401",
     "exception": false,
     "start_time": "2022-07-09T22:53:13.061832",
     "status": "completed"
    },
    "tags": []
   },
   "outputs": [
    {
     "data": {
      "text/html": [
       "<div>\n",
       "<style scoped>\n",
       "    .dataframe tbody tr th:only-of-type {\n",
       "        vertical-align: middle;\n",
       "    }\n",
       "\n",
       "    .dataframe tbody tr th {\n",
       "        vertical-align: top;\n",
       "    }\n",
       "\n",
       "    .dataframe thead th {\n",
       "        text-align: right;\n",
       "    }\n",
       "</style>\n",
       "<table border=\"1\" class=\"dataframe\">\n",
       "  <thead>\n",
       "    <tr style=\"text-align: right;\">\n",
       "      <th></th>\n",
       "      <th>Q11_What type of computing platform do you use most often for your data science projects? - Selected Choice</th>\n",
       "      <th>Q12_Part_1_Which types of specialized hardware do you use on a regular basis?  (Select all that apply) - Selected Choice -  NVIDIA GPUs</th>\n",
       "      <th>Q12_Part_2_Which types of specialized hardware do you use on a regular basis?  (Select all that apply) - Selected Choice -  Google Cloud TPUs</th>\n",
       "      <th>Q12_Part_3_Which types of specialized hardware do you use on a regular basis?  (Select all that apply) - Selected Choice -  AWS Trainium Chips</th>\n",
       "      <th>Q12_Part_4_Which types of specialized hardware do you use on a regular basis?  (Select all that apply) - Selected Choice -  AWS Inferentia Chips</th>\n",
       "      <th>Q12_Part_5_Which types of specialized hardware do you use on a regular basis?  (Select all that apply) - Selected Choice - None</th>\n",
       "      <th>Q12_OTHER_Which types of specialized hardware do you use on a regular basis?  (Select all that apply) - Selected Choice - Other</th>\n",
       "      <th>Q13_Approximately how many times have you used a TPU (tensor processing unit)?</th>\n",
       "      <th>Q14_Part_1_What data visualization libraries or tools do you use on a regular basis?  (Select all that apply) - Selected Choice -  Matplotlib</th>\n",
       "      <th>Q14_Part_2_What data visualization libraries or tools do you use on a regular basis?  (Select all that apply) - Selected Choice -  Seaborn</th>\n",
       "    </tr>\n",
       "  </thead>\n",
       "  <tbody>\n",
       "    <tr>\n",
       "      <th>20567</th>\n",
       "      <td>A laptop</td>\n",
       "      <td>NaN</td>\n",
       "      <td>NaN</td>\n",
       "      <td>NaN</td>\n",
       "      <td>NaN</td>\n",
       "      <td>None</td>\n",
       "      <td>NaN</td>\n",
       "      <td>Never</td>\n",
       "      <td>Matplotlib</td>\n",
       "      <td>Seaborn</td>\n",
       "    </tr>\n",
       "  </tbody>\n",
       "</table>\n",
       "</div>"
      ],
      "text/plain": [
       "      Q11_What type of computing platform do you use most often for your data science projects? - Selected Choice  \\\n",
       "20567                                           A laptop                                                            \n",
       "\n",
       "      Q12_Part_1_Which types of specialized hardware do you use on a regular basis?  (Select all that apply) - Selected Choice -  NVIDIA GPUs   \\\n",
       "20567                                                NaN                                                                                         \n",
       "\n",
       "      Q12_Part_2_Which types of specialized hardware do you use on a regular basis?  (Select all that apply) - Selected Choice -  Google Cloud TPUs   \\\n",
       "20567                                                NaN                                                                                               \n",
       "\n",
       "      Q12_Part_3_Which types of specialized hardware do you use on a regular basis?  (Select all that apply) - Selected Choice -  AWS Trainium Chips   \\\n",
       "20567                                                NaN                                                                                                \n",
       "\n",
       "      Q12_Part_4_Which types of specialized hardware do you use on a regular basis?  (Select all that apply) - Selected Choice -  AWS Inferentia Chips   \\\n",
       "20567                                                NaN                                                                                                  \n",
       "\n",
       "      Q12_Part_5_Which types of specialized hardware do you use on a regular basis?  (Select all that apply) - Selected Choice - None  \\\n",
       "20567                                               None                                                                                \n",
       "\n",
       "      Q12_OTHER_Which types of specialized hardware do you use on a regular basis?  (Select all that apply) - Selected Choice - Other  \\\n",
       "20567                                                NaN                                                                                \n",
       "\n",
       "      Q13_Approximately how many times have you used a TPU (tensor processing unit)?  \\\n",
       "20567                                              Never                               \n",
       "\n",
       "      Q14_Part_1_What data visualization libraries or tools do you use on a regular basis?  (Select all that apply) - Selected Choice -  Matplotlib   \\\n",
       "20567                                        Matplotlib                                                                                                \n",
       "\n",
       "      Q14_Part_2_What data visualization libraries or tools do you use on a regular basis?  (Select all that apply) - Selected Choice -  Seaborn   \n",
       "20567                                           Seaborn                                                                                            "
      ]
     },
     "execution_count": 26,
     "metadata": {},
     "output_type": "execute_result"
    }
   ],
   "source": [
    "renamed_data.loc[renamed_data.index == 20567].iloc[:,50:60]"
   ]
  },
  {
   "cell_type": "code",
   "execution_count": 27,
   "id": "be23f6b3",
   "metadata": {
    "execution": {
     "iopub.execute_input": "2022-07-09T22:53:13.121677Z",
     "iopub.status.busy": "2022-07-09T22:53:13.120978Z",
     "iopub.status.idle": "2022-07-09T22:53:13.127264Z",
     "shell.execute_reply": "2022-07-09T22:53:13.126397Z"
    },
    "papermill": {
     "duration": 0.022526,
     "end_time": "2022-07-09T22:53:13.129408",
     "exception": false,
     "start_time": "2022-07-09T22:53:13.106882",
     "status": "completed"
    },
    "tags": []
   },
   "outputs": [
    {
     "data": {
      "text/plain": [
       "\"\\ndef compute_correlation(df, user1, user2):\\n    '''\\n    INPUT\\n    user1 - int user_id\\n    user2 - int user_id\\n    df - dataset where is a matrix of user and their pivoted answer columns\\n    OUTPUT\\n    the correlation between the matching ratings between the two users\\n    '''\\n    answer_1 = list(df.loc[df.index == user1].iloc[0])\\n    answer_2 = list(df.loc[df.index == user2].iloc[0])\\n    \\n    dot_product = np.vdot(answer_1, answer_2)\\n    \\n    return dot_product #return the correlation\\n\""
      ]
     },
     "execution_count": 27,
     "metadata": {},
     "output_type": "execute_result"
    }
   ],
   "source": [
    "\"\"\"\n",
    "def compute_correlation(df, user1, user2):\n",
    "    '''\n",
    "    INPUT\n",
    "    user1 - int user_id\n",
    "    user2 - int user_id\n",
    "    df - dataset where is a matrix of user and their pivoted answer columns\n",
    "    OUTPUT\n",
    "    the correlation between the matching ratings between the two users\n",
    "    '''\n",
    "    answer_1 = list(df.loc[df.index == user1].iloc[0])\n",
    "    answer_2 = list(df.loc[df.index == user2].iloc[0])\n",
    "    \n",
    "    dot_product = np.vdot(answer_1, answer_2)\n",
    "    \n",
    "    return dot_product #return the correlation\n",
    "\"\"\""
   ]
  },
  {
   "cell_type": "code",
   "execution_count": 28,
   "id": "dc0a6dde",
   "metadata": {
    "execution": {
     "iopub.execute_input": "2022-07-09T22:53:13.157125Z",
     "iopub.status.busy": "2022-07-09T22:53:13.156356Z",
     "iopub.status.idle": "2022-07-09T22:53:13.164728Z",
     "shell.execute_reply": "2022-07-09T22:53:13.163811Z"
    },
    "papermill": {
     "duration": 0.025045,
     "end_time": "2022-07-09T22:53:13.167066",
     "exception": false,
     "start_time": "2022-07-09T22:53:13.142021",
     "status": "completed"
    },
    "tags": []
   },
   "outputs": [
    {
     "data": {
      "text/plain": [
       "\"\\nds_data = subset_data(renamed_data, \\n           'Q5_Select the title most similar to your current role (or most recent title if retired): - Selected Choice',\\n           'Data Scientist')\\n\""
      ]
     },
     "execution_count": 28,
     "metadata": {},
     "output_type": "execute_result"
    }
   ],
   "source": [
    "def subset_data(df, col, criteria):\n",
    "    \"\"\"\n",
    "    input:\n",
    "    df: the dataset we want to subset from\n",
    "    col: target columns as the filter\n",
    "    criteria: value to feed the filter\n",
    "    \n",
    "    output:\n",
    "    a new dataset which is a subset of the original one\n",
    "    \"\"\"\n",
    "    \n",
    "    new_df = df.loc[df[col] == criteria]\n",
    "    \n",
    "    return new_df\n",
    "\"\"\"\n",
    "ds_data = subset_data(renamed_data, \n",
    "           'Q5_Select the title most similar to your current role (or most recent title if retired): - Selected Choice',\n",
    "           'Data Scientist')\n",
    "\"\"\""
   ]
  },
  {
   "cell_type": "code",
   "execution_count": 29,
   "id": "e240d1f5",
   "metadata": {
    "execution": {
     "iopub.execute_input": "2022-07-09T22:53:13.195870Z",
     "iopub.status.busy": "2022-07-09T22:53:13.195103Z",
     "iopub.status.idle": "2022-07-09T22:53:13.203033Z",
     "shell.execute_reply": "2022-07-09T22:53:13.202131Z"
    },
    "papermill": {
     "duration": 0.02545,
     "end_time": "2022-07-09T22:53:13.205690",
     "exception": false,
     "start_time": "2022-07-09T22:53:13.180240",
     "status": "completed"
    },
    "tags": []
   },
   "outputs": [],
   "source": [
    "def question_columns(df, query, method = 'strict'):\n",
    "    \"\"\"\n",
    "    input: \n",
    "    df - target dataset\n",
    "    query - str, query we want to find relevant infomation in the dataset. e.g. 'Q7', or 'machine learning' \n",
    "    \n",
    "    output:\n",
    "    a subset of data which include the columns of the query in interest\n",
    "    \n",
    "    method:\n",
    "    if it == strict, which means we will look for the question exactly EQUALS to the query. e.g. if we search 'age', then 'language' won't\n",
    "    be taken into account in this case;\n",
    "    \n",
    "    if it == loose, which means we will look for the question exactly CONTAINS the query. e.g. if we search 'age', then 'language' will\n",
    "    be taken into account in this case.\n",
    "    \"\"\"\n",
    "    columns = df.columns\n",
    "    question_col = []\n",
    "    for col in columns:\n",
    "        if method == 'strict':\n",
    "            col_parts = col.lower().split() # each column name will be separated into single word tokens at first\n",
    "            if query.lower() in col_parts:\n",
    "                question_col.append(col)\n",
    "        elif method == 'loose':\n",
    "            if query.lower() in col.lower():\n",
    "                question_col.append(col)\n",
    "    return df[question_col]"
   ]
  },
  {
   "cell_type": "code",
   "execution_count": 30,
   "id": "ff625425",
   "metadata": {
    "execution": {
     "iopub.execute_input": "2022-07-09T22:53:13.235091Z",
     "iopub.status.busy": "2022-07-09T22:53:13.234436Z",
     "iopub.status.idle": "2022-07-09T22:53:13.248051Z",
     "shell.execute_reply": "2022-07-09T22:53:13.247009Z"
    },
    "papermill": {
     "duration": 0.03175,
     "end_time": "2022-07-09T22:53:13.250585",
     "exception": false,
     "start_time": "2022-07-09T22:53:13.218835",
     "status": "completed"
    },
    "tags": []
   },
   "outputs": [
    {
     "data": {
      "text/html": [
       "<div>\n",
       "<style scoped>\n",
       "    .dataframe tbody tr th:only-of-type {\n",
       "        vertical-align: middle;\n",
       "    }\n",
       "\n",
       "    .dataframe tbody tr th {\n",
       "        vertical-align: top;\n",
       "    }\n",
       "\n",
       "    .dataframe thead th {\n",
       "        text-align: right;\n",
       "    }\n",
       "</style>\n",
       "<table border=\"1\" class=\"dataframe\">\n",
       "  <thead>\n",
       "    <tr style=\"text-align: right;\">\n",
       "      <th></th>\n",
       "      <th>Q25_What is your current yearly compensation (approximate $USD)?</th>\n",
       "    </tr>\n",
       "  </thead>\n",
       "  <tbody>\n",
       "    <tr>\n",
       "      <th>1</th>\n",
       "      <td>25,000-29,999</td>\n",
       "    </tr>\n",
       "    <tr>\n",
       "      <th>2</th>\n",
       "      <td>60,000-69,999</td>\n",
       "    </tr>\n",
       "    <tr>\n",
       "      <th>3</th>\n",
       "      <td>$0-999</td>\n",
       "    </tr>\n",
       "    <tr>\n",
       "      <th>4</th>\n",
       "      <td>30,000-39,999</td>\n",
       "    </tr>\n",
       "    <tr>\n",
       "      <th>5</th>\n",
       "      <td>30,000-39,999</td>\n",
       "    </tr>\n",
       "    <tr>\n",
       "      <th>...</th>\n",
       "      <td>...</td>\n",
       "    </tr>\n",
       "    <tr>\n",
       "      <th>25969</th>\n",
       "      <td>15,000-19,999</td>\n",
       "    </tr>\n",
       "    <tr>\n",
       "      <th>25970</th>\n",
       "      <td>NaN</td>\n",
       "    </tr>\n",
       "    <tr>\n",
       "      <th>25971</th>\n",
       "      <td>$0-999</td>\n",
       "    </tr>\n",
       "    <tr>\n",
       "      <th>25972</th>\n",
       "      <td>NaN</td>\n",
       "    </tr>\n",
       "    <tr>\n",
       "      <th>25973</th>\n",
       "      <td>$0-999</td>\n",
       "    </tr>\n",
       "  </tbody>\n",
       "</table>\n",
       "<p>25973 rows × 1 columns</p>\n",
       "</div>"
      ],
      "text/plain": [
       "      Q25_What is your current yearly compensation (approximate $USD)?\n",
       "1                                          25,000-29,999              \n",
       "2                                          60,000-69,999              \n",
       "3                                                 $0-999              \n",
       "4                                          30,000-39,999              \n",
       "5                                          30,000-39,999              \n",
       "...                                                  ...              \n",
       "25969                                      15,000-19,999              \n",
       "25970                                                NaN              \n",
       "25971                                             $0-999              \n",
       "25972                                                NaN              \n",
       "25973                                             $0-999              \n",
       "\n",
       "[25973 rows x 1 columns]"
      ]
     },
     "execution_count": 30,
     "metadata": {},
     "output_type": "execute_result"
    }
   ],
   "source": [
    "question_columns(renamed_data, query = 'compensation', method = 'strict')"
   ]
  },
  {
   "cell_type": "markdown",
   "id": "94d9d110",
   "metadata": {
    "papermill": {
     "duration": 0.012767,
     "end_time": "2022-07-09T22:53:13.277048",
     "exception": false,
     "start_time": "2022-07-09T22:53:13.264281",
     "status": "completed"
    },
    "tags": []
   },
   "source": [
    "## What questions we want to ask here?\n",
    "1. How many types of data scientists based on activity they usually do?\n",
    "2. Which skill each type emphasizes at?\n",
    "3. Which platform/tools each type emphazies at?\n",
    "4. Demographic segmentation of each type?\n",
    "5. Profession segmentation of each type?"
   ]
  },
  {
   "cell_type": "code",
   "execution_count": 31,
   "id": "f19a8125",
   "metadata": {
    "execution": {
     "iopub.execute_input": "2022-07-09T22:53:13.305909Z",
     "iopub.status.busy": "2022-07-09T22:53:13.305068Z",
     "iopub.status.idle": "2022-07-09T22:53:13.309818Z",
     "shell.execute_reply": "2022-07-09T22:53:13.308838Z"
    },
    "papermill": {
     "duration": 0.0221,
     "end_time": "2022-07-09T22:53:13.312250",
     "exception": false,
     "start_time": "2022-07-09T22:53:13.290150",
     "status": "completed"
    },
    "tags": []
   },
   "outputs": [],
   "source": [
    "#feature_data = role_data.iloc[: , 1:]"
   ]
  },
  {
   "cell_type": "code",
   "execution_count": 32,
   "id": "5b506ba0",
   "metadata": {
    "execution": {
     "iopub.execute_input": "2022-07-09T22:53:13.340858Z",
     "iopub.status.busy": "2022-07-09T22:53:13.340365Z",
     "iopub.status.idle": "2022-07-09T22:53:13.348972Z",
     "shell.execute_reply": "2022-07-09T22:53:13.347649Z"
    },
    "papermill": {
     "duration": 0.025988,
     "end_time": "2022-07-09T22:53:13.351568",
     "exception": false,
     "start_time": "2022-07-09T22:53:13.325580",
     "status": "completed"
    },
    "tags": []
   },
   "outputs": [
    {
     "data": {
      "text/plain": [
       "\"\\ndef kmeans_cluster_opt(df, init = 'k-means++', max_num_cluster = 9):\\n    \\n    input: \\n    df - the dataset we want to segments into cluster\\n    init - the way we want to initialize the starting centroid\\n    max_num_cluster - the max number of cluster\\n    \\n    output:\\n    a visualization showing the line graph indicating the optimal number of klusters, based on inertias value\\n    \\n    num_clusters = list(range(1, max_num_cluster))\\n    inertias = []\\n\\n    for k in num_clusters:\\n        model = KMeans(init=init, n_clusters=k, random_state = 42)\\n        model.fit(df)\\n        inertias.append(model.inertia_)\\n\\n    \\n    plt.plot(num_clusters, inertias, '-o')\\n\\n    plt.xlabel('number of clusters (k)')\\n    plt.ylabel('inertia')\\n\\n    plt.show()\\n\""
      ]
     },
     "execution_count": 32,
     "metadata": {},
     "output_type": "execute_result"
    }
   ],
   "source": [
    "\"\"\"\n",
    "def kmeans_cluster_opt(df, init = 'k-means++', max_num_cluster = 9):\n",
    "    \n",
    "    input: \n",
    "    df - the dataset we want to segments into cluster\n",
    "    init - the way we want to initialize the starting centroid\n",
    "    max_num_cluster - the max number of cluster\n",
    "    \n",
    "    output:\n",
    "    a visualization showing the line graph indicating the optimal number of klusters, based on inertias value\n",
    "    \n",
    "    num_clusters = list(range(1, max_num_cluster))\n",
    "    inertias = []\n",
    "\n",
    "    for k in num_clusters:\n",
    "        model = KMeans(init=init, n_clusters=k, random_state = 42)\n",
    "        model.fit(df)\n",
    "        inertias.append(model.inertia_)\n",
    "\n",
    "    \n",
    "    plt.plot(num_clusters, inertias, '-o')\n",
    "\n",
    "    plt.xlabel('number of clusters (k)')\n",
    "    plt.ylabel('inertia')\n",
    "\n",
    "    plt.show()\n",
    "\"\"\""
   ]
  },
  {
   "cell_type": "code",
   "execution_count": 33,
   "id": "12d4922a",
   "metadata": {
    "execution": {
     "iopub.execute_input": "2022-07-09T22:53:13.381964Z",
     "iopub.status.busy": "2022-07-09T22:53:13.381474Z",
     "iopub.status.idle": "2022-07-09T22:53:13.386402Z",
     "shell.execute_reply": "2022-07-09T22:53:13.385168Z"
    },
    "papermill": {
     "duration": 0.024203,
     "end_time": "2022-07-09T22:53:13.389179",
     "exception": false,
     "start_time": "2022-07-09T22:53:13.364976",
     "status": "completed"
    },
    "tags": []
   },
   "outputs": [],
   "source": [
    "#kmeans_cluster_opt(feature_data)"
   ]
  },
  {
   "cell_type": "code",
   "execution_count": 34,
   "id": "c80c5683",
   "metadata": {
    "execution": {
     "iopub.execute_input": "2022-07-09T22:53:13.419430Z",
     "iopub.status.busy": "2022-07-09T22:53:13.418676Z",
     "iopub.status.idle": "2022-07-09T22:53:13.426013Z",
     "shell.execute_reply": "2022-07-09T22:53:13.424676Z"
    },
    "papermill": {
     "duration": 0.025767,
     "end_time": "2022-07-09T22:53:13.428830",
     "exception": false,
     "start_time": "2022-07-09T22:53:13.403063",
     "status": "completed"
    },
    "tags": []
   },
   "outputs": [
    {
     "data": {
      "text/plain": [
       "\"\\ndef kmeans_predict(df, init = 'k-means++', n_clusters = 4):\\n    \\n    input:\\n    df - dataset we want to segment into clusters\\n    init - the way we want to initialize the starting centroid\\n    n_clusters - the number of cluster\\n    \\n    output:\\n    labels - return an array of predictions on the cluster label of given features\\n    centers - centroid values of each cluster\\n    model = KMeans(init=init, n_clusters = n_clusters, random_state = 42)\\n\\n    model.fit(df)\\n\\n    labels = model.predict(df)\\n    \\n    centers = np.array(model.cluster_centers_)\\n    \\n    return labels, centers\\n\""
      ]
     },
     "execution_count": 34,
     "metadata": {},
     "output_type": "execute_result"
    }
   ],
   "source": [
    "\"\"\"\n",
    "def kmeans_predict(df, init = 'k-means++', n_clusters = 4):\n",
    "    \n",
    "    input:\n",
    "    df - dataset we want to segment into clusters\n",
    "    init - the way we want to initialize the starting centroid\n",
    "    n_clusters - the number of cluster\n",
    "    \n",
    "    output:\n",
    "    labels - return an array of predictions on the cluster label of given features\n",
    "    centers - centroid values of each cluster\n",
    "    model = KMeans(init=init, n_clusters = n_clusters, random_state = 42)\n",
    "\n",
    "    model.fit(df)\n",
    "\n",
    "    labels = model.predict(df)\n",
    "    \n",
    "    centers = np.array(model.cluster_centers_)\n",
    "    \n",
    "    return labels, centers\n",
    "\"\"\""
   ]
  }
 ],
 "metadata": {
  "kernelspec": {
   "display_name": "Python 3",
   "language": "python",
   "name": "python3"
  },
  "language_info": {
   "codemirror_mode": {
    "name": "ipython",
    "version": 3
   },
   "file_extension": ".py",
   "mimetype": "text/x-python",
   "name": "python",
   "nbconvert_exporter": "python",
   "pygments_lexer": "ipython3",
   "version": "3.7.12"
  },
  "papermill": {
   "default_parameters": {},
   "duration": 3477.595064,
   "end_time": "2022-07-09T22:53:14.978487",
   "environment_variables": {},
   "exception": null,
   "input_path": "__notebook__.ipynb",
   "output_path": "__notebook__.ipynb",
   "parameters": {},
   "start_time": "2022-07-09T21:55:17.383423",
   "version": "2.3.4"
  }
 },
 "nbformat": 4,
 "nbformat_minor": 5
}
