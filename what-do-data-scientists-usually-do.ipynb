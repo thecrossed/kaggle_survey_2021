{
 "cells": [
  {
   "cell_type": "code",
   "execution_count": 1,
   "id": "09622342",
   "metadata": {
    "_cell_guid": "b1076dfc-b9ad-4769-8c92-a6c4dae69d19",
    "_uuid": "8f2839f25d086af736a60e9eeb907d3b93b6e0e5",
    "execution": {
     "iopub.execute_input": "2022-06-28T19:12:29.616453Z",
     "iopub.status.busy": "2022-06-28T19:12:29.615747Z",
     "iopub.status.idle": "2022-06-28T19:12:30.872453Z",
     "shell.execute_reply": "2022-06-28T19:12:30.871280Z"
    },
    "papermill": {
     "duration": 1.268542,
     "end_time": "2022-06-28T19:12:30.875554",
     "exception": false,
     "start_time": "2022-06-28T19:12:29.607012",
     "status": "completed"
    },
    "tags": []
   },
   "outputs": [
    {
     "name": "stdout",
     "output_type": "stream",
     "text": [
      "/kaggle/input/kaggle-survey-2021/kaggle_survey_2021_responses.csv\n",
      "/kaggle/input/kaggle-survey-2021/supplementary_data/kaggle_survey_2021_methodology.pdf\n",
      "/kaggle/input/kaggle-survey-2021/supplementary_data/kaggle_survey_2021_answer_choices.pdf\n"
     ]
    }
   ],
   "source": [
    "# This Python 3 environment comes with many helpful analytics libraries installed\n",
    "# It is defined by the kaggle/python Docker image: https://github.com/kaggle/docker-python\n",
    "# For example, here's several helpful packages to load\n",
    "\n",
    "import numpy as np # linear algebra\n",
    "import pandas as pd # data processing, CSV file I/O (e.g. pd.read_csv)\n",
    "import matplotlib.pyplot as plt\n",
    "from sklearn.cluster import KMeans\n",
    "\n",
    "# Input data files are available in the read-only \"../input/\" directory\n",
    "# For example, running this (by clicking run or pressing Shift+Enter) will list all files under the input directory\n",
    "\n",
    "import os\n",
    "for dirname, _, filenames in os.walk('/kaggle/input'):\n",
    "    for filename in filenames:\n",
    "        print(os.path.join(dirname, filename))\n",
    "\n",
    "# You can write up to 20GB to the current directory (/kaggle/working/) that gets preserved as output when you create a version using \"Save & Run All\" \n",
    "# You can also write temporary files to /kaggle/temp/, but they won't be saved outside of the current session"
   ]
  },
  {
   "cell_type": "code",
   "execution_count": 2,
   "id": "47b18567",
   "metadata": {
    "execution": {
     "iopub.execute_input": "2022-06-28T19:12:30.889874Z",
     "iopub.status.busy": "2022-06-28T19:12:30.889479Z",
     "iopub.status.idle": "2022-06-28T19:12:32.530402Z",
     "shell.execute_reply": "2022-06-28T19:12:32.529192Z"
    },
    "papermill": {
     "duration": 1.651254,
     "end_time": "2022-06-28T19:12:32.533165",
     "exception": false,
     "start_time": "2022-06-28T19:12:30.881911",
     "status": "completed"
    },
    "tags": []
   },
   "outputs": [],
   "source": [
    "# load dataset\n",
    "data = pd.read_csv(\"../input/kaggle-survey-2021/kaggle_survey_2021_responses.csv\", low_memory = False)"
   ]
  },
  {
   "cell_type": "code",
   "execution_count": 3,
   "id": "e4b1e2a0",
   "metadata": {
    "execution": {
     "iopub.execute_input": "2022-06-28T19:12:32.547722Z",
     "iopub.status.busy": "2022-06-28T19:12:32.547327Z",
     "iopub.status.idle": "2022-06-28T19:12:32.580054Z",
     "shell.execute_reply": "2022-06-28T19:12:32.578928Z"
    },
    "papermill": {
     "duration": 0.042813,
     "end_time": "2022-06-28T19:12:32.582526",
     "exception": false,
     "start_time": "2022-06-28T19:12:32.539713",
     "status": "completed"
    },
    "tags": []
   },
   "outputs": [
    {
     "data": {
      "text/html": [
       "<div>\n",
       "<style scoped>\n",
       "    .dataframe tbody tr th:only-of-type {\n",
       "        vertical-align: middle;\n",
       "    }\n",
       "\n",
       "    .dataframe tbody tr th {\n",
       "        vertical-align: top;\n",
       "    }\n",
       "\n",
       "    .dataframe thead th {\n",
       "        text-align: right;\n",
       "    }\n",
       "</style>\n",
       "<table border=\"1\" class=\"dataframe\">\n",
       "  <thead>\n",
       "    <tr style=\"text-align: right;\">\n",
       "      <th></th>\n",
       "      <th>Time from Start to Finish (seconds)</th>\n",
       "      <th>Q1</th>\n",
       "      <th>Q2</th>\n",
       "      <th>Q3</th>\n",
       "      <th>Q4</th>\n",
       "      <th>Q5</th>\n",
       "      <th>Q6</th>\n",
       "      <th>Q7_Part_1</th>\n",
       "      <th>Q7_Part_2</th>\n",
       "      <th>Q7_Part_3</th>\n",
       "      <th>...</th>\n",
       "      <th>Q38_B_Part_3</th>\n",
       "      <th>Q38_B_Part_4</th>\n",
       "      <th>Q38_B_Part_5</th>\n",
       "      <th>Q38_B_Part_6</th>\n",
       "      <th>Q38_B_Part_7</th>\n",
       "      <th>Q38_B_Part_8</th>\n",
       "      <th>Q38_B_Part_9</th>\n",
       "      <th>Q38_B_Part_10</th>\n",
       "      <th>Q38_B_Part_11</th>\n",
       "      <th>Q38_B_OTHER</th>\n",
       "    </tr>\n",
       "  </thead>\n",
       "  <tbody>\n",
       "    <tr>\n",
       "      <th>0</th>\n",
       "      <td>Duration (in seconds)</td>\n",
       "      <td>What is your age (# years)?</td>\n",
       "      <td>What is your gender? - Selected Choice</td>\n",
       "      <td>In which country do you currently reside?</td>\n",
       "      <td>What is the highest level of formal education ...</td>\n",
       "      <td>Select the title most similar to your current ...</td>\n",
       "      <td>For how many years have you been writing code ...</td>\n",
       "      <td>What programming languages do you use on a reg...</td>\n",
       "      <td>What programming languages do you use on a reg...</td>\n",
       "      <td>What programming languages do you use on a reg...</td>\n",
       "      <td>...</td>\n",
       "      <td>In the next 2 years, do you hope to become mor...</td>\n",
       "      <td>In the next 2 years, do you hope to become mor...</td>\n",
       "      <td>In the next 2 years, do you hope to become mor...</td>\n",
       "      <td>In the next 2 years, do you hope to become mor...</td>\n",
       "      <td>In the next 2 years, do you hope to become mor...</td>\n",
       "      <td>In the next 2 years, do you hope to become mor...</td>\n",
       "      <td>In the next 2 years, do you hope to become mor...</td>\n",
       "      <td>In the next 2 years, do you hope to become mor...</td>\n",
       "      <td>In the next 2 years, do you hope to become mor...</td>\n",
       "      <td>In the next 2 years, do you hope to become mor...</td>\n",
       "    </tr>\n",
       "    <tr>\n",
       "      <th>1</th>\n",
       "      <td>910</td>\n",
       "      <td>50-54</td>\n",
       "      <td>Man</td>\n",
       "      <td>India</td>\n",
       "      <td>Bachelor’s degree</td>\n",
       "      <td>Other</td>\n",
       "      <td>5-10 years</td>\n",
       "      <td>Python</td>\n",
       "      <td>R</td>\n",
       "      <td>NaN</td>\n",
       "      <td>...</td>\n",
       "      <td>NaN</td>\n",
       "      <td>NaN</td>\n",
       "      <td>NaN</td>\n",
       "      <td>NaN</td>\n",
       "      <td>NaN</td>\n",
       "      <td>NaN</td>\n",
       "      <td>NaN</td>\n",
       "      <td>NaN</td>\n",
       "      <td>NaN</td>\n",
       "      <td>NaN</td>\n",
       "    </tr>\n",
       "    <tr>\n",
       "      <th>2</th>\n",
       "      <td>784</td>\n",
       "      <td>50-54</td>\n",
       "      <td>Man</td>\n",
       "      <td>Indonesia</td>\n",
       "      <td>Master’s degree</td>\n",
       "      <td>Program/Project Manager</td>\n",
       "      <td>20+ years</td>\n",
       "      <td>NaN</td>\n",
       "      <td>NaN</td>\n",
       "      <td>SQL</td>\n",
       "      <td>...</td>\n",
       "      <td>NaN</td>\n",
       "      <td>NaN</td>\n",
       "      <td>NaN</td>\n",
       "      <td>NaN</td>\n",
       "      <td>NaN</td>\n",
       "      <td>NaN</td>\n",
       "      <td>NaN</td>\n",
       "      <td>NaN</td>\n",
       "      <td>None</td>\n",
       "      <td>NaN</td>\n",
       "    </tr>\n",
       "    <tr>\n",
       "      <th>3</th>\n",
       "      <td>924</td>\n",
       "      <td>22-24</td>\n",
       "      <td>Man</td>\n",
       "      <td>Pakistan</td>\n",
       "      <td>Master’s degree</td>\n",
       "      <td>Software Engineer</td>\n",
       "      <td>1-3 years</td>\n",
       "      <td>Python</td>\n",
       "      <td>NaN</td>\n",
       "      <td>NaN</td>\n",
       "      <td>...</td>\n",
       "      <td>NaN</td>\n",
       "      <td>NaN</td>\n",
       "      <td>TensorBoard</td>\n",
       "      <td>NaN</td>\n",
       "      <td>NaN</td>\n",
       "      <td>NaN</td>\n",
       "      <td>NaN</td>\n",
       "      <td>NaN</td>\n",
       "      <td>NaN</td>\n",
       "      <td>NaN</td>\n",
       "    </tr>\n",
       "    <tr>\n",
       "      <th>4</th>\n",
       "      <td>575</td>\n",
       "      <td>45-49</td>\n",
       "      <td>Man</td>\n",
       "      <td>Mexico</td>\n",
       "      <td>Doctoral degree</td>\n",
       "      <td>Research Scientist</td>\n",
       "      <td>20+ years</td>\n",
       "      <td>Python</td>\n",
       "      <td>NaN</td>\n",
       "      <td>NaN</td>\n",
       "      <td>...</td>\n",
       "      <td>NaN</td>\n",
       "      <td>NaN</td>\n",
       "      <td>NaN</td>\n",
       "      <td>NaN</td>\n",
       "      <td>NaN</td>\n",
       "      <td>NaN</td>\n",
       "      <td>NaN</td>\n",
       "      <td>NaN</td>\n",
       "      <td>None</td>\n",
       "      <td>NaN</td>\n",
       "    </tr>\n",
       "  </tbody>\n",
       "</table>\n",
       "<p>5 rows × 369 columns</p>\n",
       "</div>"
      ],
      "text/plain": [
       "  Time from Start to Finish (seconds)                           Q1  \\\n",
       "0               Duration (in seconds)  What is your age (# years)?   \n",
       "1                                 910                        50-54   \n",
       "2                                 784                        50-54   \n",
       "3                                 924                        22-24   \n",
       "4                                 575                        45-49   \n",
       "\n",
       "                                       Q2  \\\n",
       "0  What is your gender? - Selected Choice   \n",
       "1                                     Man   \n",
       "2                                     Man   \n",
       "3                                     Man   \n",
       "4                                     Man   \n",
       "\n",
       "                                          Q3  \\\n",
       "0  In which country do you currently reside?   \n",
       "1                                      India   \n",
       "2                                  Indonesia   \n",
       "3                                   Pakistan   \n",
       "4                                     Mexico   \n",
       "\n",
       "                                                  Q4  \\\n",
       "0  What is the highest level of formal education ...   \n",
       "1                                  Bachelor’s degree   \n",
       "2                                    Master’s degree   \n",
       "3                                    Master’s degree   \n",
       "4                                    Doctoral degree   \n",
       "\n",
       "                                                  Q5  \\\n",
       "0  Select the title most similar to your current ...   \n",
       "1                                              Other   \n",
       "2                            Program/Project Manager   \n",
       "3                                  Software Engineer   \n",
       "4                                 Research Scientist   \n",
       "\n",
       "                                                  Q6  \\\n",
       "0  For how many years have you been writing code ...   \n",
       "1                                         5-10 years   \n",
       "2                                          20+ years   \n",
       "3                                          1-3 years   \n",
       "4                                          20+ years   \n",
       "\n",
       "                                           Q7_Part_1  \\\n",
       "0  What programming languages do you use on a reg...   \n",
       "1                                             Python   \n",
       "2                                                NaN   \n",
       "3                                             Python   \n",
       "4                                             Python   \n",
       "\n",
       "                                           Q7_Part_2  \\\n",
       "0  What programming languages do you use on a reg...   \n",
       "1                                                  R   \n",
       "2                                                NaN   \n",
       "3                                                NaN   \n",
       "4                                                NaN   \n",
       "\n",
       "                                           Q7_Part_3  ...  \\\n",
       "0  What programming languages do you use on a reg...  ...   \n",
       "1                                                NaN  ...   \n",
       "2                                                SQL  ...   \n",
       "3                                                NaN  ...   \n",
       "4                                                NaN  ...   \n",
       "\n",
       "                                        Q38_B_Part_3  \\\n",
       "0  In the next 2 years, do you hope to become mor...   \n",
       "1                                                NaN   \n",
       "2                                                NaN   \n",
       "3                                                NaN   \n",
       "4                                                NaN   \n",
       "\n",
       "                                        Q38_B_Part_4  \\\n",
       "0  In the next 2 years, do you hope to become mor...   \n",
       "1                                                NaN   \n",
       "2                                                NaN   \n",
       "3                                                NaN   \n",
       "4                                                NaN   \n",
       "\n",
       "                                        Q38_B_Part_5  \\\n",
       "0  In the next 2 years, do you hope to become mor...   \n",
       "1                                                NaN   \n",
       "2                                                NaN   \n",
       "3                                       TensorBoard    \n",
       "4                                                NaN   \n",
       "\n",
       "                                        Q38_B_Part_6  \\\n",
       "0  In the next 2 years, do you hope to become mor...   \n",
       "1                                                NaN   \n",
       "2                                                NaN   \n",
       "3                                                NaN   \n",
       "4                                                NaN   \n",
       "\n",
       "                                        Q38_B_Part_7  \\\n",
       "0  In the next 2 years, do you hope to become mor...   \n",
       "1                                                NaN   \n",
       "2                                                NaN   \n",
       "3                                                NaN   \n",
       "4                                                NaN   \n",
       "\n",
       "                                        Q38_B_Part_8  \\\n",
       "0  In the next 2 years, do you hope to become mor...   \n",
       "1                                                NaN   \n",
       "2                                                NaN   \n",
       "3                                                NaN   \n",
       "4                                                NaN   \n",
       "\n",
       "                                        Q38_B_Part_9  \\\n",
       "0  In the next 2 years, do you hope to become mor...   \n",
       "1                                                NaN   \n",
       "2                                                NaN   \n",
       "3                                                NaN   \n",
       "4                                                NaN   \n",
       "\n",
       "                                       Q38_B_Part_10  \\\n",
       "0  In the next 2 years, do you hope to become mor...   \n",
       "1                                                NaN   \n",
       "2                                                NaN   \n",
       "3                                                NaN   \n",
       "4                                                NaN   \n",
       "\n",
       "                                       Q38_B_Part_11  \\\n",
       "0  In the next 2 years, do you hope to become mor...   \n",
       "1                                                NaN   \n",
       "2                                               None   \n",
       "3                                                NaN   \n",
       "4                                               None   \n",
       "\n",
       "                                         Q38_B_OTHER  \n",
       "0  In the next 2 years, do you hope to become mor...  \n",
       "1                                                NaN  \n",
       "2                                                NaN  \n",
       "3                                                NaN  \n",
       "4                                                NaN  \n",
       "\n",
       "[5 rows x 369 columns]"
      ]
     },
     "execution_count": 3,
     "metadata": {},
     "output_type": "execute_result"
    }
   ],
   "source": [
    "# first five rows\n",
    "data.head()"
   ]
  },
  {
   "cell_type": "code",
   "execution_count": 4,
   "id": "462fc59d",
   "metadata": {
    "execution": {
     "iopub.execute_input": "2022-06-28T19:12:32.598447Z",
     "iopub.status.busy": "2022-06-28T19:12:32.597696Z",
     "iopub.status.idle": "2022-06-28T19:12:32.604230Z",
     "shell.execute_reply": "2022-06-28T19:12:32.603122Z"
    },
    "papermill": {
     "duration": 0.017134,
     "end_time": "2022-06-28T19:12:32.606570",
     "exception": false,
     "start_time": "2022-06-28T19:12:32.589436",
     "status": "completed"
    },
    "tags": []
   },
   "outputs": [
    {
     "data": {
      "text/plain": [
       "(25974, 369)"
      ]
     },
     "execution_count": 4,
     "metadata": {},
     "output_type": "execute_result"
    }
   ],
   "source": [
    "# size of the dataset\n",
    "data.shape # 25973 rows, 369 columns"
   ]
  },
  {
   "cell_type": "code",
   "execution_count": 5,
   "id": "5c0acb67",
   "metadata": {
    "execution": {
     "iopub.execute_input": "2022-06-28T19:12:32.622048Z",
     "iopub.status.busy": "2022-06-28T19:12:32.621658Z",
     "iopub.status.idle": "2022-06-28T19:12:32.629488Z",
     "shell.execute_reply": "2022-06-28T19:12:32.628228Z"
    },
    "papermill": {
     "duration": 0.018024,
     "end_time": "2022-06-28T19:12:32.631512",
     "exception": false,
     "start_time": "2022-06-28T19:12:32.613488",
     "status": "completed"
    },
    "tags": []
   },
   "outputs": [],
   "source": [
    "def rename_columns(df):\n",
    "    \"\"\"\n",
    "    input: the dataset we want to rename the columns\n",
    "    output: combine the first row of the dataset into the original column\n",
    "    \"\"\"\n",
    "    original_columns = df.columns\n",
    "    num_col = df.shape[1]\n",
    "    first_row = df.iloc[0] #grab the first row for the header\n",
    "    df = df[1:] #take the data below the first row\n",
    "    # create a list containing new column names\n",
    "    new_cols = []\n",
    "    for col in range(num_col):\n",
    "        new_col_name = original_columns[col] + '_' + first_row[col]\n",
    "        new_cols.append(new_col_name)\n",
    "    df.columns = new_cols # assign the new column names to the dataset\n",
    "    return df"
   ]
  },
  {
   "cell_type": "code",
   "execution_count": 6,
   "id": "f962e8a8",
   "metadata": {
    "execution": {
     "iopub.execute_input": "2022-06-28T19:12:32.646957Z",
     "iopub.status.busy": "2022-06-28T19:12:32.646546Z",
     "iopub.status.idle": "2022-06-28T19:12:32.653505Z",
     "shell.execute_reply": "2022-06-28T19:12:32.652613Z"
    },
    "papermill": {
     "duration": 0.017371,
     "end_time": "2022-06-28T19:12:32.655712",
     "exception": false,
     "start_time": "2022-06-28T19:12:32.638341",
     "status": "completed"
    },
    "tags": []
   },
   "outputs": [],
   "source": [
    "renamed_data = rename_columns(data)"
   ]
  },
  {
   "cell_type": "code",
   "execution_count": 7,
   "id": "a3fc5a0c",
   "metadata": {
    "execution": {
     "iopub.execute_input": "2022-06-28T19:12:32.671554Z",
     "iopub.status.busy": "2022-06-28T19:12:32.670851Z",
     "iopub.status.idle": "2022-06-28T19:12:32.704163Z",
     "shell.execute_reply": "2022-06-28T19:12:32.703073Z"
    },
    "papermill": {
     "duration": 0.044932,
     "end_time": "2022-06-28T19:12:32.707433",
     "exception": false,
     "start_time": "2022-06-28T19:12:32.662501",
     "status": "completed"
    },
    "tags": []
   },
   "outputs": [],
   "source": [
    "def subset_data(df, col, criteria):\n",
    "    \"\"\"\n",
    "    input:\n",
    "    df: the dataset we want to subset from\n",
    "    col: target columns as the filter\n",
    "    criteria: value to feed the filter\n",
    "    \n",
    "    output:\n",
    "    a new dataset which is a subset of the original one\n",
    "    \"\"\"\n",
    "    \n",
    "    new_df = df.loc[df[col] == criteria]\n",
    "    \n",
    "    return new_df\n",
    "\n",
    "ds_data = subset_data(renamed_data, \n",
    "           'Q5_Select the title most similar to your current role (or most recent title if retired): - Selected Choice',\n",
    "           'Data Scientist')"
   ]
  },
  {
   "cell_type": "code",
   "execution_count": 8,
   "id": "8a2bc303",
   "metadata": {
    "execution": {
     "iopub.execute_input": "2022-06-28T19:12:32.722873Z",
     "iopub.status.busy": "2022-06-28T19:12:32.722501Z",
     "iopub.status.idle": "2022-06-28T19:12:32.729547Z",
     "shell.execute_reply": "2022-06-28T19:12:32.728363Z"
    },
    "papermill": {
     "duration": 0.017584,
     "end_time": "2022-06-28T19:12:32.731808",
     "exception": false,
     "start_time": "2022-06-28T19:12:32.714224",
     "status": "completed"
    },
    "tags": []
   },
   "outputs": [
    {
     "data": {
      "text/plain": [
       "(3616, 369)"
      ]
     },
     "execution_count": 8,
     "metadata": {},
     "output_type": "execute_result"
    }
   ],
   "source": [
    "# We have 3616 data scientists contributing to this survey\n",
    "ds_data.shape"
   ]
  },
  {
   "cell_type": "code",
   "execution_count": 9,
   "id": "5ab6ccec",
   "metadata": {
    "execution": {
     "iopub.execute_input": "2022-06-28T19:12:32.747374Z",
     "iopub.status.busy": "2022-06-28T19:12:32.747004Z",
     "iopub.status.idle": "2022-06-28T19:12:32.755385Z",
     "shell.execute_reply": "2022-06-28T19:12:32.754082Z"
    },
    "papermill": {
     "duration": 0.019138,
     "end_time": "2022-06-28T19:12:32.757980",
     "exception": false,
     "start_time": "2022-06-28T19:12:32.738842",
     "status": "completed"
    },
    "tags": []
   },
   "outputs": [],
   "source": [
    "def question_columns(df, query, method = 'strict'):\n",
    "    \"\"\"\n",
    "    input: \n",
    "    df - target dataset\n",
    "    query - str, query we want to find relevant infomation in the dataset. e.g. 'Q7', or 'machine learning' \n",
    "    \n",
    "    output:\n",
    "    a subset of data which include the columns of the query in interest\n",
    "    \n",
    "    method:\n",
    "    if it == strict, which means we will look for the question exactly EQUALS to the query. e.g. if we search 'age', then 'language' won't\n",
    "    be taken into account in this case;\n",
    "    \n",
    "    if it == loose, which means we will look for the question exactly CONTAINS the query. e.g. if we search 'age', then 'language' will\n",
    "    be taken into account in this case.\n",
    "    \"\"\"\n",
    "    columns = df.columns\n",
    "    question_col = []\n",
    "    for col in columns:\n",
    "        if method == 'strict':\n",
    "            col_parts = col.lower().split() # each column name will be separated into single word tokens at first\n",
    "            if query.lower() in col_parts:\n",
    "                question_col.append(col)\n",
    "        elif method == 'loose':\n",
    "            if query.lower() in col.lower():\n",
    "                question_col.append(col)\n",
    "    return df[question_col]"
   ]
  },
  {
   "cell_type": "code",
   "execution_count": 10,
   "id": "6ea58f2c",
   "metadata": {
    "execution": {
     "iopub.execute_input": "2022-06-28T19:12:32.773787Z",
     "iopub.status.busy": "2022-06-28T19:12:32.773008Z",
     "iopub.status.idle": "2022-06-28T19:12:32.781946Z",
     "shell.execute_reply": "2022-06-28T19:12:32.780942Z"
    },
    "papermill": {
     "duration": 0.019421,
     "end_time": "2022-06-28T19:12:32.784325",
     "exception": false,
     "start_time": "2022-06-28T19:12:32.764904",
     "status": "completed"
    },
    "tags": []
   },
   "outputs": [],
   "source": [
    "role_question = question_columns(ds_data, 'role')"
   ]
  },
  {
   "cell_type": "code",
   "execution_count": 11,
   "id": "91a46bdb",
   "metadata": {
    "execution": {
     "iopub.execute_input": "2022-06-28T19:12:32.800516Z",
     "iopub.status.busy": "2022-06-28T19:12:32.800152Z",
     "iopub.status.idle": "2022-06-28T19:12:32.808749Z",
     "shell.execute_reply": "2022-06-28T19:12:32.807535Z"
    },
    "papermill": {
     "duration": 0.019464,
     "end_time": "2022-06-28T19:12:32.810946",
     "exception": false,
     "start_time": "2022-06-28T19:12:32.791482",
     "status": "completed"
    },
    "tags": []
   },
   "outputs": [],
   "source": [
    "array = np.where(role_question.isnull(),0,1)"
   ]
  },
  {
   "cell_type": "code",
   "execution_count": 12,
   "id": "e3b01dbf",
   "metadata": {
    "execution": {
     "iopub.execute_input": "2022-06-28T19:12:32.826544Z",
     "iopub.status.busy": "2022-06-28T19:12:32.826150Z",
     "iopub.status.idle": "2022-06-28T19:12:32.841813Z",
     "shell.execute_reply": "2022-06-28T19:12:32.840889Z"
    },
    "papermill": {
     "duration": 0.026423,
     "end_time": "2022-06-28T19:12:32.844414",
     "exception": false,
     "start_time": "2022-06-28T19:12:32.817991",
     "status": "completed"
    },
    "tags": []
   },
   "outputs": [
    {
     "data": {
      "text/html": [
       "<div>\n",
       "<style scoped>\n",
       "    .dataframe tbody tr th:only-of-type {\n",
       "        vertical-align: middle;\n",
       "    }\n",
       "\n",
       "    .dataframe tbody tr th {\n",
       "        vertical-align: top;\n",
       "    }\n",
       "\n",
       "    .dataframe thead th {\n",
       "        text-align: right;\n",
       "    }\n",
       "</style>\n",
       "<table border=\"1\" class=\"dataframe\">\n",
       "  <thead>\n",
       "    <tr style=\"text-align: right;\">\n",
       "      <th></th>\n",
       "      <th>Q5_Select the title most similar to your current role (or most recent title if retired): - Selected Choice</th>\n",
       "      <th>Q24_Part_1_Select any activities that make up an important part of your role at work: (Select all that apply) - Selected Choice - Analyze and understand data to influence product or business decisions</th>\n",
       "      <th>Q24_Part_2_Select any activities that make up an important part of your role at work: (Select all that apply) - Selected Choice - Build and/or run the data infrastructure that my business uses for storing, analyzing, and operationalizing data</th>\n",
       "      <th>Q24_Part_3_Select any activities that make up an important part of your role at work: (Select all that apply) - Selected Choice - Build prototypes to explore applying machine learning to new areas</th>\n",
       "      <th>Q24_Part_4_Select any activities that make up an important part of your role at work: (Select all that apply) - Selected Choice - Build and/or run a machine learning service that operationally improves my product or workflows</th>\n",
       "      <th>Q24_Part_5_Select any activities that make up an important part of your role at work: (Select all that apply) - Selected Choice - Experimentation and iteration to improve existing ML models</th>\n",
       "      <th>Q24_Part_6_Select any activities that make up an important part of your role at work: (Select all that apply) - Selected Choice - Do research that advances the state of the art of machine learning</th>\n",
       "      <th>Q24_Part_7_Select any activities that make up an important part of your role at work: (Select all that apply) - Selected Choice - None of these activities are an important part of my role at work</th>\n",
       "      <th>Q24_OTHER_Select any activities that make up an important part of your role at work: (Select all that apply) - Selected Choice - Other</th>\n",
       "    </tr>\n",
       "  </thead>\n",
       "  <tbody>\n",
       "    <tr>\n",
       "      <th>0</th>\n",
       "      <td>1</td>\n",
       "      <td>0</td>\n",
       "      <td>1</td>\n",
       "      <td>1</td>\n",
       "      <td>0</td>\n",
       "      <td>0</td>\n",
       "      <td>0</td>\n",
       "      <td>0</td>\n",
       "      <td>0</td>\n",
       "    </tr>\n",
       "    <tr>\n",
       "      <th>1</th>\n",
       "      <td>1</td>\n",
       "      <td>1</td>\n",
       "      <td>0</td>\n",
       "      <td>0</td>\n",
       "      <td>1</td>\n",
       "      <td>0</td>\n",
       "      <td>0</td>\n",
       "      <td>0</td>\n",
       "      <td>0</td>\n",
       "    </tr>\n",
       "    <tr>\n",
       "      <th>2</th>\n",
       "      <td>1</td>\n",
       "      <td>0</td>\n",
       "      <td>1</td>\n",
       "      <td>0</td>\n",
       "      <td>0</td>\n",
       "      <td>0</td>\n",
       "      <td>0</td>\n",
       "      <td>0</td>\n",
       "      <td>0</td>\n",
       "    </tr>\n",
       "    <tr>\n",
       "      <th>3</th>\n",
       "      <td>1</td>\n",
       "      <td>1</td>\n",
       "      <td>0</td>\n",
       "      <td>0</td>\n",
       "      <td>1</td>\n",
       "      <td>0</td>\n",
       "      <td>0</td>\n",
       "      <td>0</td>\n",
       "      <td>0</td>\n",
       "    </tr>\n",
       "    <tr>\n",
       "      <th>4</th>\n",
       "      <td>1</td>\n",
       "      <td>0</td>\n",
       "      <td>0</td>\n",
       "      <td>0</td>\n",
       "      <td>1</td>\n",
       "      <td>0</td>\n",
       "      <td>0</td>\n",
       "      <td>0</td>\n",
       "      <td>0</td>\n",
       "    </tr>\n",
       "    <tr>\n",
       "      <th>...</th>\n",
       "      <td>...</td>\n",
       "      <td>...</td>\n",
       "      <td>...</td>\n",
       "      <td>...</td>\n",
       "      <td>...</td>\n",
       "      <td>...</td>\n",
       "      <td>...</td>\n",
       "      <td>...</td>\n",
       "      <td>...</td>\n",
       "    </tr>\n",
       "    <tr>\n",
       "      <th>3611</th>\n",
       "      <td>1</td>\n",
       "      <td>1</td>\n",
       "      <td>0</td>\n",
       "      <td>1</td>\n",
       "      <td>0</td>\n",
       "      <td>0</td>\n",
       "      <td>1</td>\n",
       "      <td>0</td>\n",
       "      <td>0</td>\n",
       "    </tr>\n",
       "    <tr>\n",
       "      <th>3612</th>\n",
       "      <td>1</td>\n",
       "      <td>1</td>\n",
       "      <td>1</td>\n",
       "      <td>1</td>\n",
       "      <td>1</td>\n",
       "      <td>1</td>\n",
       "      <td>1</td>\n",
       "      <td>0</td>\n",
       "      <td>0</td>\n",
       "    </tr>\n",
       "    <tr>\n",
       "      <th>3613</th>\n",
       "      <td>1</td>\n",
       "      <td>1</td>\n",
       "      <td>1</td>\n",
       "      <td>1</td>\n",
       "      <td>1</td>\n",
       "      <td>1</td>\n",
       "      <td>1</td>\n",
       "      <td>0</td>\n",
       "      <td>0</td>\n",
       "    </tr>\n",
       "    <tr>\n",
       "      <th>3614</th>\n",
       "      <td>1</td>\n",
       "      <td>1</td>\n",
       "      <td>0</td>\n",
       "      <td>0</td>\n",
       "      <td>1</td>\n",
       "      <td>0</td>\n",
       "      <td>1</td>\n",
       "      <td>0</td>\n",
       "      <td>0</td>\n",
       "    </tr>\n",
       "    <tr>\n",
       "      <th>3615</th>\n",
       "      <td>1</td>\n",
       "      <td>0</td>\n",
       "      <td>0</td>\n",
       "      <td>0</td>\n",
       "      <td>0</td>\n",
       "      <td>0</td>\n",
       "      <td>0</td>\n",
       "      <td>0</td>\n",
       "      <td>0</td>\n",
       "    </tr>\n",
       "  </tbody>\n",
       "</table>\n",
       "<p>3616 rows × 9 columns</p>\n",
       "</div>"
      ],
      "text/plain": [
       "      Q5_Select the title most similar to your current role (or most recent title if retired): - Selected Choice  \\\n",
       "0                                                     1                                                            \n",
       "1                                                     1                                                            \n",
       "2                                                     1                                                            \n",
       "3                                                     1                                                            \n",
       "4                                                     1                                                            \n",
       "...                                                 ...                                                            \n",
       "3611                                                  1                                                            \n",
       "3612                                                  1                                                            \n",
       "3613                                                  1                                                            \n",
       "3614                                                  1                                                            \n",
       "3615                                                  1                                                            \n",
       "\n",
       "      Q24_Part_1_Select any activities that make up an important part of your role at work: (Select all that apply) - Selected Choice - Analyze and understand data to influence product or business decisions  \\\n",
       "0                                                     0                                                                                                                                                          \n",
       "1                                                     1                                                                                                                                                          \n",
       "2                                                     0                                                                                                                                                          \n",
       "3                                                     1                                                                                                                                                          \n",
       "4                                                     0                                                                                                                                                          \n",
       "...                                                 ...                                                                                                                                                          \n",
       "3611                                                  1                                                                                                                                                          \n",
       "3612                                                  1                                                                                                                                                          \n",
       "3613                                                  1                                                                                                                                                          \n",
       "3614                                                  1                                                                                                                                                          \n",
       "3615                                                  0                                                                                                                                                          \n",
       "\n",
       "      Q24_Part_2_Select any activities that make up an important part of your role at work: (Select all that apply) - Selected Choice - Build and/or run the data infrastructure that my business uses for storing, analyzing, and operationalizing data  \\\n",
       "0                                                     1                                                                                                                                                                                                    \n",
       "1                                                     0                                                                                                                                                                                                    \n",
       "2                                                     1                                                                                                                                                                                                    \n",
       "3                                                     0                                                                                                                                                                                                    \n",
       "4                                                     0                                                                                                                                                                                                    \n",
       "...                                                 ...                                                                                                                                                                                                    \n",
       "3611                                                  0                                                                                                                                                                                                    \n",
       "3612                                                  1                                                                                                                                                                                                    \n",
       "3613                                                  1                                                                                                                                                                                                    \n",
       "3614                                                  0                                                                                                                                                                                                    \n",
       "3615                                                  0                                                                                                                                                                                                    \n",
       "\n",
       "      Q24_Part_3_Select any activities that make up an important part of your role at work: (Select all that apply) - Selected Choice - Build prototypes to explore applying machine learning to new areas  \\\n",
       "0                                                     1                                                                                                                                                      \n",
       "1                                                     0                                                                                                                                                      \n",
       "2                                                     0                                                                                                                                                      \n",
       "3                                                     0                                                                                                                                                      \n",
       "4                                                     0                                                                                                                                                      \n",
       "...                                                 ...                                                                                                                                                      \n",
       "3611                                                  1                                                                                                                                                      \n",
       "3612                                                  1                                                                                                                                                      \n",
       "3613                                                  1                                                                                                                                                      \n",
       "3614                                                  0                                                                                                                                                      \n",
       "3615                                                  0                                                                                                                                                      \n",
       "\n",
       "      Q24_Part_4_Select any activities that make up an important part of your role at work: (Select all that apply) - Selected Choice - Build and/or run a machine learning service that operationally improves my product or workflows  \\\n",
       "0                                                     0                                                                                                                                                                                   \n",
       "1                                                     1                                                                                                                                                                                   \n",
       "2                                                     0                                                                                                                                                                                   \n",
       "3                                                     1                                                                                                                                                                                   \n",
       "4                                                     1                                                                                                                                                                                   \n",
       "...                                                 ...                                                                                                                                                                                   \n",
       "3611                                                  0                                                                                                                                                                                   \n",
       "3612                                                  1                                                                                                                                                                                   \n",
       "3613                                                  1                                                                                                                                                                                   \n",
       "3614                                                  1                                                                                                                                                                                   \n",
       "3615                                                  0                                                                                                                                                                                   \n",
       "\n",
       "      Q24_Part_5_Select any activities that make up an important part of your role at work: (Select all that apply) - Selected Choice - Experimentation and iteration to improve existing ML models  \\\n",
       "0                                                     0                                                                                                                                               \n",
       "1                                                     0                                                                                                                                               \n",
       "2                                                     0                                                                                                                                               \n",
       "3                                                     0                                                                                                                                               \n",
       "4                                                     0                                                                                                                                               \n",
       "...                                                 ...                                                                                                                                               \n",
       "3611                                                  0                                                                                                                                               \n",
       "3612                                                  1                                                                                                                                               \n",
       "3613                                                  1                                                                                                                                               \n",
       "3614                                                  0                                                                                                                                               \n",
       "3615                                                  0                                                                                                                                               \n",
       "\n",
       "      Q24_Part_6_Select any activities that make up an important part of your role at work: (Select all that apply) - Selected Choice - Do research that advances the state of the art of machine learning  \\\n",
       "0                                                     0                                                                                                                                                      \n",
       "1                                                     0                                                                                                                                                      \n",
       "2                                                     0                                                                                                                                                      \n",
       "3                                                     0                                                                                                                                                      \n",
       "4                                                     0                                                                                                                                                      \n",
       "...                                                 ...                                                                                                                                                      \n",
       "3611                                                  1                                                                                                                                                      \n",
       "3612                                                  1                                                                                                                                                      \n",
       "3613                                                  1                                                                                                                                                      \n",
       "3614                                                  1                                                                                                                                                      \n",
       "3615                                                  0                                                                                                                                                      \n",
       "\n",
       "      Q24_Part_7_Select any activities that make up an important part of your role at work: (Select all that apply) - Selected Choice - None of these activities are an important part of my role at work  \\\n",
       "0                                                     0                                                                                                                                                     \n",
       "1                                                     0                                                                                                                                                     \n",
       "2                                                     0                                                                                                                                                     \n",
       "3                                                     0                                                                                                                                                     \n",
       "4                                                     0                                                                                                                                                     \n",
       "...                                                 ...                                                                                                                                                     \n",
       "3611                                                  0                                                                                                                                                     \n",
       "3612                                                  0                                                                                                                                                     \n",
       "3613                                                  0                                                                                                                                                     \n",
       "3614                                                  0                                                                                                                                                     \n",
       "3615                                                  0                                                                                                                                                     \n",
       "\n",
       "      Q24_OTHER_Select any activities that make up an important part of your role at work: (Select all that apply) - Selected Choice - Other  \n",
       "0                                                     0                                                                                       \n",
       "1                                                     0                                                                                       \n",
       "2                                                     0                                                                                       \n",
       "3                                                     0                                                                                       \n",
       "4                                                     0                                                                                       \n",
       "...                                                 ...                                                                                       \n",
       "3611                                                  0                                                                                       \n",
       "3612                                                  0                                                                                       \n",
       "3613                                                  0                                                                                       \n",
       "3614                                                  0                                                                                       \n",
       "3615                                                  0                                                                                       \n",
       "\n",
       "[3616 rows x 9 columns]"
      ]
     },
     "execution_count": 12,
     "metadata": {},
     "output_type": "execute_result"
    }
   ],
   "source": [
    "pd.DataFrame(data=array, columns=role_question.columns)"
   ]
  },
  {
   "cell_type": "code",
   "execution_count": 13,
   "id": "3576715d",
   "metadata": {
    "execution": {
     "iopub.execute_input": "2022-06-28T19:12:32.861699Z",
     "iopub.status.busy": "2022-06-28T19:12:32.861294Z",
     "iopub.status.idle": "2022-06-28T19:12:32.870255Z",
     "shell.execute_reply": "2022-06-28T19:12:32.869374Z"
    },
    "papermill": {
     "duration": 0.02016,
     "end_time": "2022-06-28T19:12:32.872329",
     "exception": false,
     "start_time": "2022-06-28T19:12:32.852169",
     "status": "completed"
    },
    "tags": []
   },
   "outputs": [],
   "source": [
    "def replace_nan(df):\n",
    "    \"\"\"\n",
    "    input:\n",
    "    df - the target dataset\n",
    "    \n",
    "    output:\n",
    "    a new dataset with nan values replaced as 0 and non-nan values replaced with 1\n",
    "    \"\"\"\n",
    "    array = np.where(df.isnull(),0,1)\n",
    "    df = pd.DataFrame(data=array, columns=df.columns)\n",
    "    \n",
    "    return df\n",
    "\n",
    "\n",
    "role_data = replace_nan(role_question)"
   ]
  },
  {
   "cell_type": "markdown",
   "id": "6841d779",
   "metadata": {
    "papermill": {
     "duration": 0.008944,
     "end_time": "2022-06-28T19:12:32.889060",
     "exception": false,
     "start_time": "2022-06-28T19:12:32.880116",
     "status": "completed"
    },
    "tags": []
   },
   "source": [
    "## What questions we want to ask here?\n",
    "1. How many types of data scientists based on activity they usually do?\n",
    "2. Which skill each type emphasizes at?\n",
    "3. Which platform/tools each type emphazies at?\n",
    "4. Demographic segmentation of each type?\n",
    "5. Profession segmentation of each type?"
   ]
  },
  {
   "cell_type": "code",
   "execution_count": 14,
   "id": "1b29d208",
   "metadata": {
    "execution": {
     "iopub.execute_input": "2022-06-28T19:12:32.906186Z",
     "iopub.status.busy": "2022-06-28T19:12:32.905817Z",
     "iopub.status.idle": "2022-06-28T19:12:32.910771Z",
     "shell.execute_reply": "2022-06-28T19:12:32.909644Z"
    },
    "papermill": {
     "duration": 0.01603,
     "end_time": "2022-06-28T19:12:32.912852",
     "exception": false,
     "start_time": "2022-06-28T19:12:32.896822",
     "status": "completed"
    },
    "tags": []
   },
   "outputs": [],
   "source": [
    "feature_data = role_data.iloc[: , 1:]"
   ]
  },
  {
   "cell_type": "code",
   "execution_count": 15,
   "id": "2da8f708",
   "metadata": {
    "execution": {
     "iopub.execute_input": "2022-06-28T19:12:32.930531Z",
     "iopub.status.busy": "2022-06-28T19:12:32.929842Z",
     "iopub.status.idle": "2022-06-28T19:12:32.936525Z",
     "shell.execute_reply": "2022-06-28T19:12:32.935774Z"
    },
    "papermill": {
     "duration": 0.018108,
     "end_time": "2022-06-28T19:12:32.938744",
     "exception": false,
     "start_time": "2022-06-28T19:12:32.920636",
     "status": "completed"
    },
    "tags": []
   },
   "outputs": [],
   "source": [
    "def kmeans_cluster_opt(df, init = 'k-means++', max_num_cluster = 9):\n",
    "    \"\"\"\n",
    "    input: \n",
    "    df - the dataset we want to segments into cluster\n",
    "    init - the way we want to initialize the starting centroid\n",
    "    max_num_cluster - the max number of cluster\n",
    "    \n",
    "    output:\n",
    "    a visualization showing the line graph indicating the optimal number of klusters, based on inertias value\n",
    "    \"\"\"\n",
    "    num_clusters = list(range(1, max_num_cluster))\n",
    "    inertias = []\n",
    "\n",
    "    for k in num_clusters:\n",
    "        model = KMeans(init=init, n_clusters=k)\n",
    "        model.fit(df)\n",
    "        inertias.append(model.inertia_)\n",
    "\n",
    "    \n",
    "    plt.plot(num_clusters, inertias, '-o')\n",
    "\n",
    "    plt.xlabel('number of clusters (k)')\n",
    "    plt.ylabel('inertia')\n",
    "\n",
    "    plt.show()"
   ]
  },
  {
   "cell_type": "code",
   "execution_count": 16,
   "id": "32c54854",
   "metadata": {
    "execution": {
     "iopub.execute_input": "2022-06-28T19:12:32.956805Z",
     "iopub.status.busy": "2022-06-28T19:12:32.956104Z",
     "iopub.status.idle": "2022-06-28T19:12:42.566749Z",
     "shell.execute_reply": "2022-06-28T19:12:42.565383Z"
    },
    "papermill": {
     "duration": 9.622363,
     "end_time": "2022-06-28T19:12:42.569199",
     "exception": false,
     "start_time": "2022-06-28T19:12:32.946836",
     "status": "completed"
    },
    "tags": []
   },
   "outputs": [
    {
     "data": {
      "image/png": "[encoded data removed]",
      "text/plain": [
       "<Figure size 432x288 with 1 Axes>"
      ]
     },
     "metadata": {
      "needs_background": "light"
     },
     "output_type": "display_data"
    }
   ],
   "source": [
    "kmeans_cluster_opt(feature_data)"
   ]
  },
  {
   "cell_type": "code",
   "execution_count": 17,
   "id": "6d067f15",
   "metadata": {
    "execution": {
     "iopub.execute_input": "2022-06-28T19:12:42.587337Z",
     "iopub.status.busy": "2022-06-28T19:12:42.586969Z",
     "iopub.status.idle": "2022-06-28T19:12:42.593539Z",
     "shell.execute_reply": "2022-06-28T19:12:42.592302Z"
    },
    "papermill": {
     "duration": 0.018173,
     "end_time": "2022-06-28T19:12:42.595973",
     "exception": false,
     "start_time": "2022-06-28T19:12:42.577800",
     "status": "completed"
    },
    "tags": []
   },
   "outputs": [],
   "source": [
    "def kmeans_predict(df, init = 'k-means++', n_clusters = 4):\n",
    "    \"\"\"\n",
    "    input:\n",
    "    df - dataset we want to segment into clusters\n",
    "    init - the way we want to initialize the starting centroid\n",
    "    n_clusters - the number of cluster\n",
    "    \n",
    "    output:\n",
    "    return an array of predictions on the cluster label of given features\n",
    "    \"\"\"\n",
    "    model = KMeans(init=init, n_clusters = n_clusters)\n",
    "\n",
    "    model.fit(df)\n",
    "\n",
    "    labels = model.predict(df)\n",
    "    \n",
    "    return labels"
   ]
  },
  {
   "cell_type": "code",
   "execution_count": 18,
   "id": "5f8c6187",
   "metadata": {
    "execution": {
     "iopub.execute_input": "2022-06-28T19:12:42.613303Z",
     "iopub.status.busy": "2022-06-28T19:12:42.612948Z",
     "iopub.status.idle": "2022-06-28T19:12:43.823744Z",
     "shell.execute_reply": "2022-06-28T19:12:43.822684Z"
    },
    "papermill": {
     "duration": 1.22214,
     "end_time": "2022-06-28T19:12:43.826005",
     "exception": false,
     "start_time": "2022-06-28T19:12:42.603865",
     "status": "completed"
    },
    "tags": []
   },
   "outputs": [
    {
     "data": {
      "text/plain": [
       "array([2, 1, 2, ..., 3, 1, 2], dtype=int32)"
      ]
     },
     "execution_count": 18,
     "metadata": {},
     "output_type": "execute_result"
    }
   ],
   "source": [
    "kmeans_predict(feature_data)"
   ]
  },
  {
   "cell_type": "code",
   "execution_count": null,
   "id": "551b7883",
   "metadata": {
    "papermill": {
     "duration": 0.008873,
     "end_time": "2022-06-28T19:12:43.844308",
     "exception": false,
     "start_time": "2022-06-28T19:12:43.835435",
     "status": "completed"
    },
    "tags": []
   },
   "outputs": [],
   "source": []
  }
 ],
 "metadata": {
  "kernelspec": {
   "display_name": "Python 3",
   "language": "python",
   "name": "python3"
  },
  "language_info": {
   "codemirror_mode": {
    "name": "ipython",
    "version": 3
   },
   "file_extension": ".py",
   "mimetype": "text/x-python",
   "name": "python",
   "nbconvert_exporter": "python",
   "pygments_lexer": "ipython3",
   "version": "3.7.12"
  },
  "papermill": {
   "default_parameters": {},
   "duration": 24.33588,
   "end_time": "2022-06-28T19:12:44.674581",
   "environment_variables": {},
   "exception": null,
   "input_path": "__notebook__.ipynb",
   "output_path": "__notebook__.ipynb",
   "parameters": {},
   "start_time": "2022-06-28T19:12:20.338701",
   "version": "2.3.4"
  }
 },
 "nbformat": 4,
 "nbformat_minor": 5
}
