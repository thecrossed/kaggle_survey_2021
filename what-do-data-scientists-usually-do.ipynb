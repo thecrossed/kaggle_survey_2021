{
 "cells": [
  {
   "cell_type": "code",
   "execution_count": 1,
   "id": "00e3fa02",
   "metadata": {
    "_cell_guid": "b1076dfc-b9ad-4769-8c92-a6c4dae69d19",
    "_uuid": "8f2839f25d086af736a60e9eeb907d3b93b6e0e5",
    "execution": {
     "iopub.execute_input": "2022-07-06T20:15:06.577935Z",
     "iopub.status.busy": "2022-07-06T20:15:06.577425Z",
     "iopub.status.idle": "2022-07-06T20:15:08.371333Z",
     "shell.execute_reply": "2022-07-06T20:15:08.369861Z"
    },
    "papermill": {
     "duration": 1.807197,
     "end_time": "2022-07-06T20:15:08.374417",
     "exception": false,
     "start_time": "2022-07-06T20:15:06.567220",
     "status": "completed"
    },
    "tags": []
   },
   "outputs": [
    {
     "name": "stdout",
     "output_type": "stream",
     "text": [
      "/kaggle/input/kaggle-survey-2021/kaggle_survey_2021_responses.csv\n",
      "/kaggle/input/kaggle-survey-2021/supplementary_data/kaggle_survey_2021_methodology.pdf\n",
      "/kaggle/input/kaggle-survey-2021/supplementary_data/kaggle_survey_2021_answer_choices.pdf\n"
     ]
    }
   ],
   "source": [
    "# This Python 3 environment comes with many helpful analytics libraries installed\n",
    "# It is defined by the kaggle/python Docker image: https://github.com/kaggle/docker-python\n",
    "# For example, here's several helpful packages to load\n",
    "\n",
    "import numpy as np # linear algebra\n",
    "import pandas as pd # data processing, CSV file I/O (e.g. pd.read_csv)\n",
    "import matplotlib.pyplot as plt\n",
    "from sklearn.cluster import KMeans\n",
    "from sklearn.decomposition import PCA\n",
    "\n",
    "\n",
    "# Input data files are available in the read-only \"../input/\" directory\n",
    "# For example, running this (by clicking run or pressing Shift+Enter) will list all files under the input directory\n",
    "\n",
    "import os\n",
    "for dirname, _, filenames in os.walk('/kaggle/input'):\n",
    "    for filename in filenames:\n",
    "        print(os.path.join(dirname, filename))\n",
    "\n",
    "# You can write up to 20GB to the current directory (/kaggle/working/) that gets preserved as output when you create a version using \"Save & Run All\" \n",
    "# You can also write temporary files to /kaggle/temp/, but they won't be saved outside of the current session"
   ]
  },
  {
   "cell_type": "code",
   "execution_count": 2,
   "id": "b0a8c8a4",
   "metadata": {
    "execution": {
     "iopub.execute_input": "2022-07-06T20:15:08.391186Z",
     "iopub.status.busy": "2022-07-06T20:15:08.390766Z",
     "iopub.status.idle": "2022-07-06T20:15:10.428445Z",
     "shell.execute_reply": "2022-07-06T20:15:10.426927Z"
    },
    "papermill": {
     "duration": 2.049543,
     "end_time": "2022-07-06T20:15:10.431563",
     "exception": false,
     "start_time": "2022-07-06T20:15:08.382020",
     "status": "completed"
    },
    "tags": []
   },
   "outputs": [],
   "source": [
    "# load dataset\n",
    "data = pd.read_csv(\"../input/kaggle-survey-2021/kaggle_survey_2021_responses.csv\", low_memory = False)"
   ]
  },
  {
   "cell_type": "code",
   "execution_count": 3,
   "id": "5bf87618",
   "metadata": {
    "execution": {
     "iopub.execute_input": "2022-07-06T20:15:10.449166Z",
     "iopub.status.busy": "2022-07-06T20:15:10.448376Z",
     "iopub.status.idle": "2022-07-06T20:15:10.485892Z",
     "shell.execute_reply": "2022-07-06T20:15:10.484611Z"
    },
    "papermill": {
     "duration": 0.048881,
     "end_time": "2022-07-06T20:15:10.488388",
     "exception": false,
     "start_time": "2022-07-06T20:15:10.439507",
     "status": "completed"
    },
    "tags": []
   },
   "outputs": [
    {
     "data": {
      "text/html": [
       "<div>\n",
       "<style scoped>\n",
       "    .dataframe tbody tr th:only-of-type {\n",
       "        vertical-align: middle;\n",
       "    }\n",
       "\n",
       "    .dataframe tbody tr th {\n",
       "        vertical-align: top;\n",
       "    }\n",
       "\n",
       "    .dataframe thead th {\n",
       "        text-align: right;\n",
       "    }\n",
       "</style>\n",
       "<table border=\"1\" class=\"dataframe\">\n",
       "  <thead>\n",
       "    <tr style=\"text-align: right;\">\n",
       "      <th></th>\n",
       "      <th>Time from Start to Finish (seconds)</th>\n",
       "      <th>Q1</th>\n",
       "      <th>Q2</th>\n",
       "      <th>Q3</th>\n",
       "      <th>Q4</th>\n",
       "      <th>Q5</th>\n",
       "      <th>Q6</th>\n",
       "      <th>Q7_Part_1</th>\n",
       "      <th>Q7_Part_2</th>\n",
       "      <th>Q7_Part_3</th>\n",
       "      <th>...</th>\n",
       "      <th>Q38_B_Part_3</th>\n",
       "      <th>Q38_B_Part_4</th>\n",
       "      <th>Q38_B_Part_5</th>\n",
       "      <th>Q38_B_Part_6</th>\n",
       "      <th>Q38_B_Part_7</th>\n",
       "      <th>Q38_B_Part_8</th>\n",
       "      <th>Q38_B_Part_9</th>\n",
       "      <th>Q38_B_Part_10</th>\n",
       "      <th>Q38_B_Part_11</th>\n",
       "      <th>Q38_B_OTHER</th>\n",
       "    </tr>\n",
       "  </thead>\n",
       "  <tbody>\n",
       "    <tr>\n",
       "      <th>0</th>\n",
       "      <td>Duration (in seconds)</td>\n",
       "      <td>What is your age (# years)?</td>\n",
       "      <td>What is your gender? - Selected Choice</td>\n",
       "      <td>In which country do you currently reside?</td>\n",
       "      <td>What is the highest level of formal education ...</td>\n",
       "      <td>Select the title most similar to your current ...</td>\n",
       "      <td>For how many years have you been writing code ...</td>\n",
       "      <td>What programming languages do you use on a reg...</td>\n",
       "      <td>What programming languages do you use on a reg...</td>\n",
       "      <td>What programming languages do you use on a reg...</td>\n",
       "      <td>...</td>\n",
       "      <td>In the next 2 years, do you hope to become mor...</td>\n",
       "      <td>In the next 2 years, do you hope to become mor...</td>\n",
       "      <td>In the next 2 years, do you hope to become mor...</td>\n",
       "      <td>In the next 2 years, do you hope to become mor...</td>\n",
       "      <td>In the next 2 years, do you hope to become mor...</td>\n",
       "      <td>In the next 2 years, do you hope to become mor...</td>\n",
       "      <td>In the next 2 years, do you hope to become mor...</td>\n",
       "      <td>In the next 2 years, do you hope to become mor...</td>\n",
       "      <td>In the next 2 years, do you hope to become mor...</td>\n",
       "      <td>In the next 2 years, do you hope to become mor...</td>\n",
       "    </tr>\n",
       "    <tr>\n",
       "      <th>1</th>\n",
       "      <td>910</td>\n",
       "      <td>50-54</td>\n",
       "      <td>Man</td>\n",
       "      <td>India</td>\n",
       "      <td>Bachelor’s degree</td>\n",
       "      <td>Other</td>\n",
       "      <td>5-10 years</td>\n",
       "      <td>Python</td>\n",
       "      <td>R</td>\n",
       "      <td>NaN</td>\n",
       "      <td>...</td>\n",
       "      <td>NaN</td>\n",
       "      <td>NaN</td>\n",
       "      <td>NaN</td>\n",
       "      <td>NaN</td>\n",
       "      <td>NaN</td>\n",
       "      <td>NaN</td>\n",
       "      <td>NaN</td>\n",
       "      <td>NaN</td>\n",
       "      <td>NaN</td>\n",
       "      <td>NaN</td>\n",
       "    </tr>\n",
       "    <tr>\n",
       "      <th>2</th>\n",
       "      <td>784</td>\n",
       "      <td>50-54</td>\n",
       "      <td>Man</td>\n",
       "      <td>Indonesia</td>\n",
       "      <td>Master’s degree</td>\n",
       "      <td>Program/Project Manager</td>\n",
       "      <td>20+ years</td>\n",
       "      <td>NaN</td>\n",
       "      <td>NaN</td>\n",
       "      <td>SQL</td>\n",
       "      <td>...</td>\n",
       "      <td>NaN</td>\n",
       "      <td>NaN</td>\n",
       "      <td>NaN</td>\n",
       "      <td>NaN</td>\n",
       "      <td>NaN</td>\n",
       "      <td>NaN</td>\n",
       "      <td>NaN</td>\n",
       "      <td>NaN</td>\n",
       "      <td>None</td>\n",
       "      <td>NaN</td>\n",
       "    </tr>\n",
       "    <tr>\n",
       "      <th>3</th>\n",
       "      <td>924</td>\n",
       "      <td>22-24</td>\n",
       "      <td>Man</td>\n",
       "      <td>Pakistan</td>\n",
       "      <td>Master’s degree</td>\n",
       "      <td>Software Engineer</td>\n",
       "      <td>1-3 years</td>\n",
       "      <td>Python</td>\n",
       "      <td>NaN</td>\n",
       "      <td>NaN</td>\n",
       "      <td>...</td>\n",
       "      <td>NaN</td>\n",
       "      <td>NaN</td>\n",
       "      <td>TensorBoard</td>\n",
       "      <td>NaN</td>\n",
       "      <td>NaN</td>\n",
       "      <td>NaN</td>\n",
       "      <td>NaN</td>\n",
       "      <td>NaN</td>\n",
       "      <td>NaN</td>\n",
       "      <td>NaN</td>\n",
       "    </tr>\n",
       "    <tr>\n",
       "      <th>4</th>\n",
       "      <td>575</td>\n",
       "      <td>45-49</td>\n",
       "      <td>Man</td>\n",
       "      <td>Mexico</td>\n",
       "      <td>Doctoral degree</td>\n",
       "      <td>Research Scientist</td>\n",
       "      <td>20+ years</td>\n",
       "      <td>Python</td>\n",
       "      <td>NaN</td>\n",
       "      <td>NaN</td>\n",
       "      <td>...</td>\n",
       "      <td>NaN</td>\n",
       "      <td>NaN</td>\n",
       "      <td>NaN</td>\n",
       "      <td>NaN</td>\n",
       "      <td>NaN</td>\n",
       "      <td>NaN</td>\n",
       "      <td>NaN</td>\n",
       "      <td>NaN</td>\n",
       "      <td>None</td>\n",
       "      <td>NaN</td>\n",
       "    </tr>\n",
       "  </tbody>\n",
       "</table>\n",
       "<p>5 rows × 369 columns</p>\n",
       "</div>"
      ],
      "text/plain": [
       "  Time from Start to Finish (seconds)                           Q1  \\\n",
       "0               Duration (in seconds)  What is your age (# years)?   \n",
       "1                                 910                        50-54   \n",
       "2                                 784                        50-54   \n",
       "3                                 924                        22-24   \n",
       "4                                 575                        45-49   \n",
       "\n",
       "                                       Q2  \\\n",
       "0  What is your gender? - Selected Choice   \n",
       "1                                     Man   \n",
       "2                                     Man   \n",
       "3                                     Man   \n",
       "4                                     Man   \n",
       "\n",
       "                                          Q3  \\\n",
       "0  In which country do you currently reside?   \n",
       "1                                      India   \n",
       "2                                  Indonesia   \n",
       "3                                   Pakistan   \n",
       "4                                     Mexico   \n",
       "\n",
       "                                                  Q4  \\\n",
       "0  What is the highest level of formal education ...   \n",
       "1                                  Bachelor’s degree   \n",
       "2                                    Master’s degree   \n",
       "3                                    Master’s degree   \n",
       "4                                    Doctoral degree   \n",
       "\n",
       "                                                  Q5  \\\n",
       "0  Select the title most similar to your current ...   \n",
       "1                                              Other   \n",
       "2                            Program/Project Manager   \n",
       "3                                  Software Engineer   \n",
       "4                                 Research Scientist   \n",
       "\n",
       "                                                  Q6  \\\n",
       "0  For how many years have you been writing code ...   \n",
       "1                                         5-10 years   \n",
       "2                                          20+ years   \n",
       "3                                          1-3 years   \n",
       "4                                          20+ years   \n",
       "\n",
       "                                           Q7_Part_1  \\\n",
       "0  What programming languages do you use on a reg...   \n",
       "1                                             Python   \n",
       "2                                                NaN   \n",
       "3                                             Python   \n",
       "4                                             Python   \n",
       "\n",
       "                                           Q7_Part_2  \\\n",
       "0  What programming languages do you use on a reg...   \n",
       "1                                                  R   \n",
       "2                                                NaN   \n",
       "3                                                NaN   \n",
       "4                                                NaN   \n",
       "\n",
       "                                           Q7_Part_3  ...  \\\n",
       "0  What programming languages do you use on a reg...  ...   \n",
       "1                                                NaN  ...   \n",
       "2                                                SQL  ...   \n",
       "3                                                NaN  ...   \n",
       "4                                                NaN  ...   \n",
       "\n",
       "                                        Q38_B_Part_3  \\\n",
       "0  In the next 2 years, do you hope to become mor...   \n",
       "1                                                NaN   \n",
       "2                                                NaN   \n",
       "3                                                NaN   \n",
       "4                                                NaN   \n",
       "\n",
       "                                        Q38_B_Part_4  \\\n",
       "0  In the next 2 years, do you hope to become mor...   \n",
       "1                                                NaN   \n",
       "2                                                NaN   \n",
       "3                                                NaN   \n",
       "4                                                NaN   \n",
       "\n",
       "                                        Q38_B_Part_5  \\\n",
       "0  In the next 2 years, do you hope to become mor...   \n",
       "1                                                NaN   \n",
       "2                                                NaN   \n",
       "3                                       TensorBoard    \n",
       "4                                                NaN   \n",
       "\n",
       "                                        Q38_B_Part_6  \\\n",
       "0  In the next 2 years, do you hope to become mor...   \n",
       "1                                                NaN   \n",
       "2                                                NaN   \n",
       "3                                                NaN   \n",
       "4                                                NaN   \n",
       "\n",
       "                                        Q38_B_Part_7  \\\n",
       "0  In the next 2 years, do you hope to become mor...   \n",
       "1                                                NaN   \n",
       "2                                                NaN   \n",
       "3                                                NaN   \n",
       "4                                                NaN   \n",
       "\n",
       "                                        Q38_B_Part_8  \\\n",
       "0  In the next 2 years, do you hope to become mor...   \n",
       "1                                                NaN   \n",
       "2                                                NaN   \n",
       "3                                                NaN   \n",
       "4                                                NaN   \n",
       "\n",
       "                                        Q38_B_Part_9  \\\n",
       "0  In the next 2 years, do you hope to become mor...   \n",
       "1                                                NaN   \n",
       "2                                                NaN   \n",
       "3                                                NaN   \n",
       "4                                                NaN   \n",
       "\n",
       "                                       Q38_B_Part_10  \\\n",
       "0  In the next 2 years, do you hope to become mor...   \n",
       "1                                                NaN   \n",
       "2                                                NaN   \n",
       "3                                                NaN   \n",
       "4                                                NaN   \n",
       "\n",
       "                                       Q38_B_Part_11  \\\n",
       "0  In the next 2 years, do you hope to become mor...   \n",
       "1                                                NaN   \n",
       "2                                               None   \n",
       "3                                                NaN   \n",
       "4                                               None   \n",
       "\n",
       "                                         Q38_B_OTHER  \n",
       "0  In the next 2 years, do you hope to become mor...  \n",
       "1                                                NaN  \n",
       "2                                                NaN  \n",
       "3                                                NaN  \n",
       "4                                                NaN  \n",
       "\n",
       "[5 rows x 369 columns]"
      ]
     },
     "execution_count": 3,
     "metadata": {},
     "output_type": "execute_result"
    }
   ],
   "source": [
    "# first five rows\n",
    "data.head()"
   ]
  },
  {
   "cell_type": "code",
   "execution_count": 4,
   "id": "f6b30ac3",
   "metadata": {
    "execution": {
     "iopub.execute_input": "2022-07-06T20:15:10.507188Z",
     "iopub.status.busy": "2022-07-06T20:15:10.506425Z",
     "iopub.status.idle": "2022-07-06T20:15:10.513253Z",
     "shell.execute_reply": "2022-07-06T20:15:10.512068Z"
    },
    "papermill": {
     "duration": 0.019033,
     "end_time": "2022-07-06T20:15:10.515679",
     "exception": false,
     "start_time": "2022-07-06T20:15:10.496646",
     "status": "completed"
    },
    "tags": []
   },
   "outputs": [
    {
     "data": {
      "text/plain": [
       "(25974, 369)"
      ]
     },
     "execution_count": 4,
     "metadata": {},
     "output_type": "execute_result"
    }
   ],
   "source": [
    "# size of the dataset\n",
    "data.shape # 25973 rows, 369 columns"
   ]
  },
  {
   "cell_type": "code",
   "execution_count": 5,
   "id": "c6180812",
   "metadata": {
    "execution": {
     "iopub.execute_input": "2022-07-06T20:15:10.534329Z",
     "iopub.status.busy": "2022-07-06T20:15:10.533550Z",
     "iopub.status.idle": "2022-07-06T20:15:10.540406Z",
     "shell.execute_reply": "2022-07-06T20:15:10.539551Z"
    },
    "papermill": {
     "duration": 0.019133,
     "end_time": "2022-07-06T20:15:10.542950",
     "exception": false,
     "start_time": "2022-07-06T20:15:10.523817",
     "status": "completed"
    },
    "tags": []
   },
   "outputs": [],
   "source": [
    "def rename_columns(df):\n",
    "    \"\"\"\n",
    "    input: the dataset we want to rename the columns\n",
    "    output: combine the first row of the dataset into the original column\n",
    "    \"\"\"\n",
    "    original_columns = df.columns\n",
    "    num_col = df.shape[1]\n",
    "    first_row = df.iloc[0] #grab the first row for the header\n",
    "    df = df[1:] #take the data below the first row\n",
    "    # create a list containing new column names\n",
    "    new_cols = []\n",
    "    for col in range(num_col):\n",
    "        new_col_name = original_columns[col] + '_' + first_row[col]\n",
    "        new_cols.append(new_col_name)\n",
    "    df.columns = new_cols # assign the new column names to the dataset\n",
    "    return df"
   ]
  },
  {
   "cell_type": "code",
   "execution_count": 6,
   "id": "1dc64bde",
   "metadata": {
    "execution": {
     "iopub.execute_input": "2022-07-06T20:15:10.560074Z",
     "iopub.status.busy": "2022-07-06T20:15:10.559712Z",
     "iopub.status.idle": "2022-07-06T20:15:10.565815Z",
     "shell.execute_reply": "2022-07-06T20:15:10.564615Z"
    },
    "papermill": {
     "duration": 0.017724,
     "end_time": "2022-07-06T20:15:10.568485",
     "exception": false,
     "start_time": "2022-07-06T20:15:10.550761",
     "status": "completed"
    },
    "tags": []
   },
   "outputs": [],
   "source": [
    "def replace_nan(df):\n",
    "    \"\"\"\n",
    "    input:\n",
    "    df - the target dataset\n",
    "    \n",
    "    output:\n",
    "    a new dataset with nan values replaced as 0 and non-nan values replaced with 1\n",
    "    \"\"\"\n",
    "    array = np.where(df.isnull(),0,1)\n",
    "    df = pd.DataFrame(data=array, columns=df.columns)\n",
    "    \n",
    "    return df\n",
    "\n",
    "\n",
    "#role_data = replace_nan(role_question)"
   ]
  },
  {
   "cell_type": "code",
   "execution_count": 7,
   "id": "266cfb24",
   "metadata": {
    "execution": {
     "iopub.execute_input": "2022-07-06T20:15:10.586262Z",
     "iopub.status.busy": "2022-07-06T20:15:10.585867Z",
     "iopub.status.idle": "2022-07-06T20:15:10.594444Z",
     "shell.execute_reply": "2022-07-06T20:15:10.593195Z"
    },
    "papermill": {
     "duration": 0.020459,
     "end_time": "2022-07-06T20:15:10.597065",
     "exception": false,
     "start_time": "2022-07-06T20:15:10.576606",
     "status": "completed"
    },
    "tags": []
   },
   "outputs": [],
   "source": [
    "renamed_data = rename_columns(data)"
   ]
  },
  {
   "cell_type": "code",
   "execution_count": 8,
   "id": "25c1c321",
   "metadata": {
    "execution": {
     "iopub.execute_input": "2022-07-06T20:15:10.614982Z",
     "iopub.status.busy": "2022-07-06T20:15:10.614559Z",
     "iopub.status.idle": "2022-07-06T20:15:10.619793Z",
     "shell.execute_reply": "2022-07-06T20:15:10.618569Z"
    },
    "papermill": {
     "duration": 0.017001,
     "end_time": "2022-07-06T20:15:10.622138",
     "exception": false,
     "start_time": "2022-07-06T20:15:10.605137",
     "status": "completed"
    },
    "tags": []
   },
   "outputs": [],
   "source": [
    "demographic_data = renamed_data.iloc[: , 1:7]"
   ]
  },
  {
   "cell_type": "code",
   "execution_count": 9,
   "id": "ba72d7c4",
   "metadata": {
    "execution": {
     "iopub.execute_input": "2022-07-06T20:15:10.639781Z",
     "iopub.status.busy": "2022-07-06T20:15:10.639344Z",
     "iopub.status.idle": "2022-07-06T20:15:10.652164Z",
     "shell.execute_reply": "2022-07-06T20:15:10.650562Z"
    },
    "papermill": {
     "duration": 0.02448,
     "end_time": "2022-07-06T20:15:10.654612",
     "exception": false,
     "start_time": "2022-07-06T20:15:10.630132",
     "status": "completed"
    },
    "tags": []
   },
   "outputs": [
    {
     "name": "stderr",
     "output_type": "stream",
     "text": [
      "/opt/conda/lib/python3.7/site-packages/ipykernel_launcher.py:1: SettingWithCopyWarning: \n",
      "A value is trying to be set on a copy of a slice from a DataFrame.\n",
      "Try using .loc[row_indexer,col_indexer] = value instead\n",
      "\n",
      "See the caveats in the documentation: https://pandas.pydata.org/pandas-docs/stable/user_guide/indexing.html#returning-a-view-versus-a-copy\n",
      "  \"\"\"Entry point for launching an IPython kernel.\n"
     ]
    }
   ],
   "source": [
    "demographic_data['participant_id'] = range(0, demographic_data.shape[0])"
   ]
  },
  {
   "cell_type": "code",
   "execution_count": 10,
   "id": "a18695a8",
   "metadata": {
    "execution": {
     "iopub.execute_input": "2022-07-06T20:15:10.672609Z",
     "iopub.status.busy": "2022-07-06T20:15:10.672146Z",
     "iopub.status.idle": "2022-07-06T20:15:10.679096Z",
     "shell.execute_reply": "2022-07-06T20:15:10.677921Z"
    },
    "papermill": {
     "duration": 0.018884,
     "end_time": "2022-07-06T20:15:10.681808",
     "exception": false,
     "start_time": "2022-07-06T20:15:10.662924",
     "status": "completed"
    },
    "tags": []
   },
   "outputs": [],
   "source": [
    "def pivot_col(df, col , aggr = 'participant_id'):\n",
    "    \"\"\"\n",
    "    input:\n",
    "    df - target dataset\n",
    "    col - the column we want to pivot its value as new columns\n",
    "    aggr - the column we used to group by the dataset\n",
    "    \n",
    "    output:\n",
    "    return a pivoted dataframe where columns are value from the col of old dataframe\n",
    "    \"\"\"\n",
    "    \n",
    "    pivoted_df = df.pivot(index = aggr, columns=col, values=col).reset_index().iloc[: , 1:]\n",
    "    \n",
    "    return pivoted_df"
   ]
  },
  {
   "cell_type": "code",
   "execution_count": 11,
   "id": "fb56e6ba",
   "metadata": {
    "execution": {
     "iopub.execute_input": "2022-07-06T20:15:10.700254Z",
     "iopub.status.busy": "2022-07-06T20:15:10.699302Z",
     "iopub.status.idle": "2022-07-06T20:15:10.822665Z",
     "shell.execute_reply": "2022-07-06T20:15:10.821481Z"
    },
    "papermill": {
     "duration": 0.135476,
     "end_time": "2022-07-06T20:15:10.825320",
     "exception": false,
     "start_time": "2022-07-06T20:15:10.689844",
     "status": "completed"
    },
    "tags": []
   },
   "outputs": [
    {
     "data": {
      "text/html": [
       "<div>\n",
       "<style scoped>\n",
       "    .dataframe tbody tr th:only-of-type {\n",
       "        vertical-align: middle;\n",
       "    }\n",
       "\n",
       "    .dataframe tbody tr th {\n",
       "        vertical-align: top;\n",
       "    }\n",
       "\n",
       "    .dataframe thead th {\n",
       "        text-align: right;\n",
       "    }\n",
       "</style>\n",
       "<table border=\"1\" class=\"dataframe\">\n",
       "  <thead>\n",
       "    <tr style=\"text-align: right;\">\n",
       "      <th>Q1_What is your age (# years)?</th>\n",
       "      <th>18-21</th>\n",
       "      <th>22-24</th>\n",
       "      <th>25-29</th>\n",
       "      <th>30-34</th>\n",
       "      <th>35-39</th>\n",
       "      <th>40-44</th>\n",
       "      <th>45-49</th>\n",
       "      <th>50-54</th>\n",
       "      <th>55-59</th>\n",
       "      <th>60-69</th>\n",
       "      <th>70+</th>\n",
       "    </tr>\n",
       "  </thead>\n",
       "  <tbody>\n",
       "    <tr>\n",
       "      <th>0</th>\n",
       "      <td>NaN</td>\n",
       "      <td>NaN</td>\n",
       "      <td>NaN</td>\n",
       "      <td>NaN</td>\n",
       "      <td>NaN</td>\n",
       "      <td>NaN</td>\n",
       "      <td>NaN</td>\n",
       "      <td>50-54</td>\n",
       "      <td>NaN</td>\n",
       "      <td>NaN</td>\n",
       "      <td>NaN</td>\n",
       "    </tr>\n",
       "    <tr>\n",
       "      <th>1</th>\n",
       "      <td>NaN</td>\n",
       "      <td>NaN</td>\n",
       "      <td>NaN</td>\n",
       "      <td>NaN</td>\n",
       "      <td>NaN</td>\n",
       "      <td>NaN</td>\n",
       "      <td>NaN</td>\n",
       "      <td>50-54</td>\n",
       "      <td>NaN</td>\n",
       "      <td>NaN</td>\n",
       "      <td>NaN</td>\n",
       "    </tr>\n",
       "    <tr>\n",
       "      <th>2</th>\n",
       "      <td>NaN</td>\n",
       "      <td>22-24</td>\n",
       "      <td>NaN</td>\n",
       "      <td>NaN</td>\n",
       "      <td>NaN</td>\n",
       "      <td>NaN</td>\n",
       "      <td>NaN</td>\n",
       "      <td>NaN</td>\n",
       "      <td>NaN</td>\n",
       "      <td>NaN</td>\n",
       "      <td>NaN</td>\n",
       "    </tr>\n",
       "    <tr>\n",
       "      <th>3</th>\n",
       "      <td>NaN</td>\n",
       "      <td>NaN</td>\n",
       "      <td>NaN</td>\n",
       "      <td>NaN</td>\n",
       "      <td>NaN</td>\n",
       "      <td>NaN</td>\n",
       "      <td>45-49</td>\n",
       "      <td>NaN</td>\n",
       "      <td>NaN</td>\n",
       "      <td>NaN</td>\n",
       "      <td>NaN</td>\n",
       "    </tr>\n",
       "    <tr>\n",
       "      <th>4</th>\n",
       "      <td>NaN</td>\n",
       "      <td>NaN</td>\n",
       "      <td>NaN</td>\n",
       "      <td>NaN</td>\n",
       "      <td>NaN</td>\n",
       "      <td>NaN</td>\n",
       "      <td>45-49</td>\n",
       "      <td>NaN</td>\n",
       "      <td>NaN</td>\n",
       "      <td>NaN</td>\n",
       "      <td>NaN</td>\n",
       "    </tr>\n",
       "    <tr>\n",
       "      <th>...</th>\n",
       "      <td>...</td>\n",
       "      <td>...</td>\n",
       "      <td>...</td>\n",
       "      <td>...</td>\n",
       "      <td>...</td>\n",
       "      <td>...</td>\n",
       "      <td>...</td>\n",
       "      <td>...</td>\n",
       "      <td>...</td>\n",
       "      <td>...</td>\n",
       "      <td>...</td>\n",
       "    </tr>\n",
       "    <tr>\n",
       "      <th>25968</th>\n",
       "      <td>NaN</td>\n",
       "      <td>NaN</td>\n",
       "      <td>NaN</td>\n",
       "      <td>30-34</td>\n",
       "      <td>NaN</td>\n",
       "      <td>NaN</td>\n",
       "      <td>NaN</td>\n",
       "      <td>NaN</td>\n",
       "      <td>NaN</td>\n",
       "      <td>NaN</td>\n",
       "      <td>NaN</td>\n",
       "    </tr>\n",
       "    <tr>\n",
       "      <th>25969</th>\n",
       "      <td>NaN</td>\n",
       "      <td>22-24</td>\n",
       "      <td>NaN</td>\n",
       "      <td>NaN</td>\n",
       "      <td>NaN</td>\n",
       "      <td>NaN</td>\n",
       "      <td>NaN</td>\n",
       "      <td>NaN</td>\n",
       "      <td>NaN</td>\n",
       "      <td>NaN</td>\n",
       "      <td>NaN</td>\n",
       "    </tr>\n",
       "    <tr>\n",
       "      <th>25970</th>\n",
       "      <td>NaN</td>\n",
       "      <td>NaN</td>\n",
       "      <td>NaN</td>\n",
       "      <td>NaN</td>\n",
       "      <td>NaN</td>\n",
       "      <td>NaN</td>\n",
       "      <td>NaN</td>\n",
       "      <td>50-54</td>\n",
       "      <td>NaN</td>\n",
       "      <td>NaN</td>\n",
       "      <td>NaN</td>\n",
       "    </tr>\n",
       "    <tr>\n",
       "      <th>25971</th>\n",
       "      <td>NaN</td>\n",
       "      <td>NaN</td>\n",
       "      <td>NaN</td>\n",
       "      <td>NaN</td>\n",
       "      <td>NaN</td>\n",
       "      <td>NaN</td>\n",
       "      <td>45-49</td>\n",
       "      <td>NaN</td>\n",
       "      <td>NaN</td>\n",
       "      <td>NaN</td>\n",
       "      <td>NaN</td>\n",
       "    </tr>\n",
       "    <tr>\n",
       "      <th>25972</th>\n",
       "      <td>18-21</td>\n",
       "      <td>NaN</td>\n",
       "      <td>NaN</td>\n",
       "      <td>NaN</td>\n",
       "      <td>NaN</td>\n",
       "      <td>NaN</td>\n",
       "      <td>NaN</td>\n",
       "      <td>NaN</td>\n",
       "      <td>NaN</td>\n",
       "      <td>NaN</td>\n",
       "      <td>NaN</td>\n",
       "    </tr>\n",
       "  </tbody>\n",
       "</table>\n",
       "<p>25973 rows × 11 columns</p>\n",
       "</div>"
      ],
      "text/plain": [
       "Q1_What is your age (# years)?  18-21  22-24 25-29  30-34 35-39 40-44  45-49  \\\n",
       "0                                 NaN    NaN   NaN    NaN   NaN   NaN    NaN   \n",
       "1                                 NaN    NaN   NaN    NaN   NaN   NaN    NaN   \n",
       "2                                 NaN  22-24   NaN    NaN   NaN   NaN    NaN   \n",
       "3                                 NaN    NaN   NaN    NaN   NaN   NaN  45-49   \n",
       "4                                 NaN    NaN   NaN    NaN   NaN   NaN  45-49   \n",
       "...                               ...    ...   ...    ...   ...   ...    ...   \n",
       "25968                             NaN    NaN   NaN  30-34   NaN   NaN    NaN   \n",
       "25969                             NaN  22-24   NaN    NaN   NaN   NaN    NaN   \n",
       "25970                             NaN    NaN   NaN    NaN   NaN   NaN    NaN   \n",
       "25971                             NaN    NaN   NaN    NaN   NaN   NaN  45-49   \n",
       "25972                           18-21    NaN   NaN    NaN   NaN   NaN    NaN   \n",
       "\n",
       "Q1_What is your age (# years)?  50-54 55-59 60-69  70+  \n",
       "0                               50-54   NaN   NaN  NaN  \n",
       "1                               50-54   NaN   NaN  NaN  \n",
       "2                                 NaN   NaN   NaN  NaN  \n",
       "3                                 NaN   NaN   NaN  NaN  \n",
       "4                                 NaN   NaN   NaN  NaN  \n",
       "...                               ...   ...   ...  ...  \n",
       "25968                             NaN   NaN   NaN  NaN  \n",
       "25969                             NaN   NaN   NaN  NaN  \n",
       "25970                           50-54   NaN   NaN  NaN  \n",
       "25971                             NaN   NaN   NaN  NaN  \n",
       "25972                             NaN   NaN   NaN  NaN  \n",
       "\n",
       "[25973 rows x 11 columns]"
      ]
     },
     "execution_count": 11,
     "metadata": {},
     "output_type": "execute_result"
    }
   ],
   "source": [
    "pivot_col(demographic_data, \"Q1_What is your age (# years)?\")\n",
    "\n",
    "piv = pivot_col(demographic_data, \"Q1_What is your age (# years)?\")\n",
    "\n",
    "pivot_col(demographic_data, \"Q1_What is your age (# years)?\")\n"
   ]
  },
  {
   "cell_type": "code",
   "execution_count": 12,
   "id": "60d5fa2f",
   "metadata": {
    "execution": {
     "iopub.execute_input": "2022-07-06T20:15:10.845311Z",
     "iopub.status.busy": "2022-07-06T20:15:10.844918Z",
     "iopub.status.idle": "2022-07-06T20:15:11.349045Z",
     "shell.execute_reply": "2022-07-06T20:15:11.347607Z"
    },
    "papermill": {
     "duration": 0.517845,
     "end_time": "2022-07-06T20:15:11.351990",
     "exception": false,
     "start_time": "2022-07-06T20:15:10.834145",
     "status": "completed"
    },
    "tags": []
   },
   "outputs": [],
   "source": [
    "def pivot_df(df, var_cols, aggr = 'participant_id'):\n",
    "    \"\"\"\n",
    "    input:\n",
    "    df - targer dataframe\n",
    "    var_cols - a list of column names we want to pivot\n",
    "    aggr - the column we used to group by the dataset\n",
    "        \n",
    "    output:\n",
    "    return a dataframe where each column comes from value of each col of old dataframe\n",
    "    NaN value replaced with 0 while non-NaN value replaced with 1\n",
    "    \"\"\"\n",
    "    \n",
    "    pivoted_df = []\n",
    "    for col in var_cols:\n",
    "        pivoted = pivot_col(demographic_data, col, aggr)\n",
    "        pivoted_df.append(pivoted)\n",
    "        #pivoted_df = pd.merge(pivoted, pivoted, left_index=True, right_index=True)  \n",
    "    pivoted_df = pd.concat(pivoted_df, axis=1, ignore_index=False)\n",
    "    pivoted_df = replace_nan(pivoted_df)\n",
    "    #pivoted_df['participant_id'] = pivoted_df.index\n",
    "    return pivoted_df\n",
    "demo_matrix = pivot_df(demographic_data, demographic_data.columns[:-1])"
   ]
  },
  {
   "cell_type": "code",
   "execution_count": 13,
   "id": "b3495fb0",
   "metadata": {
    "execution": {
     "iopub.execute_input": "2022-07-06T20:15:11.371768Z",
     "iopub.status.busy": "2022-07-06T20:15:11.370683Z",
     "iopub.status.idle": "2022-07-06T20:22:11.866226Z",
     "shell.execute_reply": "2022-07-06T20:22:11.864820Z"
    },
    "papermill": {
     "duration": 420.508493,
     "end_time": "2022-07-06T20:22:11.869391",
     "exception": false,
     "start_time": "2022-07-06T20:15:11.360898",
     "status": "completed"
    },
    "tags": []
   },
   "outputs": [],
   "source": [
    "#demo_matrix\n",
    "participant_matrix = demo_matrix.dot(np.transpose(demo_matrix))"
   ]
  },
  {
   "cell_type": "code",
   "execution_count": 14,
   "id": "0e2b5b22",
   "metadata": {
    "execution": {
     "iopub.execute_input": "2022-07-06T20:22:11.889622Z",
     "iopub.status.busy": "2022-07-06T20:22:11.889175Z",
     "iopub.status.idle": "2022-07-06T20:22:11.896411Z",
     "shell.execute_reply": "2022-07-06T20:22:11.894763Z"
    },
    "papermill": {
     "duration": 0.020325,
     "end_time": "2022-07-06T20:22:11.899033",
     "exception": false,
     "start_time": "2022-07-06T20:22:11.878708",
     "status": "completed"
    },
    "tags": []
   },
   "outputs": [],
   "source": [
    "def closest_participant(participant_id, participant_matrix):\n",
    "    \"\"\"\n",
    "    input:\n",
    "    participant_id - target participant\n",
    "    participant_matrix - matrix where shows the similarity between each participant\n",
    "    \n",
    "    output - the list of participants other than the target participant, ranked by similarity\n",
    "    \"\"\"\n",
    "    participant_list = participant_matrix[[participant_id]]\n",
    "    participant_list = participant_list.sort_values(by = participant_id, ascending = False)\n",
    "    \n",
    "    return list(participant_list[participant_id][1:])"
   ]
  },
  {
   "cell_type": "code",
   "execution_count": 15,
   "id": "3534f176",
   "metadata": {
    "execution": {
     "iopub.execute_input": "2022-07-06T20:22:11.917659Z",
     "iopub.status.busy": "2022-07-06T20:22:11.917212Z",
     "iopub.status.idle": "2022-07-06T20:22:11.926220Z",
     "shell.execute_reply": "2022-07-06T20:22:11.924957Z"
    },
    "papermill": {
     "duration": 0.02149,
     "end_time": "2022-07-06T20:22:11.928848",
     "exception": false,
     "start_time": "2022-07-06T20:22:11.907358",
     "status": "completed"
    },
    "tags": []
   },
   "outputs": [],
   "source": [
    "def compute_correlation(df, user1, user2):\n",
    "    '''\n",
    "    INPUT\n",
    "    user1 - int user_id\n",
    "    user2 - int user_id\n",
    "    df - dataset where is a matrix of user and their pivoted answer columns\n",
    "    OUTPUT\n",
    "    the correlation between the matching ratings between the two users\n",
    "    '''\n",
    "    answer_1 = list(df.loc[df.index == user1].iloc[0])\n",
    "    answer_2 = list(df.loc[df.index == user2].iloc[0])\n",
    "    \n",
    "    dot_product = np.vdot(answer_1, answer_2)\n",
    "    \n",
    "    return dot_product #return the correlation"
   ]
  },
  {
   "cell_type": "code",
   "execution_count": 16,
   "id": "4c47087d",
   "metadata": {
    "execution": {
     "iopub.execute_input": "2022-07-06T20:22:11.948698Z",
     "iopub.status.busy": "2022-07-06T20:22:11.947528Z",
     "iopub.status.idle": "2022-07-06T20:22:11.956939Z",
     "shell.execute_reply": "2022-07-06T20:22:11.955803Z"
    },
    "papermill": {
     "duration": 0.022278,
     "end_time": "2022-07-06T20:22:11.959486",
     "exception": false,
     "start_time": "2022-07-06T20:22:11.937208",
     "status": "completed"
    },
    "tags": []
   },
   "outputs": [
    {
     "data": {
      "text/plain": [
       "\"\\nds_data = subset_data(renamed_data, \\n           'Q5_Select the title most similar to your current role (or most recent title if retired): - Selected Choice',\\n           'Data Scientist')\\n\""
      ]
     },
     "execution_count": 16,
     "metadata": {},
     "output_type": "execute_result"
    }
   ],
   "source": [
    "def subset_data(df, col, criteria):\n",
    "    \"\"\"\n",
    "    input:\n",
    "    df: the dataset we want to subset from\n",
    "    col: target columns as the filter\n",
    "    criteria: value to feed the filter\n",
    "    \n",
    "    output:\n",
    "    a new dataset which is a subset of the original one\n",
    "    \"\"\"\n",
    "    \n",
    "    new_df = df.loc[df[col] == criteria]\n",
    "    \n",
    "    return new_df\n",
    "\"\"\"\n",
    "ds_data = subset_data(renamed_data, \n",
    "           'Q5_Select the title most similar to your current role (or most recent title if retired): - Selected Choice',\n",
    "           'Data Scientist')\n",
    "\"\"\""
   ]
  },
  {
   "cell_type": "code",
   "execution_count": 17,
   "id": "0b18cbee",
   "metadata": {
    "execution": {
     "iopub.execute_input": "2022-07-06T20:22:11.978902Z",
     "iopub.status.busy": "2022-07-06T20:22:11.978525Z",
     "iopub.status.idle": "2022-07-06T20:22:11.987131Z",
     "shell.execute_reply": "2022-07-06T20:22:11.985955Z"
    },
    "papermill": {
     "duration": 0.021584,
     "end_time": "2022-07-06T20:22:11.989748",
     "exception": false,
     "start_time": "2022-07-06T20:22:11.968164",
     "status": "completed"
    },
    "tags": []
   },
   "outputs": [],
   "source": [
    "def question_columns(df, query, method = 'strict'):\n",
    "    \"\"\"\n",
    "    input: \n",
    "    df - target dataset\n",
    "    query - str, query we want to find relevant infomation in the dataset. e.g. 'Q7', or 'machine learning' \n",
    "    \n",
    "    output:\n",
    "    a subset of data which include the columns of the query in interest\n",
    "    \n",
    "    method:\n",
    "    if it == strict, which means we will look for the question exactly EQUALS to the query. e.g. if we search 'age', then 'language' won't\n",
    "    be taken into account in this case;\n",
    "    \n",
    "    if it == loose, which means we will look for the question exactly CONTAINS the query. e.g. if we search 'age', then 'language' will\n",
    "    be taken into account in this case.\n",
    "    \"\"\"\n",
    "    columns = df.columns\n",
    "    question_col = []\n",
    "    for col in columns:\n",
    "        if method == 'strict':\n",
    "            col_parts = col.lower().split() # each column name will be separated into single word tokens at first\n",
    "            if query.lower() in col_parts:\n",
    "                question_col.append(col)\n",
    "        elif method == 'loose':\n",
    "            if query.lower() in col.lower():\n",
    "                question_col.append(col)\n",
    "    return df[question_col]"
   ]
  },
  {
   "cell_type": "markdown",
   "id": "b79f72fb",
   "metadata": {
    "papermill": {
     "duration": 0.008034,
     "end_time": "2022-07-06T20:22:12.006194",
     "exception": false,
     "start_time": "2022-07-06T20:22:11.998160",
     "status": "completed"
    },
    "tags": []
   },
   "source": [
    "## What questions we want to ask here?\n",
    "1. How many types of data scientists based on activity they usually do?\n",
    "2. Which skill each type emphasizes at?\n",
    "3. Which platform/tools each type emphazies at?\n",
    "4. Demographic segmentation of each type?\n",
    "5. Profession segmentation of each type?"
   ]
  },
  {
   "cell_type": "code",
   "execution_count": 18,
   "id": "834357e7",
   "metadata": {
    "execution": {
     "iopub.execute_input": "2022-07-06T20:22:12.025125Z",
     "iopub.status.busy": "2022-07-06T20:22:12.024755Z",
     "iopub.status.idle": "2022-07-06T20:22:12.029594Z",
     "shell.execute_reply": "2022-07-06T20:22:12.028217Z"
    },
    "papermill": {
     "duration": 0.017324,
     "end_time": "2022-07-06T20:22:12.032029",
     "exception": false,
     "start_time": "2022-07-06T20:22:12.014705",
     "status": "completed"
    },
    "tags": []
   },
   "outputs": [],
   "source": [
    "#feature_data = role_data.iloc[: , 1:]"
   ]
  },
  {
   "cell_type": "code",
   "execution_count": 19,
   "id": "29ec5f60",
   "metadata": {
    "execution": {
     "iopub.execute_input": "2022-07-06T20:22:12.050636Z",
     "iopub.status.busy": "2022-07-06T20:22:12.050230Z",
     "iopub.status.idle": "2022-07-06T20:22:12.058354Z",
     "shell.execute_reply": "2022-07-06T20:22:12.057160Z"
    },
    "papermill": {
     "duration": 0.020071,
     "end_time": "2022-07-06T20:22:12.060654",
     "exception": false,
     "start_time": "2022-07-06T20:22:12.040583",
     "status": "completed"
    },
    "tags": []
   },
   "outputs": [],
   "source": [
    "def kmeans_cluster_opt(df, init = 'k-means++', max_num_cluster = 9):\n",
    "    \"\"\"\n",
    "    input: \n",
    "    df - the dataset we want to segments into cluster\n",
    "    init - the way we want to initialize the starting centroid\n",
    "    max_num_cluster - the max number of cluster\n",
    "    \n",
    "    output:\n",
    "    a visualization showing the line graph indicating the optimal number of klusters, based on inertias value\n",
    "    \"\"\"\n",
    "    num_clusters = list(range(1, max_num_cluster))\n",
    "    inertias = []\n",
    "\n",
    "    for k in num_clusters:\n",
    "        model = KMeans(init=init, n_clusters=k, random_state = 42)\n",
    "        model.fit(df)\n",
    "        inertias.append(model.inertia_)\n",
    "\n",
    "    \n",
    "    plt.plot(num_clusters, inertias, '-o')\n",
    "\n",
    "    plt.xlabel('number of clusters (k)')\n",
    "    plt.ylabel('inertia')\n",
    "\n",
    "    plt.show()"
   ]
  },
  {
   "cell_type": "code",
   "execution_count": 20,
   "id": "d8813bac",
   "metadata": {
    "execution": {
     "iopub.execute_input": "2022-07-06T20:22:12.078865Z",
     "iopub.status.busy": "2022-07-06T20:22:12.078485Z",
     "iopub.status.idle": "2022-07-06T20:22:12.083389Z",
     "shell.execute_reply": "2022-07-06T20:22:12.081987Z"
    },
    "papermill": {
     "duration": 0.017082,
     "end_time": "2022-07-06T20:22:12.085989",
     "exception": false,
     "start_time": "2022-07-06T20:22:12.068907",
     "status": "completed"
    },
    "tags": []
   },
   "outputs": [],
   "source": [
    "#kmeans_cluster_opt(feature_data)"
   ]
  },
  {
   "cell_type": "code",
   "execution_count": 21,
   "id": "491423e4",
   "metadata": {
    "execution": {
     "iopub.execute_input": "2022-07-06T20:22:12.105102Z",
     "iopub.status.busy": "2022-07-06T20:22:12.104275Z",
     "iopub.status.idle": "2022-07-06T20:22:12.110369Z",
     "shell.execute_reply": "2022-07-06T20:22:12.109459Z"
    },
    "papermill": {
     "duration": 0.018129,
     "end_time": "2022-07-06T20:22:12.112683",
     "exception": false,
     "start_time": "2022-07-06T20:22:12.094554",
     "status": "completed"
    },
    "tags": []
   },
   "outputs": [],
   "source": [
    "def kmeans_predict(df, init = 'k-means++', n_clusters = 4):\n",
    "    \"\"\"\n",
    "    input:\n",
    "    df - dataset we want to segment into clusters\n",
    "    init - the way we want to initialize the starting centroid\n",
    "    n_clusters - the number of cluster\n",
    "    \n",
    "    output:\n",
    "    labels - return an array of predictions on the cluster label of given features\n",
    "    centers - centroid values of each cluster\n",
    "    \"\"\"\n",
    "    model = KMeans(init=init, n_clusters = n_clusters, random_state = 42)\n",
    "\n",
    "    model.fit(df)\n",
    "\n",
    "    labels = model.predict(df)\n",
    "    \n",
    "    centers = np.array(model.cluster_centers_)\n",
    "    \n",
    "    return labels, centers"
   ]
  },
  {
   "cell_type": "code",
   "execution_count": null,
   "id": "a4762646",
   "metadata": {
    "papermill": {
     "duration": 0.007962,
     "end_time": "2022-07-06T20:22:12.128863",
     "exception": false,
     "start_time": "2022-07-06T20:22:12.120901",
     "status": "completed"
    },
    "tags": []
   },
   "outputs": [],
   "source": []
  },
  {
   "cell_type": "code",
   "execution_count": null,
   "id": "f7270d48",
   "metadata": {
    "papermill": {
     "duration": 0.008512,
     "end_time": "2022-07-06T20:22:12.146056",
     "exception": false,
     "start_time": "2022-07-06T20:22:12.137544",
     "status": "completed"
    },
    "tags": []
   },
   "outputs": [],
   "source": []
  }
 ],
 "metadata": {
  "kernelspec": {
   "display_name": "Python 3",
   "language": "python",
   "name": "python3"
  },
  "language_info": {
   "codemirror_mode": {
    "name": "ipython",
    "version": 3
   },
   "file_extension": ".py",
   "mimetype": "text/x-python",
   "name": "python",
   "nbconvert_exporter": "python",
   "pygments_lexer": "ipython3",
   "version": "3.7.12"
  },
  "papermill": {
   "default_parameters": {},
   "duration": 439.229299,
   "end_time": "2022-07-06T20:22:12.978068",
   "environment_variables": {},
   "exception": null,
   "input_path": "__notebook__.ipynb",
   "output_path": "__notebook__.ipynb",
   "parameters": {},
   "start_time": "2022-07-06T20:14:53.748769",
   "version": "2.3.4"
  }
 },
 "nbformat": 4,
 "nbformat_minor": 5
}
